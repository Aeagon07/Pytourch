{
  "nbformat": 4,
  "nbformat_minor": 0,
  "metadata": {
    "colab": {
      "provenance": [],
      "authorship_tag": "ABX9TyOoREr78n3bRW2qc/guuV4Q",
      "include_colab_link": true
    },
    "kernelspec": {
      "name": "python3",
      "display_name": "Python 3"
    },
    "language_info": {
      "name": "python"
    }
  },
  "cells": [
    {
      "cell_type": "markdown",
      "metadata": {
        "id": "view-in-github",
        "colab_type": "text"
      },
      "source": [
        "<a href=\"https://colab.research.google.com/github/Aeagon07/Pytourch/blob/main/Dataset_and_Dataloader.ipynb\" target=\"_parent\"><img src=\"https://colab.research.google.com/assets/colab-badge.svg\" alt=\"Open In Colab\"/></a>"
      ]
    },
    {
      "cell_type": "code",
      "execution_count": 3,
      "metadata": {
        "id": "DKHoFVJkmwca"
      },
      "outputs": [],
      "source": [
        "from sklearn.datasets import make_classification\n",
        "import torch"
      ]
    },
    {
      "cell_type": "code",
      "source": [
        "#  Creating synthestic data\n",
        "x, y = make_classification(\n",
        "    n_samples=10,       # Number of samples\n",
        "    n_features=2,       # Number of feature\n",
        "    n_informative=2,    # Number of informative feature\n",
        "    n_redundant=0,      # Number of redundant feature\n",
        "    n_classes=2,        # Number of classes\n",
        "    random_state=42     # For reproducibility\n",
        ")"
      ],
      "metadata": {
        "id": "YFIKiG1BFxUU"
      },
      "execution_count": 4,
      "outputs": []
    },
    {
      "cell_type": "code",
      "source": [
        "x"
      ],
      "metadata": {
        "id": "v7qPkrYEHaer",
        "colab": {
          "base_uri": "https://localhost:8080/"
        },
        "outputId": "432fefc5-b5b5-4372-cc0b-e13c97cb1fdd"
      },
      "execution_count": 5,
      "outputs": [
        {
          "output_type": "execute_result",
          "data": {
            "text/plain": [
              "array([[ 1.06833894, -0.97007347],\n",
              "       [-1.14021544, -0.83879234],\n",
              "       [-2.8953973 ,  1.97686236],\n",
              "       [-0.72063436, -0.96059253],\n",
              "       [-1.96287438, -0.99225135],\n",
              "       [-0.9382051 , -0.54304815],\n",
              "       [ 1.72725924, -1.18582677],\n",
              "       [ 1.77736657,  1.51157598],\n",
              "       [ 1.89969252,  0.83444483],\n",
              "       [-0.58723065, -1.97171753]])"
            ]
          },
          "metadata": {},
          "execution_count": 5
        }
      ]
    },
    {
      "cell_type": "code",
      "source": [
        "x.shape"
      ],
      "metadata": {
        "colab": {
          "base_uri": "https://localhost:8080/"
        },
        "id": "wO9h0P1lH8xh",
        "outputId": "73c8632e-308f-4573-9e24-98f7d4b06f7a"
      },
      "execution_count": 6,
      "outputs": [
        {
          "output_type": "execute_result",
          "data": {
            "text/plain": [
              "(10, 2)"
            ]
          },
          "metadata": {},
          "execution_count": 6
        }
      ]
    },
    {
      "cell_type": "code",
      "source": [
        "y"
      ],
      "metadata": {
        "colab": {
          "base_uri": "https://localhost:8080/"
        },
        "id": "Q43qOJtIICXE",
        "outputId": "f570f6f6-1350-4e13-fc19-f9ff54623969"
      },
      "execution_count": 7,
      "outputs": [
        {
          "output_type": "execute_result",
          "data": {
            "text/plain": [
              "array([1, 0, 0, 0, 0, 1, 1, 1, 1, 0])"
            ]
          },
          "metadata": {},
          "execution_count": 7
        }
      ]
    },
    {
      "cell_type": "code",
      "source": [
        "y.shape"
      ],
      "metadata": {
        "colab": {
          "base_uri": "https://localhost:8080/"
        },
        "id": "1r0XdEnjIDpb",
        "outputId": "78d0a109-23d0-43fc-fd0e-6cc792bc0d15"
      },
      "execution_count": 8,
      "outputs": [
        {
          "output_type": "execute_result",
          "data": {
            "text/plain": [
              "(10,)"
            ]
          },
          "metadata": {},
          "execution_count": 8
        }
      ]
    },
    {
      "cell_type": "code",
      "source": [
        "# convert it into the tensors\n",
        "X = torch.tensor(x, dtype=torch.float32)\n",
        "Y = torch.tensor(y, dtype=torch.float32)"
      ],
      "metadata": {
        "id": "yVromkl4IFHa"
      },
      "execution_count": 9,
      "outputs": []
    },
    {
      "cell_type": "code",
      "source": [
        "X"
      ],
      "metadata": {
        "colab": {
          "base_uri": "https://localhost:8080/"
        },
        "id": "eqXP4r7OINnz",
        "outputId": "aca270e0-1efb-4896-e37d-13b20576021b"
      },
      "execution_count": 10,
      "outputs": [
        {
          "output_type": "execute_result",
          "data": {
            "text/plain": [
              "tensor([[ 1.0683, -0.9701],\n",
              "        [-1.1402, -0.8388],\n",
              "        [-2.8954,  1.9769],\n",
              "        [-0.7206, -0.9606],\n",
              "        [-1.9629, -0.9923],\n",
              "        [-0.9382, -0.5430],\n",
              "        [ 1.7273, -1.1858],\n",
              "        [ 1.7774,  1.5116],\n",
              "        [ 1.8997,  0.8344],\n",
              "        [-0.5872, -1.9717]])"
            ]
          },
          "metadata": {},
          "execution_count": 10
        }
      ]
    },
    {
      "cell_type": "code",
      "source": [
        "Y"
      ],
      "metadata": {
        "colab": {
          "base_uri": "https://localhost:8080/"
        },
        "id": "_DTKXe9xIPTs",
        "outputId": "45d304bf-9f8d-468d-b64f-e340d5bec30c"
      },
      "execution_count": 15,
      "outputs": [
        {
          "output_type": "execute_result",
          "data": {
            "text/plain": [
              "tensor([1., 0., 0., 0., 0., 1., 1., 1., 1., 0.])"
            ]
          },
          "metadata": {},
          "execution_count": 15
        }
      ]
    },
    {
      "cell_type": "code",
      "source": [
        "# Now\n",
        "from torch.utils.data import Dataset, DataLoader"
      ],
      "metadata": {
        "id": "YOHUPJ2aIQAZ"
      },
      "execution_count": 16,
      "outputs": []
    },
    {
      "cell_type": "code",
      "source": [
        "class custDataSet(Dataset):\n",
        "  def __init__(self, features, labels):\n",
        "    super().__init__()\n",
        "\n",
        "    self.feature = features\n",
        "    self.label = labels\n",
        "\n",
        "  def __len__(self):\n",
        "    return self.feature.shape[0]\n",
        "\n",
        "  def __getitem__(self, index):\n",
        "    return self.feature[index], self.label[index]"
      ],
      "metadata": {
        "id": "n1tA5ah6IVZl"
      },
      "execution_count": 14,
      "outputs": []
    },
    {
      "cell_type": "code",
      "source": [
        "dataset = custDataSet(X, Y)"
      ],
      "metadata": {
        "id": "XlPBl0BTJPLd"
      },
      "execution_count": 17,
      "outputs": []
    },
    {
      "cell_type": "code",
      "source": [
        "len(dataset)"
      ],
      "metadata": {
        "colab": {
          "base_uri": "https://localhost:8080/"
        },
        "id": "RNSDbCLgJeX4",
        "outputId": "84360097-8400-4206-a404-beedd20e021f"
      },
      "execution_count": 18,
      "outputs": [
        {
          "output_type": "execute_result",
          "data": {
            "text/plain": [
              "10"
            ]
          },
          "metadata": {},
          "execution_count": 18
        }
      ]
    },
    {
      "cell_type": "code",
      "source": [
        "dataset[0]"
      ],
      "metadata": {
        "colab": {
          "base_uri": "https://localhost:8080/"
        },
        "id": "HeXk3iWnJrgh",
        "outputId": "c6490cc3-67d5-491b-f309-295e8de52b1d"
      },
      "execution_count": 19,
      "outputs": [
        {
          "output_type": "execute_result",
          "data": {
            "text/plain": [
              "(tensor([ 1.0683, -0.9701]), tensor(1.))"
            ]
          },
          "metadata": {},
          "execution_count": 19
        }
      ]
    },
    {
      "cell_type": "code",
      "source": [
        "#  Now we craete the object of the dataloader class\n",
        "dataloader = DataLoader(dataset, batch_size=2, shuffle=True)\n",
        "# this is dataloader is itterable so you can loop through"
      ],
      "metadata": {
        "id": "0tXc_BGAJvz8"
      },
      "execution_count": 20,
      "outputs": []
    },
    {
      "cell_type": "code",
      "source": [
        "for batch_features, batch_label in dataloader:\n",
        "  print(batch_features)\n",
        "  print(batch_label)\n",
        "  print(\"-\" * 50)"
      ],
      "metadata": {
        "colab": {
          "base_uri": "https://localhost:8080/"
        },
        "id": "hH31hejDKE1N",
        "outputId": "a30893e3-a292-4308-d3d0-fdad60061f56"
      },
      "execution_count": 21,
      "outputs": [
        {
          "output_type": "stream",
          "name": "stdout",
          "text": [
            "tensor([[-1.9629, -0.9923],\n",
            "        [-0.7206, -0.9606]])\n",
            "tensor([0., 0.])\n",
            "--------------------------------------------------\n",
            "tensor([[-2.8954,  1.9769],\n",
            "        [-1.1402, -0.8388]])\n",
            "tensor([0., 0.])\n",
            "--------------------------------------------------\n",
            "tensor([[ 1.7273, -1.1858],\n",
            "        [-0.9382, -0.5430]])\n",
            "tensor([1., 1.])\n",
            "--------------------------------------------------\n",
            "tensor([[1.8997, 0.8344],\n",
            "        [1.7774, 1.5116]])\n",
            "tensor([1., 1.])\n",
            "--------------------------------------------------\n",
            "tensor([[ 1.0683, -0.9701],\n",
            "        [-0.5872, -1.9717]])\n",
            "tensor([1., 0.])\n",
            "--------------------------------------------------\n"
          ]
        }
      ]
    }
  ]
}