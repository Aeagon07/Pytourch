{
  "nbformat": 4,
  "nbformat_minor": 0,
  "metadata": {
    "colab": {
      "provenance": [],
      "authorship_tag": "ABX9TyNiwsPi/oUVWp+9iN0vhIKZ",
      "include_colab_link": true
    },
    "kernelspec": {
      "name": "python3",
      "display_name": "Python 3"
    },
    "language_info": {
      "name": "python"
    }
  },
  "cells": [
    {
      "cell_type": "markdown",
      "metadata": {
        "id": "view-in-github",
        "colab_type": "text"
      },
      "source": [
        "<a href=\"https://colab.research.google.com/github/Aeagon07/Pytourch/blob/main/Optuna_Intro.ipynb\" target=\"_parent\"><img src=\"https://colab.research.google.com/assets/colab-badge.svg\" alt=\"Open In Colab\"/></a>"
      ]
    },
    {
      "cell_type": "code",
      "execution_count": 37,
      "metadata": {
        "colab": {
          "base_uri": "https://localhost:8080/"
        },
        "id": "ge-oH4Jhp0yJ",
        "outputId": "13704805-97de-43f8-f4f6-cdc146e0c111"
      },
      "outputs": [
        {
          "output_type": "stream",
          "name": "stdout",
          "text": [
            "Requirement already satisfied: optuna in /usr/local/lib/python3.12/dist-packages (4.5.0)\n",
            "Requirement already satisfied: alembic>=1.5.0 in /usr/local/lib/python3.12/dist-packages (from optuna) (1.16.5)\n",
            "Requirement already satisfied: colorlog in /usr/local/lib/python3.12/dist-packages (from optuna) (6.9.0)\n",
            "Requirement already satisfied: numpy in /usr/local/lib/python3.12/dist-packages (from optuna) (2.0.2)\n",
            "Requirement already satisfied: packaging>=20.0 in /usr/local/lib/python3.12/dist-packages (from optuna) (25.0)\n",
            "Requirement already satisfied: sqlalchemy>=1.4.2 in /usr/local/lib/python3.12/dist-packages (from optuna) (2.0.43)\n",
            "Requirement already satisfied: tqdm in /usr/local/lib/python3.12/dist-packages (from optuna) (4.67.1)\n",
            "Requirement already satisfied: PyYAML in /usr/local/lib/python3.12/dist-packages (from optuna) (6.0.3)\n",
            "Requirement already satisfied: Mako in /usr/local/lib/python3.12/dist-packages (from alembic>=1.5.0->optuna) (1.3.10)\n",
            "Requirement already satisfied: typing-extensions>=4.12 in /usr/local/lib/python3.12/dist-packages (from alembic>=1.5.0->optuna) (4.15.0)\n",
            "Requirement already satisfied: greenlet>=1 in /usr/local/lib/python3.12/dist-packages (from sqlalchemy>=1.4.2->optuna) (3.2.4)\n",
            "Requirement already satisfied: MarkupSafe>=0.9.2 in /usr/local/lib/python3.12/dist-packages (from Mako->alembic>=1.5.0->optuna) (3.0.3)\n"
          ]
        }
      ],
      "source": [
        "!pip install optuna"
      ]
    },
    {
      "cell_type": "code",
      "source": [
        "# Import Neccessary Libraries\n",
        "import optuna\n",
        "from sklearn.datasets import load_diabetes\n",
        "from sklearn.model_selection import train_test_split\n",
        "from sklearn.preprocessing import StandardScaler\n",
        "\n",
        "# Load the Pima Indian Diabetes dataset from sklearn\n",
        "# Note: 'Sciket-learns' build in 'load_diabetes' is regression model\n",
        "# we will loaad the actual diabeties dataset  from external sources\n",
        "\n",
        "import pandas as pd\n",
        "\n",
        "# Import the datasets\n",
        "url = \"https://raw.githubusercontent.com/jbrownlee/Datasets/master/pima-indians-diabetes.data.csv\"\n",
        "columns = ['Pregnancies', 'Glucose', 'BloodPressure', 'SkinThickness', 'Insulin', 'BMI',\n",
        "           'DiabetesPedigreeFunction', 'Age', 'Outcome']\n",
        "\n",
        "# Load the dataset\n",
        "df = pd.read_csv(url, names=columns)\n",
        "\n",
        "df.head()"
      ],
      "metadata": {
        "colab": {
          "base_uri": "https://localhost:8080/",
          "height": 206
        },
        "id": "WVaW8I-LqAZA",
        "outputId": "4563e221-cb3d-42b5-bc9e-947303c0f824"
      },
      "execution_count": 38,
      "outputs": [
        {
          "output_type": "execute_result",
          "data": {
            "text/plain": [
              "   Pregnancies  Glucose  BloodPressure  SkinThickness  Insulin   BMI  \\\n",
              "0            6      148             72             35        0  33.6   \n",
              "1            1       85             66             29        0  26.6   \n",
              "2            8      183             64              0        0  23.3   \n",
              "3            1       89             66             23       94  28.1   \n",
              "4            0      137             40             35      168  43.1   \n",
              "\n",
              "   DiabetesPedigreeFunction  Age  Outcome  \n",
              "0                     0.627   50        1  \n",
              "1                     0.351   31        0  \n",
              "2                     0.672   32        1  \n",
              "3                     0.167   21        0  \n",
              "4                     2.288   33        1  "
            ],
            "text/html": [
              "\n",
              "  <div id=\"df-93419129-75de-40f6-92ee-4255978bd39b\" class=\"colab-df-container\">\n",
              "    <div>\n",
              "<style scoped>\n",
              "    .dataframe tbody tr th:only-of-type {\n",
              "        vertical-align: middle;\n",
              "    }\n",
              "\n",
              "    .dataframe tbody tr th {\n",
              "        vertical-align: top;\n",
              "    }\n",
              "\n",
              "    .dataframe thead th {\n",
              "        text-align: right;\n",
              "    }\n",
              "</style>\n",
              "<table border=\"1\" class=\"dataframe\">\n",
              "  <thead>\n",
              "    <tr style=\"text-align: right;\">\n",
              "      <th></th>\n",
              "      <th>Pregnancies</th>\n",
              "      <th>Glucose</th>\n",
              "      <th>BloodPressure</th>\n",
              "      <th>SkinThickness</th>\n",
              "      <th>Insulin</th>\n",
              "      <th>BMI</th>\n",
              "      <th>DiabetesPedigreeFunction</th>\n",
              "      <th>Age</th>\n",
              "      <th>Outcome</th>\n",
              "    </tr>\n",
              "  </thead>\n",
              "  <tbody>\n",
              "    <tr>\n",
              "      <th>0</th>\n",
              "      <td>6</td>\n",
              "      <td>148</td>\n",
              "      <td>72</td>\n",
              "      <td>35</td>\n",
              "      <td>0</td>\n",
              "      <td>33.6</td>\n",
              "      <td>0.627</td>\n",
              "      <td>50</td>\n",
              "      <td>1</td>\n",
              "    </tr>\n",
              "    <tr>\n",
              "      <th>1</th>\n",
              "      <td>1</td>\n",
              "      <td>85</td>\n",
              "      <td>66</td>\n",
              "      <td>29</td>\n",
              "      <td>0</td>\n",
              "      <td>26.6</td>\n",
              "      <td>0.351</td>\n",
              "      <td>31</td>\n",
              "      <td>0</td>\n",
              "    </tr>\n",
              "    <tr>\n",
              "      <th>2</th>\n",
              "      <td>8</td>\n",
              "      <td>183</td>\n",
              "      <td>64</td>\n",
              "      <td>0</td>\n",
              "      <td>0</td>\n",
              "      <td>23.3</td>\n",
              "      <td>0.672</td>\n",
              "      <td>32</td>\n",
              "      <td>1</td>\n",
              "    </tr>\n",
              "    <tr>\n",
              "      <th>3</th>\n",
              "      <td>1</td>\n",
              "      <td>89</td>\n",
              "      <td>66</td>\n",
              "      <td>23</td>\n",
              "      <td>94</td>\n",
              "      <td>28.1</td>\n",
              "      <td>0.167</td>\n",
              "      <td>21</td>\n",
              "      <td>0</td>\n",
              "    </tr>\n",
              "    <tr>\n",
              "      <th>4</th>\n",
              "      <td>0</td>\n",
              "      <td>137</td>\n",
              "      <td>40</td>\n",
              "      <td>35</td>\n",
              "      <td>168</td>\n",
              "      <td>43.1</td>\n",
              "      <td>2.288</td>\n",
              "      <td>33</td>\n",
              "      <td>1</td>\n",
              "    </tr>\n",
              "  </tbody>\n",
              "</table>\n",
              "</div>\n",
              "    <div class=\"colab-df-buttons\">\n",
              "\n",
              "  <div class=\"colab-df-container\">\n",
              "    <button class=\"colab-df-convert\" onclick=\"convertToInteractive('df-93419129-75de-40f6-92ee-4255978bd39b')\"\n",
              "            title=\"Convert this dataframe to an interactive table.\"\n",
              "            style=\"display:none;\">\n",
              "\n",
              "  <svg xmlns=\"http://www.w3.org/2000/svg\" height=\"24px\" viewBox=\"0 -960 960 960\">\n",
              "    <path d=\"M120-120v-720h720v720H120Zm60-500h600v-160H180v160Zm220 220h160v-160H400v160Zm0 220h160v-160H400v160ZM180-400h160v-160H180v160Zm440 0h160v-160H620v160ZM180-180h160v-160H180v160Zm440 0h160v-160H620v160Z\"/>\n",
              "  </svg>\n",
              "    </button>\n",
              "\n",
              "  <style>\n",
              "    .colab-df-container {\n",
              "      display:flex;\n",
              "      gap: 12px;\n",
              "    }\n",
              "\n",
              "    .colab-df-convert {\n",
              "      background-color: #E8F0FE;\n",
              "      border: none;\n",
              "      border-radius: 50%;\n",
              "      cursor: pointer;\n",
              "      display: none;\n",
              "      fill: #1967D2;\n",
              "      height: 32px;\n",
              "      padding: 0 0 0 0;\n",
              "      width: 32px;\n",
              "    }\n",
              "\n",
              "    .colab-df-convert:hover {\n",
              "      background-color: #E2EBFA;\n",
              "      box-shadow: 0px 1px 2px rgba(60, 64, 67, 0.3), 0px 1px 3px 1px rgba(60, 64, 67, 0.15);\n",
              "      fill: #174EA6;\n",
              "    }\n",
              "\n",
              "    .colab-df-buttons div {\n",
              "      margin-bottom: 4px;\n",
              "    }\n",
              "\n",
              "    [theme=dark] .colab-df-convert {\n",
              "      background-color: #3B4455;\n",
              "      fill: #D2E3FC;\n",
              "    }\n",
              "\n",
              "    [theme=dark] .colab-df-convert:hover {\n",
              "      background-color: #434B5C;\n",
              "      box-shadow: 0px 1px 3px 1px rgba(0, 0, 0, 0.15);\n",
              "      filter: drop-shadow(0px 1px 2px rgba(0, 0, 0, 0.3));\n",
              "      fill: #FFFFFF;\n",
              "    }\n",
              "  </style>\n",
              "\n",
              "    <script>\n",
              "      const buttonEl =\n",
              "        document.querySelector('#df-93419129-75de-40f6-92ee-4255978bd39b button.colab-df-convert');\n",
              "      buttonEl.style.display =\n",
              "        google.colab.kernel.accessAllowed ? 'block' : 'none';\n",
              "\n",
              "      async function convertToInteractive(key) {\n",
              "        const element = document.querySelector('#df-93419129-75de-40f6-92ee-4255978bd39b');\n",
              "        const dataTable =\n",
              "          await google.colab.kernel.invokeFunction('convertToInteractive',\n",
              "                                                    [key], {});\n",
              "        if (!dataTable) return;\n",
              "\n",
              "        const docLinkHtml = 'Like what you see? Visit the ' +\n",
              "          '<a target=\"_blank\" href=https://colab.research.google.com/notebooks/data_table.ipynb>data table notebook</a>'\n",
              "          + ' to learn more about interactive tables.';\n",
              "        element.innerHTML = '';\n",
              "        dataTable['output_type'] = 'display_data';\n",
              "        await google.colab.output.renderOutput(dataTable, element);\n",
              "        const docLink = document.createElement('div');\n",
              "        docLink.innerHTML = docLinkHtml;\n",
              "        element.appendChild(docLink);\n",
              "      }\n",
              "    </script>\n",
              "  </div>\n",
              "\n",
              "\n",
              "    <div id=\"df-f1506ac6-4769-4922-9ff9-ed4d3c3200e9\">\n",
              "      <button class=\"colab-df-quickchart\" onclick=\"quickchart('df-f1506ac6-4769-4922-9ff9-ed4d3c3200e9')\"\n",
              "                title=\"Suggest charts\"\n",
              "                style=\"display:none;\">\n",
              "\n",
              "<svg xmlns=\"http://www.w3.org/2000/svg\" height=\"24px\"viewBox=\"0 0 24 24\"\n",
              "     width=\"24px\">\n",
              "    <g>\n",
              "        <path d=\"M19 3H5c-1.1 0-2 .9-2 2v14c0 1.1.9 2 2 2h14c1.1 0 2-.9 2-2V5c0-1.1-.9-2-2-2zM9 17H7v-7h2v7zm4 0h-2V7h2v10zm4 0h-2v-4h2v4z\"/>\n",
              "    </g>\n",
              "</svg>\n",
              "      </button>\n",
              "\n",
              "<style>\n",
              "  .colab-df-quickchart {\n",
              "      --bg-color: #E8F0FE;\n",
              "      --fill-color: #1967D2;\n",
              "      --hover-bg-color: #E2EBFA;\n",
              "      --hover-fill-color: #174EA6;\n",
              "      --disabled-fill-color: #AAA;\n",
              "      --disabled-bg-color: #DDD;\n",
              "  }\n",
              "\n",
              "  [theme=dark] .colab-df-quickchart {\n",
              "      --bg-color: #3B4455;\n",
              "      --fill-color: #D2E3FC;\n",
              "      --hover-bg-color: #434B5C;\n",
              "      --hover-fill-color: #FFFFFF;\n",
              "      --disabled-bg-color: #3B4455;\n",
              "      --disabled-fill-color: #666;\n",
              "  }\n",
              "\n",
              "  .colab-df-quickchart {\n",
              "    background-color: var(--bg-color);\n",
              "    border: none;\n",
              "    border-radius: 50%;\n",
              "    cursor: pointer;\n",
              "    display: none;\n",
              "    fill: var(--fill-color);\n",
              "    height: 32px;\n",
              "    padding: 0;\n",
              "    width: 32px;\n",
              "  }\n",
              "\n",
              "  .colab-df-quickchart:hover {\n",
              "    background-color: var(--hover-bg-color);\n",
              "    box-shadow: 0 1px 2px rgba(60, 64, 67, 0.3), 0 1px 3px 1px rgba(60, 64, 67, 0.15);\n",
              "    fill: var(--button-hover-fill-color);\n",
              "  }\n",
              "\n",
              "  .colab-df-quickchart-complete:disabled,\n",
              "  .colab-df-quickchart-complete:disabled:hover {\n",
              "    background-color: var(--disabled-bg-color);\n",
              "    fill: var(--disabled-fill-color);\n",
              "    box-shadow: none;\n",
              "  }\n",
              "\n",
              "  .colab-df-spinner {\n",
              "    border: 2px solid var(--fill-color);\n",
              "    border-color: transparent;\n",
              "    border-bottom-color: var(--fill-color);\n",
              "    animation:\n",
              "      spin 1s steps(1) infinite;\n",
              "  }\n",
              "\n",
              "  @keyframes spin {\n",
              "    0% {\n",
              "      border-color: transparent;\n",
              "      border-bottom-color: var(--fill-color);\n",
              "      border-left-color: var(--fill-color);\n",
              "    }\n",
              "    20% {\n",
              "      border-color: transparent;\n",
              "      border-left-color: var(--fill-color);\n",
              "      border-top-color: var(--fill-color);\n",
              "    }\n",
              "    30% {\n",
              "      border-color: transparent;\n",
              "      border-left-color: var(--fill-color);\n",
              "      border-top-color: var(--fill-color);\n",
              "      border-right-color: var(--fill-color);\n",
              "    }\n",
              "    40% {\n",
              "      border-color: transparent;\n",
              "      border-right-color: var(--fill-color);\n",
              "      border-top-color: var(--fill-color);\n",
              "    }\n",
              "    60% {\n",
              "      border-color: transparent;\n",
              "      border-right-color: var(--fill-color);\n",
              "    }\n",
              "    80% {\n",
              "      border-color: transparent;\n",
              "      border-right-color: var(--fill-color);\n",
              "      border-bottom-color: var(--fill-color);\n",
              "    }\n",
              "    90% {\n",
              "      border-color: transparent;\n",
              "      border-bottom-color: var(--fill-color);\n",
              "    }\n",
              "  }\n",
              "</style>\n",
              "\n",
              "      <script>\n",
              "        async function quickchart(key) {\n",
              "          const quickchartButtonEl =\n",
              "            document.querySelector('#' + key + ' button');\n",
              "          quickchartButtonEl.disabled = true;  // To prevent multiple clicks.\n",
              "          quickchartButtonEl.classList.add('colab-df-spinner');\n",
              "          try {\n",
              "            const charts = await google.colab.kernel.invokeFunction(\n",
              "                'suggestCharts', [key], {});\n",
              "          } catch (error) {\n",
              "            console.error('Error during call to suggestCharts:', error);\n",
              "          }\n",
              "          quickchartButtonEl.classList.remove('colab-df-spinner');\n",
              "          quickchartButtonEl.classList.add('colab-df-quickchart-complete');\n",
              "        }\n",
              "        (() => {\n",
              "          let quickchartButtonEl =\n",
              "            document.querySelector('#df-f1506ac6-4769-4922-9ff9-ed4d3c3200e9 button');\n",
              "          quickchartButtonEl.style.display =\n",
              "            google.colab.kernel.accessAllowed ? 'block' : 'none';\n",
              "        })();\n",
              "      </script>\n",
              "    </div>\n",
              "\n",
              "    </div>\n",
              "  </div>\n"
            ],
            "application/vnd.google.colaboratory.intrinsic+json": {
              "type": "dataframe",
              "variable_name": "df",
              "summary": "{\n  \"name\": \"df\",\n  \"rows\": 768,\n  \"fields\": [\n    {\n      \"column\": \"Pregnancies\",\n      \"properties\": {\n        \"dtype\": \"number\",\n        \"std\": 3,\n        \"min\": 0,\n        \"max\": 17,\n        \"num_unique_values\": 17,\n        \"samples\": [\n          6,\n          1,\n          3\n        ],\n        \"semantic_type\": \"\",\n        \"description\": \"\"\n      }\n    },\n    {\n      \"column\": \"Glucose\",\n      \"properties\": {\n        \"dtype\": \"number\",\n        \"std\": 31,\n        \"min\": 0,\n        \"max\": 199,\n        \"num_unique_values\": 136,\n        \"samples\": [\n          151,\n          101,\n          112\n        ],\n        \"semantic_type\": \"\",\n        \"description\": \"\"\n      }\n    },\n    {\n      \"column\": \"BloodPressure\",\n      \"properties\": {\n        \"dtype\": \"number\",\n        \"std\": 19,\n        \"min\": 0,\n        \"max\": 122,\n        \"num_unique_values\": 47,\n        \"samples\": [\n          86,\n          46,\n          85\n        ],\n        \"semantic_type\": \"\",\n        \"description\": \"\"\n      }\n    },\n    {\n      \"column\": \"SkinThickness\",\n      \"properties\": {\n        \"dtype\": \"number\",\n        \"std\": 15,\n        \"min\": 0,\n        \"max\": 99,\n        \"num_unique_values\": 51,\n        \"samples\": [\n          7,\n          12,\n          48\n        ],\n        \"semantic_type\": \"\",\n        \"description\": \"\"\n      }\n    },\n    {\n      \"column\": \"Insulin\",\n      \"properties\": {\n        \"dtype\": \"number\",\n        \"std\": 115,\n        \"min\": 0,\n        \"max\": 846,\n        \"num_unique_values\": 186,\n        \"samples\": [\n          52,\n          41,\n          183\n        ],\n        \"semantic_type\": \"\",\n        \"description\": \"\"\n      }\n    },\n    {\n      \"column\": \"BMI\",\n      \"properties\": {\n        \"dtype\": \"number\",\n        \"std\": 7.8841603203754405,\n        \"min\": 0.0,\n        \"max\": 67.1,\n        \"num_unique_values\": 248,\n        \"samples\": [\n          19.9,\n          31.0,\n          38.1\n        ],\n        \"semantic_type\": \"\",\n        \"description\": \"\"\n      }\n    },\n    {\n      \"column\": \"DiabetesPedigreeFunction\",\n      \"properties\": {\n        \"dtype\": \"number\",\n        \"std\": 0.33132859501277484,\n        \"min\": 0.078,\n        \"max\": 2.42,\n        \"num_unique_values\": 517,\n        \"samples\": [\n          1.731,\n          0.426,\n          0.138\n        ],\n        \"semantic_type\": \"\",\n        \"description\": \"\"\n      }\n    },\n    {\n      \"column\": \"Age\",\n      \"properties\": {\n        \"dtype\": \"number\",\n        \"std\": 11,\n        \"min\": 21,\n        \"max\": 81,\n        \"num_unique_values\": 52,\n        \"samples\": [\n          60,\n          47,\n          72\n        ],\n        \"semantic_type\": \"\",\n        \"description\": \"\"\n      }\n    },\n    {\n      \"column\": \"Outcome\",\n      \"properties\": {\n        \"dtype\": \"number\",\n        \"std\": 0,\n        \"min\": 0,\n        \"max\": 1,\n        \"num_unique_values\": 2,\n        \"samples\": [\n          0,\n          1\n        ],\n        \"semantic_type\": \"\",\n        \"description\": \"\"\n      }\n    }\n  ]\n}"
            }
          },
          "metadata": {},
          "execution_count": 38
        }
      ]
    },
    {
      "cell_type": "markdown",
      "source": [
        "### Replace Missing Number"
      ],
      "metadata": {
        "id": "jWx9MDForvDV"
      }
    },
    {
      "cell_type": "code",
      "source": [
        "import numpy as np\n",
        "\n",
        "# Replace zero values with NaN in columns where zero is not a valid value\n",
        "cols_with_missing_vals = ['Glucose', 'BloodPressure', 'SkinThickness', 'Insulin', 'BMI']\n",
        "df[cols_with_missing_vals] = df[cols_with_missing_vals].replace(0, np.nan)\n",
        "\n",
        "# Impute the missing values with the mean of the respective column\n",
        "df.fillna(df.mean(), inplace=True)\n",
        "\n",
        "# Check if there are any remaining missing values\n",
        "print(df.isnull().sum())\n"
      ],
      "metadata": {
        "colab": {
          "base_uri": "https://localhost:8080/"
        },
        "id": "JmQe_deIqLKe",
        "outputId": "61d03cc4-3915-4e93-c377-3be4472e16c8"
      },
      "execution_count": 39,
      "outputs": [
        {
          "output_type": "stream",
          "name": "stdout",
          "text": [
            "Pregnancies                 0\n",
            "Glucose                     0\n",
            "BloodPressure               0\n",
            "SkinThickness               0\n",
            "Insulin                     0\n",
            "BMI                         0\n",
            "DiabetesPedigreeFunction    0\n",
            "Age                         0\n",
            "Outcome                     0\n",
            "dtype: int64\n"
          ]
        }
      ]
    },
    {
      "cell_type": "markdown",
      "source": [
        "## Train-Test Split"
      ],
      "metadata": {
        "id": "7blN5UpzsD9a"
      }
    },
    {
      "cell_type": "code",
      "source": [
        "X = df.drop('Outcome', axis=1)\n",
        "Y = df['Outcome']\n",
        "\n",
        "# Split\n",
        "x_train, x_test, y_train, y_test = train_test_split(X, Y, test_size=0.3, random_state=42)\n",
        "\n",
        "# Scalling not required but okay\n",
        "scale = StandardScaler()\n",
        "X_train = scale.fit_transform(x_train)\n",
        "X_test = scale.transform(x_test)\n",
        "\n",
        "# Check\n",
        "print(f\"Training set shape: {x_train.shape}\")\n",
        "print(f\"Testing set shape: {x_test.shape}\")"
      ],
      "metadata": {
        "colab": {
          "base_uri": "https://localhost:8080/"
        },
        "id": "tcuJajzwsA8e",
        "outputId": "d4c28a4e-2325-456a-e348-d5bb66777370"
      },
      "execution_count": 40,
      "outputs": [
        {
          "output_type": "stream",
          "name": "stdout",
          "text": [
            "Training set shape: (537, 8)\n",
            "Testing set shape: (231, 8)\n"
          ]
        }
      ]
    },
    {
      "cell_type": "code",
      "source": [
        "from sklearn.ensemble import RandomForestClassifier\n",
        "from sklearn.model_selection import cross_val_score\n",
        "\n",
        "# Define the objective function\n",
        "def objective(trial):\n",
        "    # Suggest values for the hyperparameters\n",
        "    n_estimators = trial.suggest_int('n_estimators', 50, 250)\n",
        "    max_depth = trial.suggest_int('max_depth', 3, 20)\n",
        "\n",
        "    # Create the RandomForestClassifier with suggested hyperparameters\n",
        "    model = RandomForestClassifier(\n",
        "        n_estimators = n_estimators,\n",
        "        max_depth = max_depth,\n",
        "        random_state = 42\n",
        "    )\n",
        "\n",
        "    # Perform k-fold cross validation and calculate accurancy(k=3)\n",
        "    score = cross_val_score(model, X_train, y_train, cv=3, scoring='accuracy').mean()\n",
        "\n",
        "    return score # return the accurancy score of the optuna"
      ],
      "metadata": {
        "id": "6qO1ZKaTtD7d"
      },
      "execution_count": 41,
      "outputs": []
    },
    {
      "cell_type": "code",
      "source": [
        "# Create new study object and optimize the objective fucntion\n",
        "study1 = optuna.create_study(direction='maximize', sampler=optuna.samplers.TPESampler()) # we aim to maximize so directionis maximize\n",
        "# If in our objective function we are taking of the loss then you have to use direction as the minimize\n",
        "study1.optimize(objective, n_trials=50)"
      ],
      "metadata": {
        "colab": {
          "base_uri": "https://localhost:8080/"
        },
        "id": "4DyRM0ZMv8jF",
        "outputId": "5ef46cc9-b32d-4414-82d2-c263278e4833"
      },
      "execution_count": 42,
      "outputs": [
        {
          "output_type": "stream",
          "name": "stderr",
          "text": [
            "[I 2025-10-13 20:08:10,381] A new study created in memory with name: no-name-854cd4f2-351c-4553-ad60-ec0cbb2a87c3\n",
            "[I 2025-10-13 20:08:10,732] Trial 0 finished with value: 0.7746741154562384 and parameters: {'n_estimators': 55, 'max_depth': 8}. Best is trial 0 with value: 0.7746741154562384.\n",
            "[I 2025-10-13 20:08:11,891] Trial 1 finished with value: 0.7746741154562384 and parameters: {'n_estimators': 223, 'max_depth': 17}. Best is trial 0 with value: 0.7746741154562384.\n",
            "[I 2025-10-13 20:08:13,348] Trial 2 finished with value: 0.7783985102420856 and parameters: {'n_estimators': 109, 'max_depth': 16}. Best is trial 2 with value: 0.7783985102420856.\n",
            "[I 2025-10-13 20:08:14,071] Trial 3 finished with value: 0.7746741154562384 and parameters: {'n_estimators': 59, 'max_depth': 7}. Best is trial 2 with value: 0.7783985102420856.\n",
            "[I 2025-10-13 20:08:14,565] Trial 4 finished with value: 0.7746741154562384 and parameters: {'n_estimators': 53, 'max_depth': 19}. Best is trial 2 with value: 0.7783985102420856.\n",
            "[I 2025-10-13 20:08:15,901] Trial 5 finished with value: 0.7765363128491619 and parameters: {'n_estimators': 120, 'max_depth': 12}. Best is trial 2 with value: 0.7783985102420856.\n",
            "[I 2025-10-13 20:08:17,214] Trial 6 finished with value: 0.7616387337057727 and parameters: {'n_estimators': 186, 'max_depth': 8}. Best is trial 2 with value: 0.7783985102420856.\n",
            "[I 2025-10-13 20:08:18,064] Trial 7 finished with value: 0.7783985102420856 and parameters: {'n_estimators': 66, 'max_depth': 5}. Best is trial 2 with value: 0.7783985102420856.\n",
            "[I 2025-10-13 20:08:19,461] Trial 8 finished with value: 0.7653631284916201 and parameters: {'n_estimators': 146, 'max_depth': 6}. Best is trial 2 with value: 0.7783985102420856.\n",
            "[I 2025-10-13 20:08:21,362] Trial 9 finished with value: 0.7653631284916201 and parameters: {'n_estimators': 207, 'max_depth': 9}. Best is trial 2 with value: 0.7783985102420856.\n",
            "[I 2025-10-13 20:08:22,416] Trial 10 finished with value: 0.7653631284916201 and parameters: {'n_estimators': 108, 'max_depth': 14}. Best is trial 2 with value: 0.7783985102420856.\n",
            "[I 2025-10-13 20:08:23,074] Trial 11 finished with value: 0.7635009310986964 and parameters: {'n_estimators': 98, 'max_depth': 4}. Best is trial 2 with value: 0.7783985102420856.\n",
            "[I 2025-10-13 20:08:23,829] Trial 12 finished with value: 0.7672253258845437 and parameters: {'n_estimators': 89, 'max_depth': 16}. Best is trial 2 with value: 0.7783985102420856.\n",
            "[I 2025-10-13 20:08:25,710] Trial 13 finished with value: 0.7653631284916201 and parameters: {'n_estimators': 150, 'max_depth': 12}. Best is trial 2 with value: 0.7783985102420856.\n",
            "[I 2025-10-13 20:08:26,007] Trial 14 finished with value: 0.7523277467411545 and parameters: {'n_estimators': 82, 'max_depth': 3}. Best is trial 2 with value: 0.7783985102420856.\n",
            "[I 2025-10-13 20:08:26,534] Trial 15 finished with value: 0.7765363128491621 and parameters: {'n_estimators': 130, 'max_depth': 20}. Best is trial 2 with value: 0.7783985102420856.\n",
            "[I 2025-10-13 20:08:27,493] Trial 16 finished with value: 0.7672253258845437 and parameters: {'n_estimators': 160, 'max_depth': 15}. Best is trial 2 with value: 0.7783985102420856.\n",
            "[I 2025-10-13 20:08:27,811] Trial 17 finished with value: 0.7579143389199255 and parameters: {'n_estimators': 77, 'max_depth': 10}. Best is trial 2 with value: 0.7783985102420856.\n",
            "[I 2025-10-13 20:08:28,299] Trial 18 finished with value: 0.7690875232774674 and parameters: {'n_estimators': 121, 'max_depth': 14}. Best is trial 2 with value: 0.7783985102420856.\n",
            "[I 2025-10-13 20:08:28,561] Trial 19 finished with value: 0.7746741154562384 and parameters: {'n_estimators': 71, 'max_depth': 5}. Best is trial 2 with value: 0.7783985102420856.\n",
            "[I 2025-10-13 20:08:29,526] Trial 20 finished with value: 0.7728119180633147 and parameters: {'n_estimators': 250, 'max_depth': 18}. Best is trial 2 with value: 0.7783985102420856.\n",
            "[I 2025-10-13 20:08:30,025] Trial 21 finished with value: 0.7802607076350093 and parameters: {'n_estimators': 125, 'max_depth': 20}. Best is trial 21 with value: 0.7802607076350093.\n",
            "[I 2025-10-13 20:08:30,716] Trial 22 finished with value: 0.7709497206703911 and parameters: {'n_estimators': 172, 'max_depth': 20}. Best is trial 21 with value: 0.7802607076350093.\n",
            "[I 2025-10-13 20:08:31,134] Trial 23 finished with value: 0.7709497206703911 and parameters: {'n_estimators': 99, 'max_depth': 17}. Best is trial 21 with value: 0.7802607076350093.\n",
            "[I 2025-10-13 20:08:31,645] Trial 24 finished with value: 0.7728119180633147 and parameters: {'n_estimators': 127, 'max_depth': 14}. Best is trial 21 with value: 0.7802607076350093.\n",
            "[I 2025-10-13 20:08:32,114] Trial 25 finished with value: 0.7672253258845437 and parameters: {'n_estimators': 110, 'max_depth': 11}. Best is trial 21 with value: 0.7802607076350093.\n",
            "[I 2025-10-13 20:08:32,666] Trial 26 finished with value: 0.7709497206703911 and parameters: {'n_estimators': 138, 'max_depth': 18}. Best is trial 21 with value: 0.7802607076350093.\n",
            "[I 2025-10-13 20:08:32,977] Trial 27 finished with value: 0.7765363128491621 and parameters: {'n_estimators': 70, 'max_depth': 16}. Best is trial 21 with value: 0.7802607076350093.\n",
            "[I 2025-10-13 20:08:33,369] Trial 28 finished with value: 0.7709497206703911 and parameters: {'n_estimators': 93, 'max_depth': 19}. Best is trial 21 with value: 0.7802607076350093.\n",
            "[I 2025-10-13 20:08:33,995] Trial 29 finished with value: 0.7653631284916201 and parameters: {'n_estimators': 109, 'max_depth': 11}. Best is trial 21 with value: 0.7802607076350093.\n",
            "[I 2025-10-13 20:08:35,483] Trial 30 finished with value: 0.7709497206703911 and parameters: {'n_estimators': 164, 'max_depth': 13}. Best is trial 21 with value: 0.7802607076350093.\n",
            "[I 2025-10-13 20:08:36,277] Trial 31 finished with value: 0.7746741154562383 and parameters: {'n_estimators': 132, 'max_depth': 20}. Best is trial 21 with value: 0.7802607076350093.\n",
            "[I 2025-10-13 20:08:37,104] Trial 32 finished with value: 0.7765363128491619 and parameters: {'n_estimators': 135, 'max_depth': 20}. Best is trial 21 with value: 0.7802607076350093.\n",
            "[I 2025-10-13 20:08:37,872] Trial 33 finished with value: 0.7802607076350093 and parameters: {'n_estimators': 115, 'max_depth': 18}. Best is trial 21 with value: 0.7802607076350093.\n",
            "[I 2025-10-13 20:08:38,637] Trial 34 finished with value: 0.7728119180633147 and parameters: {'n_estimators': 62, 'max_depth': 18}. Best is trial 21 with value: 0.7802607076350093.\n",
            "[I 2025-10-13 20:08:39,393] Trial 35 finished with value: 0.7728119180633147 and parameters: {'n_estimators': 107, 'max_depth': 17}. Best is trial 21 with value: 0.7802607076350093.\n",
            "[I 2025-10-13 20:08:39,615] Trial 36 finished with value: 0.7783985102420857 and parameters: {'n_estimators': 55, 'max_depth': 16}. Best is trial 21 with value: 0.7802607076350093.\n",
            "[I 2025-10-13 20:08:39,836] Trial 37 finished with value: 0.7653631284916201 and parameters: {'n_estimators': 51, 'max_depth': 15}. Best is trial 21 with value: 0.7802607076350093.\n",
            "[I 2025-10-13 20:08:40,309] Trial 38 finished with value: 0.7821229050279329 and parameters: {'n_estimators': 119, 'max_depth': 19}. Best is trial 38 with value: 0.7821229050279329.\n",
            "[I 2025-10-13 20:08:41,127] Trial 39 finished with value: 0.7783985102420856 and parameters: {'n_estimators': 195, 'max_depth': 19}. Best is trial 38 with value: 0.7821229050279329.\n",
            "[I 2025-10-13 20:08:41,704] Trial 40 finished with value: 0.7709497206703911 and parameters: {'n_estimators': 144, 'max_depth': 19}. Best is trial 38 with value: 0.7821229050279329.\n",
            "[I 2025-10-13 20:08:42,177] Trial 41 finished with value: 0.7709497206703911 and parameters: {'n_estimators': 120, 'max_depth': 17}. Best is trial 38 with value: 0.7821229050279329.\n",
            "[I 2025-10-13 20:08:42,533] Trial 42 finished with value: 0.7635009310986964 and parameters: {'n_estimators': 85, 'max_depth': 16}. Best is trial 38 with value: 0.7821229050279329.\n",
            "[I 2025-10-13 20:08:42,983] Trial 43 finished with value: 0.7802607076350093 and parameters: {'n_estimators': 113, 'max_depth': 18}. Best is trial 38 with value: 0.7821229050279329.\n",
            "[I 2025-10-13 20:08:43,456] Trial 44 finished with value: 0.7802607076350093 and parameters: {'n_estimators': 115, 'max_depth': 18}. Best is trial 38 with value: 0.7821229050279329.\n",
            "[I 2025-10-13 20:08:43,916] Trial 45 finished with value: 0.7783985102420856 and parameters: {'n_estimators': 116, 'max_depth': 18}. Best is trial 38 with value: 0.7821229050279329.\n",
            "[I 2025-10-13 20:08:44,540] Trial 46 finished with value: 0.7728119180633147 and parameters: {'n_estimators': 156, 'max_depth': 19}. Best is trial 38 with value: 0.7821229050279329.\n",
            "[I 2025-10-13 20:08:45,107] Trial 47 finished with value: 0.7690875232774674 and parameters: {'n_estimators': 142, 'max_depth': 17}. Best is trial 38 with value: 0.7821229050279329.\n",
            "[I 2025-10-13 20:08:45,531] Trial 48 finished with value: 0.7690875232774674 and parameters: {'n_estimators': 101, 'max_depth': 19}. Best is trial 38 with value: 0.7821229050279329.\n",
            "[I 2025-10-13 20:08:46,022] Trial 49 finished with value: 0.7821229050279329 and parameters: {'n_estimators': 124, 'max_depth': 18}. Best is trial 38 with value: 0.7821229050279329.\n"
          ]
        }
      ]
    },
    {
      "cell_type": "code",
      "source": [
        "# print out the result\n",
        "print(f'Best trial Accurancy: {study1.best_trial.value}')\n",
        "print(f'Best trial hyperparameters: {study1.best_trial.params}')"
      ],
      "metadata": {
        "colab": {
          "base_uri": "https://localhost:8080/"
        },
        "id": "eB1yjPwcwSfT",
        "outputId": "c335c6f0-6d55-4596-ded6-e6e6b36cc463"
      },
      "execution_count": 43,
      "outputs": [
        {
          "output_type": "stream",
          "name": "stdout",
          "text": [
            "Best trial Accurancy: 0.7821229050279329\n",
            "Best trial hyperparameters: {'n_estimators': 119, 'max_depth': 19}\n"
          ]
        }
      ]
    },
    {
      "cell_type": "code",
      "source": [
        "# Now we make the complete new model using these hyperparmeters cause they are the best ones\n",
        "from sklearn.metrics import accuracy_score\n",
        "\n",
        "# We test our model on the testing data set\n",
        "\n",
        "# Train a RandomForestClassifier using the best hyperparameters from Optuna\n",
        "best_model = RandomForestClassifier(**study1.best_trial.params, random_state=42)\n",
        "\n",
        "# Fit the model to the training data\n",
        "best_model.fit(X_train, y_train)\n",
        "\n",
        "# Make predictions on the test set\n",
        "y_pred = best_model.predict(X_test)\n",
        "\n",
        "# Calculate the accuracy on the test set\n",
        "test_accuracy = accuracy_score(y_test, y_pred)\n",
        "\n",
        "# Print the test accuracy\n",
        "print(f'Test Accuracy with best hyperparameters: {test_accuracy:.2f}')\n"
      ],
      "metadata": {
        "colab": {
          "base_uri": "https://localhost:8080/"
        },
        "id": "kTybMAkr6y1E",
        "outputId": "c41551a6-78a0-4b8a-951b-9103399e3899"
      },
      "execution_count": 44,
      "outputs": [
        {
          "output_type": "stream",
          "name": "stdout",
          "text": [
            "Test Accuracy with best hyperparameters: 0.74\n"
          ]
        }
      ]
    },
    {
      "cell_type": "markdown",
      "source": [
        "## Execution of the Random Search in Optuna"
      ],
      "metadata": {
        "id": "EGwBCbRh9B-w"
      }
    },
    {
      "cell_type": "code",
      "source": [
        "from sklearn.ensemble import RandomForestClassifier\n",
        "from sklearn.model_selection import cross_val_score\n",
        "\n",
        "# Define the objective function\n",
        "def objective(trial):\n",
        "    # Suggest values for the hyperparameters\n",
        "    n_estimators = trial.suggest_int('n_estimators', 50, 250)\n",
        "    max_depth = trial.suggest_int('max_depth', 3, 20)\n",
        "\n",
        "    # Create the RandomForestClassifier with suggested hyperparameters\n",
        "    model = RandomForestClassifier(\n",
        "        n_estimators = n_estimators,\n",
        "        max_depth = max_depth,\n",
        "        random_state = 42\n",
        "    )\n",
        "\n",
        "    # Perform k-fold cross validation and calculate accurancy(k=3)\n",
        "    score = cross_val_score(model, X_train, y_train, cv=3, scoring='accuracy').mean()\n",
        "\n",
        "    return score # return the accurancy score of the optuna"
      ],
      "metadata": {
        "id": "n-Eqgqxb7tVx"
      },
      "execution_count": 45,
      "outputs": []
    },
    {
      "cell_type": "code",
      "source": [
        "# Create new study object and optimize the objective fucntion\n",
        "study = optuna.create_study(direction='maximize', sampler=optuna.samplers.RandomSampler())\n",
        "# Everything is same you just update the smapler only\n",
        "study.optimize(objective, n_trials=50)"
      ],
      "metadata": {
        "colab": {
          "base_uri": "https://localhost:8080/"
        },
        "id": "ShuCzExp9Zs6",
        "outputId": "bdb2a42b-ed8b-41dd-e252-c2163ec7890f"
      },
      "execution_count": 46,
      "outputs": [
        {
          "output_type": "stream",
          "name": "stderr",
          "text": [
            "[I 2025-10-13 20:08:46,226] A new study created in memory with name: no-name-97aadd6d-9e13-4188-9a98-d6826b26bd70\n",
            "[I 2025-10-13 20:08:46,504] Trial 0 finished with value: 0.7635009310986964 and parameters: {'n_estimators': 60, 'max_depth': 6}. Best is trial 0 with value: 0.7635009310986964.\n",
            "[I 2025-10-13 20:08:47,727] Trial 1 finished with value: 0.7672253258845437 and parameters: {'n_estimators': 233, 'max_depth': 7}. Best is trial 1 with value: 0.7672253258845437.\n",
            "[I 2025-10-13 20:08:49,020] Trial 2 finished with value: 0.7560521415270017 and parameters: {'n_estimators': 220, 'max_depth': 4}. Best is trial 1 with value: 0.7672253258845437.\n",
            "[I 2025-10-13 20:08:49,975] Trial 3 finished with value: 0.7746741154562384 and parameters: {'n_estimators': 247, 'max_depth': 18}. Best is trial 3 with value: 0.7746741154562384.\n",
            "[I 2025-10-13 20:08:50,779] Trial 4 finished with value: 0.7709497206703911 and parameters: {'n_estimators': 158, 'max_depth': 12}. Best is trial 3 with value: 0.7746741154562384.\n",
            "[I 2025-10-13 20:08:52,014] Trial 5 finished with value: 0.7746741154562384 and parameters: {'n_estimators': 143, 'max_depth': 17}. Best is trial 3 with value: 0.7746741154562384.\n",
            "[I 2025-10-13 20:08:53,290] Trial 6 finished with value: 0.7653631284916201 and parameters: {'n_estimators': 150, 'max_depth': 14}. Best is trial 3 with value: 0.7746741154562384.\n",
            "[I 2025-10-13 20:08:54,701] Trial 7 finished with value: 0.7635009310986964 and parameters: {'n_estimators': 179, 'max_depth': 9}. Best is trial 3 with value: 0.7746741154562384.\n",
            "[I 2025-10-13 20:08:55,922] Trial 8 finished with value: 0.7616387337057727 and parameters: {'n_estimators': 142, 'max_depth': 4}. Best is trial 3 with value: 0.7746741154562384.\n",
            "[I 2025-10-13 20:08:58,125] Trial 9 finished with value: 0.7728119180633147 and parameters: {'n_estimators': 245, 'max_depth': 13}. Best is trial 3 with value: 0.7746741154562384.\n",
            "[I 2025-10-13 20:08:59,052] Trial 10 finished with value: 0.7765363128491621 and parameters: {'n_estimators': 89, 'max_depth': 18}. Best is trial 10 with value: 0.7765363128491621.\n",
            "[I 2025-10-13 20:09:00,460] Trial 11 finished with value: 0.7597765363128491 and parameters: {'n_estimators': 91, 'max_depth': 9}. Best is trial 10 with value: 0.7765363128491621.\n",
            "[I 2025-10-13 20:09:01,847] Trial 12 finished with value: 0.7709497206703911 and parameters: {'n_estimators': 196, 'max_depth': 10}. Best is trial 10 with value: 0.7765363128491621.\n",
            "[I 2025-10-13 20:09:02,895] Trial 13 finished with value: 0.7616387337057727 and parameters: {'n_estimators': 217, 'max_depth': 6}. Best is trial 10 with value: 0.7765363128491621.\n",
            "[I 2025-10-13 20:09:03,570] Trial 14 finished with value: 0.7690875232774674 and parameters: {'n_estimators': 164, 'max_depth': 18}. Best is trial 10 with value: 0.7765363128491621.\n",
            "[I 2025-10-13 20:09:04,509] Trial 15 finished with value: 0.7709497206703911 and parameters: {'n_estimators': 238, 'max_depth': 19}. Best is trial 10 with value: 0.7765363128491621.\n",
            "[I 2025-10-13 20:09:04,743] Trial 16 finished with value: 0.7690875232774674 and parameters: {'n_estimators': 56, 'max_depth': 20}. Best is trial 10 with value: 0.7765363128491621.\n",
            "[I 2025-10-13 20:09:04,951] Trial 17 finished with value: 0.7709497206703911 and parameters: {'n_estimators': 51, 'max_depth': 8}. Best is trial 10 with value: 0.7765363128491621.\n",
            "[I 2025-10-13 20:09:05,441] Trial 18 finished with value: 0.7802607076350093 and parameters: {'n_estimators': 121, 'max_depth': 19}. Best is trial 18 with value: 0.7802607076350093.\n",
            "[I 2025-10-13 20:09:06,384] Trial 19 finished with value: 0.7709497206703911 and parameters: {'n_estimators': 242, 'max_depth': 16}. Best is trial 18 with value: 0.7802607076350093.\n",
            "[I 2025-10-13 20:09:06,759] Trial 20 finished with value: 0.756052141527002 and parameters: {'n_estimators': 92, 'max_depth': 3}. Best is trial 18 with value: 0.7802607076350093.\n",
            "[I 2025-10-13 20:09:07,151] Trial 21 finished with value: 0.7709497206703911 and parameters: {'n_estimators': 100, 'max_depth': 8}. Best is trial 18 with value: 0.7802607076350093.\n",
            "[I 2025-10-13 20:09:07,582] Trial 22 finished with value: 0.7690875232774674 and parameters: {'n_estimators': 104, 'max_depth': 16}. Best is trial 18 with value: 0.7802607076350093.\n",
            "[I 2025-10-13 20:09:07,970] Trial 23 finished with value: 0.7690875232774674 and parameters: {'n_estimators': 96, 'max_depth': 20}. Best is trial 18 with value: 0.7802607076350093.\n",
            "[I 2025-10-13 20:09:08,860] Trial 24 finished with value: 0.7709497206703911 and parameters: {'n_estimators': 230, 'max_depth': 11}. Best is trial 18 with value: 0.7802607076350093.\n",
            "[I 2025-10-13 20:09:09,666] Trial 25 finished with value: 0.7635009310986964 and parameters: {'n_estimators': 206, 'max_depth': 9}. Best is trial 18 with value: 0.7802607076350093.\n",
            "[I 2025-10-13 20:09:10,715] Trial 26 finished with value: 0.7728119180633147 and parameters: {'n_estimators': 236, 'max_depth': 13}. Best is trial 18 with value: 0.7802607076350093.\n",
            "[I 2025-10-13 20:09:11,982] Trial 27 finished with value: 0.7635009310986964 and parameters: {'n_estimators': 233, 'max_depth': 9}. Best is trial 18 with value: 0.7802607076350093.\n",
            "[I 2025-10-13 20:09:12,794] Trial 28 finished with value: 0.7616387337057727 and parameters: {'n_estimators': 215, 'max_depth': 8}. Best is trial 18 with value: 0.7802607076350093.\n",
            "[I 2025-10-13 20:09:13,648] Trial 29 finished with value: 0.7672253258845437 and parameters: {'n_estimators': 217, 'max_depth': 11}. Best is trial 18 with value: 0.7802607076350093.\n",
            "[I 2025-10-13 20:09:14,315] Trial 30 finished with value: 0.7653631284916201 and parameters: {'n_estimators': 188, 'max_depth': 5}. Best is trial 18 with value: 0.7802607076350093.\n",
            "[I 2025-10-13 20:09:15,038] Trial 31 finished with value: 0.7560521415270017 and parameters: {'n_estimators': 199, 'max_depth': 6}. Best is trial 18 with value: 0.7802607076350093.\n",
            "[I 2025-10-13 20:09:15,861] Trial 32 finished with value: 0.7616387337057727 and parameters: {'n_estimators': 216, 'max_depth': 8}. Best is trial 18 with value: 0.7802607076350093.\n",
            "[I 2025-10-13 20:09:16,439] Trial 33 finished with value: 0.7765363128491619 and parameters: {'n_estimators': 148, 'max_depth': 7}. Best is trial 18 with value: 0.7802607076350093.\n",
            "[I 2025-10-13 20:09:17,382] Trial 34 finished with value: 0.7746741154562384 and parameters: {'n_estimators': 236, 'max_depth': 18}. Best is trial 18 with value: 0.7802607076350093.\n",
            "[I 2025-10-13 20:09:17,825] Trial 35 finished with value: 0.7672253258845437 and parameters: {'n_estimators': 114, 'max_depth': 5}. Best is trial 18 with value: 0.7802607076350093.\n",
            "[I 2025-10-13 20:09:18,195] Trial 36 finished with value: 0.7635009310986964 and parameters: {'n_estimators': 96, 'max_depth': 4}. Best is trial 18 with value: 0.7802607076350093.\n",
            "[I 2025-10-13 20:09:18,976] Trial 37 finished with value: 0.7672253258845437 and parameters: {'n_estimators': 199, 'max_depth': 12}. Best is trial 18 with value: 0.7802607076350093.\n",
            "[I 2025-10-13 20:09:19,203] Trial 38 finished with value: 0.7728119180633147 and parameters: {'n_estimators': 57, 'max_depth': 5}. Best is trial 18 with value: 0.7802607076350093.\n",
            "[I 2025-10-13 20:09:19,453] Trial 39 finished with value: 0.7635009310986964 and parameters: {'n_estimators': 59, 'max_depth': 15}. Best is trial 18 with value: 0.7802607076350093.\n",
            "[I 2025-10-13 20:09:19,996] Trial 40 finished with value: 0.7728119180633147 and parameters: {'n_estimators': 134, 'max_depth': 13}. Best is trial 18 with value: 0.7802607076350093.\n",
            "[I 2025-10-13 20:09:20,428] Trial 41 finished with value: 0.7709497206703911 and parameters: {'n_estimators': 107, 'max_depth': 14}. Best is trial 18 with value: 0.7802607076350093.\n",
            "[I 2025-10-13 20:09:20,921] Trial 42 finished with value: 0.7616387337057727 and parameters: {'n_estimators': 119, 'max_depth': 11}. Best is trial 18 with value: 0.7802607076350093.\n",
            "[I 2025-10-13 20:09:21,792] Trial 43 finished with value: 0.7653631284916201 and parameters: {'n_estimators': 234, 'max_depth': 5}. Best is trial 18 with value: 0.7802607076350093.\n",
            "[I 2025-10-13 20:09:23,217] Trial 44 finished with value: 0.7690875232774674 and parameters: {'n_estimators': 246, 'max_depth': 12}. Best is trial 18 with value: 0.7802607076350093.\n",
            "[I 2025-10-13 20:09:24,100] Trial 45 finished with value: 0.7672253258845437 and parameters: {'n_estimators': 226, 'max_depth': 9}. Best is trial 18 with value: 0.7802607076350093.\n",
            "[I 2025-10-13 20:09:24,913] Trial 46 finished with value: 0.7672253258845437 and parameters: {'n_estimators': 210, 'max_depth': 12}. Best is trial 18 with value: 0.7802607076350093.\n",
            "[I 2025-10-13 20:09:25,912] Trial 47 finished with value: 0.7746741154562384 and parameters: {'n_estimators': 249, 'max_depth': 13}. Best is trial 18 with value: 0.7802607076350093.\n",
            "[I 2025-10-13 20:09:26,287] Trial 48 finished with value: 0.7690875232774674 and parameters: {'n_estimators': 99, 'max_depth': 5}. Best is trial 18 with value: 0.7802607076350093.\n",
            "[I 2025-10-13 20:09:27,099] Trial 49 finished with value: 0.7728119180633147 and parameters: {'n_estimators': 199, 'max_depth': 13}. Best is trial 18 with value: 0.7802607076350093.\n"
          ]
        }
      ]
    },
    {
      "cell_type": "code",
      "source": [
        "# Print the best result\n",
        "print(f'Best trial accuracy: {study.best_trial.value}')\n",
        "print(f'Best hyperparameters: {study.best_trial.params}')\n",
        "# got the new trial parameter for the random search they are not the best one"
      ],
      "metadata": {
        "colab": {
          "base_uri": "https://localhost:8080/"
        },
        "id": "Wi_Pg4EY9s49",
        "outputId": "1bd31187-dbc5-47a9-c4c3-e82390cf1677"
      },
      "execution_count": 47,
      "outputs": [
        {
          "output_type": "stream",
          "name": "stdout",
          "text": [
            "Best trial accuracy: 0.7802607076350093\n",
            "Best hyperparameters: {'n_estimators': 121, 'max_depth': 19}\n"
          ]
        }
      ]
    },
    {
      "cell_type": "code",
      "source": [
        "# Run the model on testing dataset using the hyperparamters\n",
        "\n",
        "from sklearn.metrics import accuracy_score\n",
        "\n",
        "# Train a RandomForestClassifier using the best hyperparameters from Optuna\n",
        "best_model = RandomForestClassifier(**study.best_trial.params, random_state=42)\n",
        "print(study.best_trial.params)\n",
        "\n",
        "# Fit the model to the training data\n",
        "best_model.fit(X_train, y_train)\n",
        "\n",
        "# Make predictions on the test set\n",
        "y_pred = best_model.predict(X_test)\n",
        "\n",
        "# Calculate the accuracy on the test set\n",
        "test_accuracy = accuracy_score(y_test, y_pred)\n",
        "\n",
        "# Print the test accuracy\n",
        "print(f'Test Accuracy with Random Search hyperparameters: {test_accuracy:.2f}')"
      ],
      "metadata": {
        "colab": {
          "base_uri": "https://localhost:8080/"
        },
        "id": "lXtQf_xR-UIS",
        "outputId": "107fc0e7-083c-4459-ba80-ce281afff5c4"
      },
      "execution_count": 48,
      "outputs": [
        {
          "output_type": "stream",
          "name": "stdout",
          "text": [
            "{'n_estimators': 121, 'max_depth': 19}\n",
            "Test Accuracy with Random Search hyperparameters: 0.74\n"
          ]
        }
      ]
    },
    {
      "cell_type": "markdown",
      "source": [
        "## Execution of the Grid Search"
      ],
      "metadata": {
        "id": "rENuUdKQ-J32"
      }
    },
    {
      "cell_type": "code",
      "source": [
        "# for the grid search technique you have to define the search interval first then you just pass the search sapce into the samplers\n",
        "search_space = {\n",
        "    'n_estimators': [50, 100, 150, 200],\n",
        "    'max_depth': [5, 10, 15, 20]\n",
        "}"
      ],
      "metadata": {
        "id": "wdqEnckx99Vr"
      },
      "execution_count": 49,
      "outputs": []
    },
    {
      "cell_type": "code",
      "source": [
        "# Create new study object and optimize the objective fucntion\n",
        "study = optuna.create_study(direction='maximize', sampler=optuna.samplers.GridSampler(search_space))\n",
        "study.optimize(objective) # no need of the number of trials cause we define the search space already here it goes on upto 16 (4*4)"
      ],
      "metadata": {
        "colab": {
          "base_uri": "https://localhost:8080/"
        },
        "id": "kILSE_jO-kqt",
        "outputId": "b92eea5b-c377-476e-c358-9c0e11f38df3"
      },
      "execution_count": 50,
      "outputs": [
        {
          "output_type": "stream",
          "name": "stderr",
          "text": [
            "[I 2025-10-13 20:09:27,338] A new study created in memory with name: no-name-f1da0c2b-d47e-44bc-a3f1-3e332de3ce8f\n",
            "[I 2025-10-13 20:09:27,726] Trial 0 finished with value: 0.7690875232774674 and parameters: {'n_estimators': 100, 'max_depth': 5}. Best is trial 0 with value: 0.7690875232774674.\n",
            "[I 2025-10-13 20:09:28,551] Trial 1 finished with value: 0.7672253258845437 and parameters: {'n_estimators': 150, 'max_depth': 10}. Best is trial 0 with value: 0.7690875232774674.\n",
            "[I 2025-10-13 20:09:29,213] Trial 2 finished with value: 0.7728119180633147 and parameters: {'n_estimators': 50, 'max_depth': 15}. Best is trial 2 with value: 0.7728119180633147.\n",
            "[I 2025-10-13 20:09:30,369] Trial 3 finished with value: 0.7653631284916201 and parameters: {'n_estimators': 100, 'max_depth': 15}. Best is trial 2 with value: 0.7728119180633147.\n",
            "[I 2025-10-13 20:09:31,158] Trial 4 finished with value: 0.7690875232774674 and parameters: {'n_estimators': 100, 'max_depth': 20}. Best is trial 2 with value: 0.7728119180633147.\n",
            "[I 2025-10-13 20:09:31,483] Trial 5 finished with value: 0.7579143389199254 and parameters: {'n_estimators': 50, 'max_depth': 10}. Best is trial 2 with value: 0.7728119180633147.\n",
            "[I 2025-10-13 20:09:32,429] Trial 6 finished with value: 0.7653631284916201 and parameters: {'n_estimators': 150, 'max_depth': 5}. Best is trial 2 with value: 0.7728119180633147.\n",
            "[I 2025-10-13 20:09:34,335] Trial 7 finished with value: 0.7728119180633147 and parameters: {'n_estimators': 150, 'max_depth': 20}. Best is trial 2 with value: 0.7728119180633147.\n",
            "[I 2025-10-13 20:09:36,223] Trial 8 finished with value: 0.7728119180633147 and parameters: {'n_estimators': 150, 'max_depth': 15}. Best is trial 2 with value: 0.7728119180633147.\n",
            "[I 2025-10-13 20:09:37,030] Trial 9 finished with value: 0.7709497206703911 and parameters: {'n_estimators': 200, 'max_depth': 10}. Best is trial 2 with value: 0.7728119180633147.\n",
            "[I 2025-10-13 20:09:37,845] Trial 10 finished with value: 0.7728119180633147 and parameters: {'n_estimators': 200, 'max_depth': 20}. Best is trial 2 with value: 0.7728119180633147.\n",
            "[I 2025-10-13 20:09:38,625] Trial 11 finished with value: 0.7728119180633147 and parameters: {'n_estimators': 200, 'max_depth': 15}. Best is trial 2 with value: 0.7728119180633147.\n",
            "[I 2025-10-13 20:09:39,347] Trial 12 finished with value: 0.7690875232774674 and parameters: {'n_estimators': 200, 'max_depth': 5}. Best is trial 2 with value: 0.7728119180633147.\n",
            "[I 2025-10-13 20:09:39,540] Trial 13 finished with value: 0.7746741154562384 and parameters: {'n_estimators': 50, 'max_depth': 5}. Best is trial 13 with value: 0.7746741154562384.\n",
            "[I 2025-10-13 20:09:40,126] Trial 14 finished with value: 0.7616387337057727 and parameters: {'n_estimators': 100, 'max_depth': 10}. Best is trial 13 with value: 0.7746741154562384.\n",
            "[I 2025-10-13 20:09:40,594] Trial 15 finished with value: 0.7709497206703911 and parameters: {'n_estimators': 50, 'max_depth': 20}. Best is trial 13 with value: 0.7746741154562384.\n"
          ]
        }
      ]
    },
    {
      "cell_type": "code",
      "source": [
        "# print the output\n",
        "print(study.best_trial.value)\n",
        "print(study.best_trial.params)"
      ],
      "metadata": {
        "colab": {
          "base_uri": "https://localhost:8080/"
        },
        "id": "SqCklS5w_ZRF",
        "outputId": "5eeeaade-8774-4b41-fa9a-9339c4659fbc"
      },
      "execution_count": 51,
      "outputs": [
        {
          "output_type": "stream",
          "name": "stdout",
          "text": [
            "0.7746741154562384\n",
            "{'n_estimators': 50, 'max_depth': 5}\n"
          ]
        }
      ]
    },
    {
      "cell_type": "code",
      "source": [
        "from sklearn.metrics import accuracy_score\n",
        "\n",
        "# Train a RandomForestClassifier using the Grid Search hyperparameters from Optuna\n",
        "best_model = RandomForestClassifier(**study.best_trial.params, random_state=42)\n",
        "print(study.best_trial.params)\n",
        "\n",
        "# Fit the model to the training data\n",
        "best_model.fit(X_train, y_train)\n",
        "\n",
        "# Make predictions on the test set\n",
        "y_pred = best_model.predict(X_test)\n",
        "\n",
        "# Calculate the accuracy on the test set\n",
        "test_accuracy = accuracy_score(y_test, y_pred)\n",
        "\n",
        "# Print the test accuracy\n",
        "print(f'Test Accuracy with Grid Search hyperparameters: {test_accuracy:.2f}')\n"
      ],
      "metadata": {
        "colab": {
          "base_uri": "https://localhost:8080/"
        },
        "id": "OUsrdEsT_zVB",
        "outputId": "d056bdc1-4193-4c59-a05d-3bc89d0ef54c"
      },
      "execution_count": 52,
      "outputs": [
        {
          "output_type": "stream",
          "name": "stdout",
          "text": [
            "{'n_estimators': 50, 'max_depth': 5}\n",
            "Test Accuracy with Grid Search hyperparameters: 0.74\n"
          ]
        }
      ]
    },
    {
      "cell_type": "markdown",
      "source": [
        "# Optuna Visualization"
      ],
      "metadata": {
        "id": "gNCCnoccBT68"
      }
    },
    {
      "cell_type": "code",
      "source": [
        "# For visualizations\n",
        "from optuna.visualization import plot_optimization_history, plot_parallel_coordinate, plot_slice, plot_contour, plot_param_importances"
      ],
      "metadata": {
        "id": "n8FV3alUAy9O"
      },
      "execution_count": 53,
      "outputs": []
    },
    {
      "cell_type": "code",
      "source": [
        "# 1. Optimization History\n",
        "plot_optimization_history(study1).show()\n",
        "# graph between the trial number and the objective function -> you can take some info to plan our trail cause if you see after the 31st trail graph is not increaseing"
      ],
      "metadata": {
        "colab": {
          "base_uri": "https://localhost:8080/",
          "height": 542
        },
        "id": "mpr03ceABbXU",
        "outputId": "19655699-08d9-48fa-cd4d-8c251d2c617d"
      },
      "execution_count": 54,
      "outputs": [
        {
          "output_type": "display_data",
          "data": {
            "text/html": [
              "<html>\n",
              "<head><meta charset=\"utf-8\" /></head>\n",
              "<body>\n",
              "    <div>            <script src=\"https://cdnjs.cloudflare.com/ajax/libs/mathjax/2.7.5/MathJax.js?config=TeX-AMS-MML_SVG\"></script><script type=\"text/javascript\">if (window.MathJax && window.MathJax.Hub && window.MathJax.Hub.Config) {window.MathJax.Hub.Config({SVG: {font: \"STIX-Web\"}});}</script>                <script type=\"text/javascript\">window.PlotlyConfig = {MathJaxConfig: 'local'};</script>\n",
              "        <script charset=\"utf-8\" src=\"https://cdn.plot.ly/plotly-2.35.2.min.js\"></script>                <div id=\"204477f6-605c-4db1-a38d-94e217266465\" class=\"plotly-graph-div\" style=\"height:525px; width:100%;\"></div>            <script type=\"text/javascript\">                                    window.PLOTLYENV=window.PLOTLYENV || {};                                    if (document.getElementById(\"204477f6-605c-4db1-a38d-94e217266465\")) {                    Plotly.newPlot(                        \"204477f6-605c-4db1-a38d-94e217266465\",                        [{\"mode\":\"markers\",\"name\":\"Objective Value\",\"x\":[0,1,2,3,4,5,6,7,8,9,10,11,12,13,14,15,16,17,18,19,20,21,22,23,24,25,26,27,28,29,30,31,32,33,34,35,36,37,38,39,40,41,42,43,44,45,46,47,48,49],\"y\":[0.7746741154562384,0.7746741154562384,0.7783985102420856,0.7746741154562384,0.7746741154562384,0.7765363128491619,0.7616387337057727,0.7783985102420856,0.7653631284916201,0.7653631284916201,0.7653631284916201,0.7635009310986964,0.7672253258845437,0.7653631284916201,0.7523277467411545,0.7765363128491621,0.7672253258845437,0.7579143389199255,0.7690875232774674,0.7746741154562384,0.7728119180633147,0.7802607076350093,0.7709497206703911,0.7709497206703911,0.7728119180633147,0.7672253258845437,0.7709497206703911,0.7765363128491621,0.7709497206703911,0.7653631284916201,0.7709497206703911,0.7746741154562383,0.7765363128491619,0.7802607076350093,0.7728119180633147,0.7728119180633147,0.7783985102420857,0.7653631284916201,0.7821229050279329,0.7783985102420856,0.7709497206703911,0.7709497206703911,0.7635009310986964,0.7802607076350093,0.7802607076350093,0.7783985102420856,0.7728119180633147,0.7690875232774674,0.7690875232774674,0.7821229050279329],\"type\":\"scatter\"},{\"mode\":\"lines\",\"name\":\"Best Value\",\"x\":[0,1,2,3,4,5,6,7,8,9,10,11,12,13,14,15,16,17,18,19,20,21,22,23,24,25,26,27,28,29,30,31,32,33,34,35,36,37,38,39,40,41,42,43,44,45,46,47,48,49],\"y\":[0.7746741154562384,0.7746741154562384,0.7783985102420856,0.7783985102420856,0.7783985102420856,0.7783985102420856,0.7783985102420856,0.7783985102420856,0.7783985102420856,0.7783985102420856,0.7783985102420856,0.7783985102420856,0.7783985102420856,0.7783985102420856,0.7783985102420856,0.7783985102420856,0.7783985102420856,0.7783985102420856,0.7783985102420856,0.7783985102420856,0.7783985102420856,0.7802607076350093,0.7802607076350093,0.7802607076350093,0.7802607076350093,0.7802607076350093,0.7802607076350093,0.7802607076350093,0.7802607076350093,0.7802607076350093,0.7802607076350093,0.7802607076350093,0.7802607076350093,0.7802607076350093,0.7802607076350093,0.7802607076350093,0.7802607076350093,0.7802607076350093,0.7821229050279329,0.7821229050279329,0.7821229050279329,0.7821229050279329,0.7821229050279329,0.7821229050279329,0.7821229050279329,0.7821229050279329,0.7821229050279329,0.7821229050279329,0.7821229050279329,0.7821229050279329],\"type\":\"scatter\"},{\"marker\":{\"color\":\"#cccccc\"},\"mode\":\"markers\",\"name\":\"Infeasible Trial\",\"showlegend\":false,\"x\":[],\"y\":[],\"type\":\"scatter\"}],                        {\"title\":{\"text\":\"Optimization History Plot\"},\"xaxis\":{\"title\":{\"text\":\"Trial\"}},\"yaxis\":{\"title\":{\"text\":\"Objective Value\"}},\"template\":{\"data\":{\"histogram2dcontour\":[{\"type\":\"histogram2dcontour\",\"colorbar\":{\"outlinewidth\":0,\"ticks\":\"\"},\"colorscale\":[[0.0,\"#0d0887\"],[0.1111111111111111,\"#46039f\"],[0.2222222222222222,\"#7201a8\"],[0.3333333333333333,\"#9c179e\"],[0.4444444444444444,\"#bd3786\"],[0.5555555555555556,\"#d8576b\"],[0.6666666666666666,\"#ed7953\"],[0.7777777777777778,\"#fb9f3a\"],[0.8888888888888888,\"#fdca26\"],[1.0,\"#f0f921\"]]}],\"choropleth\":[{\"type\":\"choropleth\",\"colorbar\":{\"outlinewidth\":0,\"ticks\":\"\"}}],\"histogram2d\":[{\"type\":\"histogram2d\",\"colorbar\":{\"outlinewidth\":0,\"ticks\":\"\"},\"colorscale\":[[0.0,\"#0d0887\"],[0.1111111111111111,\"#46039f\"],[0.2222222222222222,\"#7201a8\"],[0.3333333333333333,\"#9c179e\"],[0.4444444444444444,\"#bd3786\"],[0.5555555555555556,\"#d8576b\"],[0.6666666666666666,\"#ed7953\"],[0.7777777777777778,\"#fb9f3a\"],[0.8888888888888888,\"#fdca26\"],[1.0,\"#f0f921\"]]}],\"heatmap\":[{\"type\":\"heatmap\",\"colorbar\":{\"outlinewidth\":0,\"ticks\":\"\"},\"colorscale\":[[0.0,\"#0d0887\"],[0.1111111111111111,\"#46039f\"],[0.2222222222222222,\"#7201a8\"],[0.3333333333333333,\"#9c179e\"],[0.4444444444444444,\"#bd3786\"],[0.5555555555555556,\"#d8576b\"],[0.6666666666666666,\"#ed7953\"],[0.7777777777777778,\"#fb9f3a\"],[0.8888888888888888,\"#fdca26\"],[1.0,\"#f0f921\"]]}],\"heatmapgl\":[{\"type\":\"heatmapgl\",\"colorbar\":{\"outlinewidth\":0,\"ticks\":\"\"},\"colorscale\":[[0.0,\"#0d0887\"],[0.1111111111111111,\"#46039f\"],[0.2222222222222222,\"#7201a8\"],[0.3333333333333333,\"#9c179e\"],[0.4444444444444444,\"#bd3786\"],[0.5555555555555556,\"#d8576b\"],[0.6666666666666666,\"#ed7953\"],[0.7777777777777778,\"#fb9f3a\"],[0.8888888888888888,\"#fdca26\"],[1.0,\"#f0f921\"]]}],\"contourcarpet\":[{\"type\":\"contourcarpet\",\"colorbar\":{\"outlinewidth\":0,\"ticks\":\"\"}}],\"contour\":[{\"type\":\"contour\",\"colorbar\":{\"outlinewidth\":0,\"ticks\":\"\"},\"colorscale\":[[0.0,\"#0d0887\"],[0.1111111111111111,\"#46039f\"],[0.2222222222222222,\"#7201a8\"],[0.3333333333333333,\"#9c179e\"],[0.4444444444444444,\"#bd3786\"],[0.5555555555555556,\"#d8576b\"],[0.6666666666666666,\"#ed7953\"],[0.7777777777777778,\"#fb9f3a\"],[0.8888888888888888,\"#fdca26\"],[1.0,\"#f0f921\"]]}],\"surface\":[{\"type\":\"surface\",\"colorbar\":{\"outlinewidth\":0,\"ticks\":\"\"},\"colorscale\":[[0.0,\"#0d0887\"],[0.1111111111111111,\"#46039f\"],[0.2222222222222222,\"#7201a8\"],[0.3333333333333333,\"#9c179e\"],[0.4444444444444444,\"#bd3786\"],[0.5555555555555556,\"#d8576b\"],[0.6666666666666666,\"#ed7953\"],[0.7777777777777778,\"#fb9f3a\"],[0.8888888888888888,\"#fdca26\"],[1.0,\"#f0f921\"]]}],\"mesh3d\":[{\"type\":\"mesh3d\",\"colorbar\":{\"outlinewidth\":0,\"ticks\":\"\"}}],\"scatter\":[{\"fillpattern\":{\"fillmode\":\"overlay\",\"size\":10,\"solidity\":0.2},\"type\":\"scatter\"}],\"parcoords\":[{\"type\":\"parcoords\",\"line\":{\"colorbar\":{\"outlinewidth\":0,\"ticks\":\"\"}}}],\"scatterpolargl\":[{\"type\":\"scatterpolargl\",\"marker\":{\"colorbar\":{\"outlinewidth\":0,\"ticks\":\"\"}}}],\"bar\":[{\"error_x\":{\"color\":\"#2a3f5f\"},\"error_y\":{\"color\":\"#2a3f5f\"},\"marker\":{\"line\":{\"color\":\"#E5ECF6\",\"width\":0.5},\"pattern\":{\"fillmode\":\"overlay\",\"size\":10,\"solidity\":0.2}},\"type\":\"bar\"}],\"scattergeo\":[{\"type\":\"scattergeo\",\"marker\":{\"colorbar\":{\"outlinewidth\":0,\"ticks\":\"\"}}}],\"scatterpolar\":[{\"type\":\"scatterpolar\",\"marker\":{\"colorbar\":{\"outlinewidth\":0,\"ticks\":\"\"}}}],\"histogram\":[{\"marker\":{\"pattern\":{\"fillmode\":\"overlay\",\"size\":10,\"solidity\":0.2}},\"type\":\"histogram\"}],\"scattergl\":[{\"type\":\"scattergl\",\"marker\":{\"colorbar\":{\"outlinewidth\":0,\"ticks\":\"\"}}}],\"scatter3d\":[{\"type\":\"scatter3d\",\"line\":{\"colorbar\":{\"outlinewidth\":0,\"ticks\":\"\"}},\"marker\":{\"colorbar\":{\"outlinewidth\":0,\"ticks\":\"\"}}}],\"scattermapbox\":[{\"type\":\"scattermapbox\",\"marker\":{\"colorbar\":{\"outlinewidth\":0,\"ticks\":\"\"}}}],\"scatterternary\":[{\"type\":\"scatterternary\",\"marker\":{\"colorbar\":{\"outlinewidth\":0,\"ticks\":\"\"}}}],\"scattercarpet\":[{\"type\":\"scattercarpet\",\"marker\":{\"colorbar\":{\"outlinewidth\":0,\"ticks\":\"\"}}}],\"carpet\":[{\"aaxis\":{\"endlinecolor\":\"#2a3f5f\",\"gridcolor\":\"white\",\"linecolor\":\"white\",\"minorgridcolor\":\"white\",\"startlinecolor\":\"#2a3f5f\"},\"baxis\":{\"endlinecolor\":\"#2a3f5f\",\"gridcolor\":\"white\",\"linecolor\":\"white\",\"minorgridcolor\":\"white\",\"startlinecolor\":\"#2a3f5f\"},\"type\":\"carpet\"}],\"table\":[{\"cells\":{\"fill\":{\"color\":\"#EBF0F8\"},\"line\":{\"color\":\"white\"}},\"header\":{\"fill\":{\"color\":\"#C8D4E3\"},\"line\":{\"color\":\"white\"}},\"type\":\"table\"}],\"barpolar\":[{\"marker\":{\"line\":{\"color\":\"#E5ECF6\",\"width\":0.5},\"pattern\":{\"fillmode\":\"overlay\",\"size\":10,\"solidity\":0.2}},\"type\":\"barpolar\"}],\"pie\":[{\"automargin\":true,\"type\":\"pie\"}]},\"layout\":{\"autotypenumbers\":\"strict\",\"colorway\":[\"#636efa\",\"#EF553B\",\"#00cc96\",\"#ab63fa\",\"#FFA15A\",\"#19d3f3\",\"#FF6692\",\"#B6E880\",\"#FF97FF\",\"#FECB52\"],\"font\":{\"color\":\"#2a3f5f\"},\"hovermode\":\"closest\",\"hoverlabel\":{\"align\":\"left\"},\"paper_bgcolor\":\"white\",\"plot_bgcolor\":\"#E5ECF6\",\"polar\":{\"bgcolor\":\"#E5ECF6\",\"angularaxis\":{\"gridcolor\":\"white\",\"linecolor\":\"white\",\"ticks\":\"\"},\"radialaxis\":{\"gridcolor\":\"white\",\"linecolor\":\"white\",\"ticks\":\"\"}},\"ternary\":{\"bgcolor\":\"#E5ECF6\",\"aaxis\":{\"gridcolor\":\"white\",\"linecolor\":\"white\",\"ticks\":\"\"},\"baxis\":{\"gridcolor\":\"white\",\"linecolor\":\"white\",\"ticks\":\"\"},\"caxis\":{\"gridcolor\":\"white\",\"linecolor\":\"white\",\"ticks\":\"\"}},\"coloraxis\":{\"colorbar\":{\"outlinewidth\":0,\"ticks\":\"\"}},\"colorscale\":{\"sequential\":[[0.0,\"#0d0887\"],[0.1111111111111111,\"#46039f\"],[0.2222222222222222,\"#7201a8\"],[0.3333333333333333,\"#9c179e\"],[0.4444444444444444,\"#bd3786\"],[0.5555555555555556,\"#d8576b\"],[0.6666666666666666,\"#ed7953\"],[0.7777777777777778,\"#fb9f3a\"],[0.8888888888888888,\"#fdca26\"],[1.0,\"#f0f921\"]],\"sequentialminus\":[[0.0,\"#0d0887\"],[0.1111111111111111,\"#46039f\"],[0.2222222222222222,\"#7201a8\"],[0.3333333333333333,\"#9c179e\"],[0.4444444444444444,\"#bd3786\"],[0.5555555555555556,\"#d8576b\"],[0.6666666666666666,\"#ed7953\"],[0.7777777777777778,\"#fb9f3a\"],[0.8888888888888888,\"#fdca26\"],[1.0,\"#f0f921\"]],\"diverging\":[[0,\"#8e0152\"],[0.1,\"#c51b7d\"],[0.2,\"#de77ae\"],[0.3,\"#f1b6da\"],[0.4,\"#fde0ef\"],[0.5,\"#f7f7f7\"],[0.6,\"#e6f5d0\"],[0.7,\"#b8e186\"],[0.8,\"#7fbc41\"],[0.9,\"#4d9221\"],[1,\"#276419\"]]},\"xaxis\":{\"gridcolor\":\"white\",\"linecolor\":\"white\",\"ticks\":\"\",\"title\":{\"standoff\":15},\"zerolinecolor\":\"white\",\"automargin\":true,\"zerolinewidth\":2},\"yaxis\":{\"gridcolor\":\"white\",\"linecolor\":\"white\",\"ticks\":\"\",\"title\":{\"standoff\":15},\"zerolinecolor\":\"white\",\"automargin\":true,\"zerolinewidth\":2},\"scene\":{\"xaxis\":{\"backgroundcolor\":\"#E5ECF6\",\"gridcolor\":\"white\",\"linecolor\":\"white\",\"showbackground\":true,\"ticks\":\"\",\"zerolinecolor\":\"white\",\"gridwidth\":2},\"yaxis\":{\"backgroundcolor\":\"#E5ECF6\",\"gridcolor\":\"white\",\"linecolor\":\"white\",\"showbackground\":true,\"ticks\":\"\",\"zerolinecolor\":\"white\",\"gridwidth\":2},\"zaxis\":{\"backgroundcolor\":\"#E5ECF6\",\"gridcolor\":\"white\",\"linecolor\":\"white\",\"showbackground\":true,\"ticks\":\"\",\"zerolinecolor\":\"white\",\"gridwidth\":2}},\"shapedefaults\":{\"line\":{\"color\":\"#2a3f5f\"}},\"annotationdefaults\":{\"arrowcolor\":\"#2a3f5f\",\"arrowhead\":0,\"arrowwidth\":1},\"geo\":{\"bgcolor\":\"white\",\"landcolor\":\"#E5ECF6\",\"subunitcolor\":\"white\",\"showland\":true,\"showlakes\":true,\"lakecolor\":\"white\"},\"title\":{\"x\":0.05},\"mapbox\":{\"style\":\"light\"}}}},                        {\"responsive\": true}                    ).then(function(){\n",
              "                            \n",
              "var gd = document.getElementById('204477f6-605c-4db1-a38d-94e217266465');\n",
              "var x = new MutationObserver(function (mutations, observer) {{\n",
              "        var display = window.getComputedStyle(gd).display;\n",
              "        if (!display || display === 'none') {{\n",
              "            console.log([gd, 'removed!']);\n",
              "            Plotly.purge(gd);\n",
              "            observer.disconnect();\n",
              "        }}\n",
              "}});\n",
              "\n",
              "// Listen for the removal of the full notebook cells\n",
              "var notebookContainer = gd.closest('#notebook-container');\n",
              "if (notebookContainer) {{\n",
              "    x.observe(notebookContainer, {childList: true});\n",
              "}}\n",
              "\n",
              "// Listen for the clearing of the current output cell\n",
              "var outputEl = gd.closest('.output');\n",
              "if (outputEl) {{\n",
              "    x.observe(outputEl, {childList: true});\n",
              "}}\n",
              "\n",
              "                        })                };                            </script>        </div>\n",
              "</body>\n",
              "</html>"
            ]
          },
          "metadata": {}
        }
      ]
    },
    {
      "cell_type": "code",
      "source": [
        "# 2. Parallel Coordinates Plot\n",
        "plot_parallel_coordinate(study1).show()\n",
        "#  It helps you to understand between the max_depth, n_estiometers and the objective function\n",
        "\n",
        "#  you have to where the number of line are more, where the number of trials are more it is hotspot where number trails conducted more that means it is promissing region"
      ],
      "metadata": {
        "colab": {
          "base_uri": "https://localhost:8080/",
          "height": 542
        },
        "id": "s9BIkquXBqYh",
        "outputId": "27ef39df-cabd-4a68-d2ab-62bd9cd15161"
      },
      "execution_count": 55,
      "outputs": [
        {
          "output_type": "display_data",
          "data": {
            "text/html": [
              "<html>\n",
              "<head><meta charset=\"utf-8\" /></head>\n",
              "<body>\n",
              "    <div>            <script src=\"https://cdnjs.cloudflare.com/ajax/libs/mathjax/2.7.5/MathJax.js?config=TeX-AMS-MML_SVG\"></script><script type=\"text/javascript\">if (window.MathJax && window.MathJax.Hub && window.MathJax.Hub.Config) {window.MathJax.Hub.Config({SVG: {font: \"STIX-Web\"}});}</script>                <script type=\"text/javascript\">window.PlotlyConfig = {MathJaxConfig: 'local'};</script>\n",
              "        <script charset=\"utf-8\" src=\"https://cdn.plot.ly/plotly-2.35.2.min.js\"></script>                <div id=\"2e0a4692-b6b9-46e5-b73c-57551e71081a\" class=\"plotly-graph-div\" style=\"height:525px; width:100%;\"></div>            <script type=\"text/javascript\">                                    window.PLOTLYENV=window.PLOTLYENV || {};                                    if (document.getElementById(\"2e0a4692-b6b9-46e5-b73c-57551e71081a\")) {                    Plotly.newPlot(                        \"2e0a4692-b6b9-46e5-b73c-57551e71081a\",                        [{\"dimensions\":[{\"label\":\"Objective Value\",\"range\":[0.7523277467411545,0.7821229050279329],\"values\":[0.7746741154562384,0.7746741154562384,0.7783985102420856,0.7746741154562384,0.7746741154562384,0.7765363128491619,0.7616387337057727,0.7783985102420856,0.7653631284916201,0.7653631284916201,0.7653631284916201,0.7635009310986964,0.7672253258845437,0.7653631284916201,0.7523277467411545,0.7765363128491621,0.7672253258845437,0.7579143389199255,0.7690875232774674,0.7746741154562384,0.7728119180633147,0.7802607076350093,0.7709497206703911,0.7709497206703911,0.7728119180633147,0.7672253258845437,0.7709497206703911,0.7765363128491621,0.7709497206703911,0.7653631284916201,0.7709497206703911,0.7746741154562383,0.7765363128491619,0.7802607076350093,0.7728119180633147,0.7728119180633147,0.7783985102420857,0.7653631284916201,0.7821229050279329,0.7783985102420856,0.7709497206703911,0.7709497206703911,0.7635009310986964,0.7802607076350093,0.7802607076350093,0.7783985102420856,0.7728119180633147,0.7690875232774674,0.7690875232774674,0.7821229050279329]},{\"label\":\"max_depth\",\"range\":[3,20],\"values\":[8,17,16,7,19,12,8,5,6,9,14,4,16,12,3,20,15,10,14,5,18,20,20,17,14,11,18,16,19,11,13,20,20,18,18,17,16,15,19,19,19,17,16,18,18,18,19,17,19,18]},{\"label\":\"n_estimators\",\"range\":[51,250],\"values\":[55,223,109,59,53,120,186,66,146,207,108,98,89,150,82,130,160,77,121,71,250,125,172,99,127,110,138,70,93,109,164,132,135,115,62,107,55,51,119,195,144,120,85,113,115,116,156,142,101,124]}],\"labelangle\":30,\"labelside\":\"bottom\",\"line\":{\"color\":[0.7746741154562384,0.7746741154562384,0.7783985102420856,0.7746741154562384,0.7746741154562384,0.7765363128491619,0.7616387337057727,0.7783985102420856,0.7653631284916201,0.7653631284916201,0.7653631284916201,0.7635009310986964,0.7672253258845437,0.7653631284916201,0.7523277467411545,0.7765363128491621,0.7672253258845437,0.7579143389199255,0.7690875232774674,0.7746741154562384,0.7728119180633147,0.7802607076350093,0.7709497206703911,0.7709497206703911,0.7728119180633147,0.7672253258845437,0.7709497206703911,0.7765363128491621,0.7709497206703911,0.7653631284916201,0.7709497206703911,0.7746741154562383,0.7765363128491619,0.7802607076350093,0.7728119180633147,0.7728119180633147,0.7783985102420857,0.7653631284916201,0.7821229050279329,0.7783985102420856,0.7709497206703911,0.7709497206703911,0.7635009310986964,0.7802607076350093,0.7802607076350093,0.7783985102420856,0.7728119180633147,0.7690875232774674,0.7690875232774674,0.7821229050279329],\"colorbar\":{\"title\":{\"text\":\"Objective Value\"}},\"colorscale\":[[0.0,\"rgb(247,251,255)\"],[0.125,\"rgb(222,235,247)\"],[0.25,\"rgb(198,219,239)\"],[0.375,\"rgb(158,202,225)\"],[0.5,\"rgb(107,174,214)\"],[0.625,\"rgb(66,146,198)\"],[0.75,\"rgb(33,113,181)\"],[0.875,\"rgb(8,81,156)\"],[1.0,\"rgb(8,48,107)\"]],\"reversescale\":false,\"showscale\":true},\"type\":\"parcoords\"}],                        {\"title\":{\"text\":\"Parallel Coordinate Plot\"},\"template\":{\"data\":{\"histogram2dcontour\":[{\"type\":\"histogram2dcontour\",\"colorbar\":{\"outlinewidth\":0,\"ticks\":\"\"},\"colorscale\":[[0.0,\"#0d0887\"],[0.1111111111111111,\"#46039f\"],[0.2222222222222222,\"#7201a8\"],[0.3333333333333333,\"#9c179e\"],[0.4444444444444444,\"#bd3786\"],[0.5555555555555556,\"#d8576b\"],[0.6666666666666666,\"#ed7953\"],[0.7777777777777778,\"#fb9f3a\"],[0.8888888888888888,\"#fdca26\"],[1.0,\"#f0f921\"]]}],\"choropleth\":[{\"type\":\"choropleth\",\"colorbar\":{\"outlinewidth\":0,\"ticks\":\"\"}}],\"histogram2d\":[{\"type\":\"histogram2d\",\"colorbar\":{\"outlinewidth\":0,\"ticks\":\"\"},\"colorscale\":[[0.0,\"#0d0887\"],[0.1111111111111111,\"#46039f\"],[0.2222222222222222,\"#7201a8\"],[0.3333333333333333,\"#9c179e\"],[0.4444444444444444,\"#bd3786\"],[0.5555555555555556,\"#d8576b\"],[0.6666666666666666,\"#ed7953\"],[0.7777777777777778,\"#fb9f3a\"],[0.8888888888888888,\"#fdca26\"],[1.0,\"#f0f921\"]]}],\"heatmap\":[{\"type\":\"heatmap\",\"colorbar\":{\"outlinewidth\":0,\"ticks\":\"\"},\"colorscale\":[[0.0,\"#0d0887\"],[0.1111111111111111,\"#46039f\"],[0.2222222222222222,\"#7201a8\"],[0.3333333333333333,\"#9c179e\"],[0.4444444444444444,\"#bd3786\"],[0.5555555555555556,\"#d8576b\"],[0.6666666666666666,\"#ed7953\"],[0.7777777777777778,\"#fb9f3a\"],[0.8888888888888888,\"#fdca26\"],[1.0,\"#f0f921\"]]}],\"heatmapgl\":[{\"type\":\"heatmapgl\",\"colorbar\":{\"outlinewidth\":0,\"ticks\":\"\"},\"colorscale\":[[0.0,\"#0d0887\"],[0.1111111111111111,\"#46039f\"],[0.2222222222222222,\"#7201a8\"],[0.3333333333333333,\"#9c179e\"],[0.4444444444444444,\"#bd3786\"],[0.5555555555555556,\"#d8576b\"],[0.6666666666666666,\"#ed7953\"],[0.7777777777777778,\"#fb9f3a\"],[0.8888888888888888,\"#fdca26\"],[1.0,\"#f0f921\"]]}],\"contourcarpet\":[{\"type\":\"contourcarpet\",\"colorbar\":{\"outlinewidth\":0,\"ticks\":\"\"}}],\"contour\":[{\"type\":\"contour\",\"colorbar\":{\"outlinewidth\":0,\"ticks\":\"\"},\"colorscale\":[[0.0,\"#0d0887\"],[0.1111111111111111,\"#46039f\"],[0.2222222222222222,\"#7201a8\"],[0.3333333333333333,\"#9c179e\"],[0.4444444444444444,\"#bd3786\"],[0.5555555555555556,\"#d8576b\"],[0.6666666666666666,\"#ed7953\"],[0.7777777777777778,\"#fb9f3a\"],[0.8888888888888888,\"#fdca26\"],[1.0,\"#f0f921\"]]}],\"surface\":[{\"type\":\"surface\",\"colorbar\":{\"outlinewidth\":0,\"ticks\":\"\"},\"colorscale\":[[0.0,\"#0d0887\"],[0.1111111111111111,\"#46039f\"],[0.2222222222222222,\"#7201a8\"],[0.3333333333333333,\"#9c179e\"],[0.4444444444444444,\"#bd3786\"],[0.5555555555555556,\"#d8576b\"],[0.6666666666666666,\"#ed7953\"],[0.7777777777777778,\"#fb9f3a\"],[0.8888888888888888,\"#fdca26\"],[1.0,\"#f0f921\"]]}],\"mesh3d\":[{\"type\":\"mesh3d\",\"colorbar\":{\"outlinewidth\":0,\"ticks\":\"\"}}],\"scatter\":[{\"fillpattern\":{\"fillmode\":\"overlay\",\"size\":10,\"solidity\":0.2},\"type\":\"scatter\"}],\"parcoords\":[{\"type\":\"parcoords\",\"line\":{\"colorbar\":{\"outlinewidth\":0,\"ticks\":\"\"}}}],\"scatterpolargl\":[{\"type\":\"scatterpolargl\",\"marker\":{\"colorbar\":{\"outlinewidth\":0,\"ticks\":\"\"}}}],\"bar\":[{\"error_x\":{\"color\":\"#2a3f5f\"},\"error_y\":{\"color\":\"#2a3f5f\"},\"marker\":{\"line\":{\"color\":\"#E5ECF6\",\"width\":0.5},\"pattern\":{\"fillmode\":\"overlay\",\"size\":10,\"solidity\":0.2}},\"type\":\"bar\"}],\"scattergeo\":[{\"type\":\"scattergeo\",\"marker\":{\"colorbar\":{\"outlinewidth\":0,\"ticks\":\"\"}}}],\"scatterpolar\":[{\"type\":\"scatterpolar\",\"marker\":{\"colorbar\":{\"outlinewidth\":0,\"ticks\":\"\"}}}],\"histogram\":[{\"marker\":{\"pattern\":{\"fillmode\":\"overlay\",\"size\":10,\"solidity\":0.2}},\"type\":\"histogram\"}],\"scattergl\":[{\"type\":\"scattergl\",\"marker\":{\"colorbar\":{\"outlinewidth\":0,\"ticks\":\"\"}}}],\"scatter3d\":[{\"type\":\"scatter3d\",\"line\":{\"colorbar\":{\"outlinewidth\":0,\"ticks\":\"\"}},\"marker\":{\"colorbar\":{\"outlinewidth\":0,\"ticks\":\"\"}}}],\"scattermapbox\":[{\"type\":\"scattermapbox\",\"marker\":{\"colorbar\":{\"outlinewidth\":0,\"ticks\":\"\"}}}],\"scatterternary\":[{\"type\":\"scatterternary\",\"marker\":{\"colorbar\":{\"outlinewidth\":0,\"ticks\":\"\"}}}],\"scattercarpet\":[{\"type\":\"scattercarpet\",\"marker\":{\"colorbar\":{\"outlinewidth\":0,\"ticks\":\"\"}}}],\"carpet\":[{\"aaxis\":{\"endlinecolor\":\"#2a3f5f\",\"gridcolor\":\"white\",\"linecolor\":\"white\",\"minorgridcolor\":\"white\",\"startlinecolor\":\"#2a3f5f\"},\"baxis\":{\"endlinecolor\":\"#2a3f5f\",\"gridcolor\":\"white\",\"linecolor\":\"white\",\"minorgridcolor\":\"white\",\"startlinecolor\":\"#2a3f5f\"},\"type\":\"carpet\"}],\"table\":[{\"cells\":{\"fill\":{\"color\":\"#EBF0F8\"},\"line\":{\"color\":\"white\"}},\"header\":{\"fill\":{\"color\":\"#C8D4E3\"},\"line\":{\"color\":\"white\"}},\"type\":\"table\"}],\"barpolar\":[{\"marker\":{\"line\":{\"color\":\"#E5ECF6\",\"width\":0.5},\"pattern\":{\"fillmode\":\"overlay\",\"size\":10,\"solidity\":0.2}},\"type\":\"barpolar\"}],\"pie\":[{\"automargin\":true,\"type\":\"pie\"}]},\"layout\":{\"autotypenumbers\":\"strict\",\"colorway\":[\"#636efa\",\"#EF553B\",\"#00cc96\",\"#ab63fa\",\"#FFA15A\",\"#19d3f3\",\"#FF6692\",\"#B6E880\",\"#FF97FF\",\"#FECB52\"],\"font\":{\"color\":\"#2a3f5f\"},\"hovermode\":\"closest\",\"hoverlabel\":{\"align\":\"left\"},\"paper_bgcolor\":\"white\",\"plot_bgcolor\":\"#E5ECF6\",\"polar\":{\"bgcolor\":\"#E5ECF6\",\"angularaxis\":{\"gridcolor\":\"white\",\"linecolor\":\"white\",\"ticks\":\"\"},\"radialaxis\":{\"gridcolor\":\"white\",\"linecolor\":\"white\",\"ticks\":\"\"}},\"ternary\":{\"bgcolor\":\"#E5ECF6\",\"aaxis\":{\"gridcolor\":\"white\",\"linecolor\":\"white\",\"ticks\":\"\"},\"baxis\":{\"gridcolor\":\"white\",\"linecolor\":\"white\",\"ticks\":\"\"},\"caxis\":{\"gridcolor\":\"white\",\"linecolor\":\"white\",\"ticks\":\"\"}},\"coloraxis\":{\"colorbar\":{\"outlinewidth\":0,\"ticks\":\"\"}},\"colorscale\":{\"sequential\":[[0.0,\"#0d0887\"],[0.1111111111111111,\"#46039f\"],[0.2222222222222222,\"#7201a8\"],[0.3333333333333333,\"#9c179e\"],[0.4444444444444444,\"#bd3786\"],[0.5555555555555556,\"#d8576b\"],[0.6666666666666666,\"#ed7953\"],[0.7777777777777778,\"#fb9f3a\"],[0.8888888888888888,\"#fdca26\"],[1.0,\"#f0f921\"]],\"sequentialminus\":[[0.0,\"#0d0887\"],[0.1111111111111111,\"#46039f\"],[0.2222222222222222,\"#7201a8\"],[0.3333333333333333,\"#9c179e\"],[0.4444444444444444,\"#bd3786\"],[0.5555555555555556,\"#d8576b\"],[0.6666666666666666,\"#ed7953\"],[0.7777777777777778,\"#fb9f3a\"],[0.8888888888888888,\"#fdca26\"],[1.0,\"#f0f921\"]],\"diverging\":[[0,\"#8e0152\"],[0.1,\"#c51b7d\"],[0.2,\"#de77ae\"],[0.3,\"#f1b6da\"],[0.4,\"#fde0ef\"],[0.5,\"#f7f7f7\"],[0.6,\"#e6f5d0\"],[0.7,\"#b8e186\"],[0.8,\"#7fbc41\"],[0.9,\"#4d9221\"],[1,\"#276419\"]]},\"xaxis\":{\"gridcolor\":\"white\",\"linecolor\":\"white\",\"ticks\":\"\",\"title\":{\"standoff\":15},\"zerolinecolor\":\"white\",\"automargin\":true,\"zerolinewidth\":2},\"yaxis\":{\"gridcolor\":\"white\",\"linecolor\":\"white\",\"ticks\":\"\",\"title\":{\"standoff\":15},\"zerolinecolor\":\"white\",\"automargin\":true,\"zerolinewidth\":2},\"scene\":{\"xaxis\":{\"backgroundcolor\":\"#E5ECF6\",\"gridcolor\":\"white\",\"linecolor\":\"white\",\"showbackground\":true,\"ticks\":\"\",\"zerolinecolor\":\"white\",\"gridwidth\":2},\"yaxis\":{\"backgroundcolor\":\"#E5ECF6\",\"gridcolor\":\"white\",\"linecolor\":\"white\",\"showbackground\":true,\"ticks\":\"\",\"zerolinecolor\":\"white\",\"gridwidth\":2},\"zaxis\":{\"backgroundcolor\":\"#E5ECF6\",\"gridcolor\":\"white\",\"linecolor\":\"white\",\"showbackground\":true,\"ticks\":\"\",\"zerolinecolor\":\"white\",\"gridwidth\":2}},\"shapedefaults\":{\"line\":{\"color\":\"#2a3f5f\"}},\"annotationdefaults\":{\"arrowcolor\":\"#2a3f5f\",\"arrowhead\":0,\"arrowwidth\":1},\"geo\":{\"bgcolor\":\"white\",\"landcolor\":\"#E5ECF6\",\"subunitcolor\":\"white\",\"showland\":true,\"showlakes\":true,\"lakecolor\":\"white\"},\"title\":{\"x\":0.05},\"mapbox\":{\"style\":\"light\"}}}},                        {\"responsive\": true}                    ).then(function(){\n",
              "                            \n",
              "var gd = document.getElementById('2e0a4692-b6b9-46e5-b73c-57551e71081a');\n",
              "var x = new MutationObserver(function (mutations, observer) {{\n",
              "        var display = window.getComputedStyle(gd).display;\n",
              "        if (!display || display === 'none') {{\n",
              "            console.log([gd, 'removed!']);\n",
              "            Plotly.purge(gd);\n",
              "            observer.disconnect();\n",
              "        }}\n",
              "}});\n",
              "\n",
              "// Listen for the removal of the full notebook cells\n",
              "var notebookContainer = gd.closest('#notebook-container');\n",
              "if (notebookContainer) {{\n",
              "    x.observe(notebookContainer, {childList: true});\n",
              "}}\n",
              "\n",
              "// Listen for the clearing of the current output cell\n",
              "var outputEl = gd.closest('.output');\n",
              "if (outputEl) {{\n",
              "    x.observe(outputEl, {childList: true});\n",
              "}}\n",
              "\n",
              "                        })                };                            </script>        </div>\n",
              "</body>\n",
              "</html>"
            ]
          },
          "metadata": {}
        }
      ]
    },
    {
      "cell_type": "code",
      "source": [
        "# 3. Slice Plot\n",
        "plot_slice(study1).show()\n",
        "# We plot the evry induvuial feature or parameter with the objective function"
      ],
      "metadata": {
        "colab": {
          "base_uri": "https://localhost:8080/",
          "height": 542
        },
        "id": "FabXPzXkCUQZ",
        "outputId": "5a4e8209-fcd5-4b0b-a7da-55b0797c4ea7"
      },
      "execution_count": 56,
      "outputs": [
        {
          "output_type": "display_data",
          "data": {
            "text/html": [
              "<html>\n",
              "<head><meta charset=\"utf-8\" /></head>\n",
              "<body>\n",
              "    <div>            <script src=\"https://cdnjs.cloudflare.com/ajax/libs/mathjax/2.7.5/MathJax.js?config=TeX-AMS-MML_SVG\"></script><script type=\"text/javascript\">if (window.MathJax && window.MathJax.Hub && window.MathJax.Hub.Config) {window.MathJax.Hub.Config({SVG: {font: \"STIX-Web\"}});}</script>                <script type=\"text/javascript\">window.PlotlyConfig = {MathJaxConfig: 'local'};</script>\n",
              "        <script charset=\"utf-8\" src=\"https://cdn.plot.ly/plotly-2.35.2.min.js\"></script>                <div id=\"a552b314-fccc-4535-8f75-8b87b9986ff3\" class=\"plotly-graph-div\" style=\"height:525px; width:100%;\"></div>            <script type=\"text/javascript\">                                    window.PLOTLYENV=window.PLOTLYENV || {};                                    if (document.getElementById(\"a552b314-fccc-4535-8f75-8b87b9986ff3\")) {                    Plotly.newPlot(                        \"a552b314-fccc-4535-8f75-8b87b9986ff3\",                        [{\"marker\":{\"color\":[0,1,2,3,4,5,6,7,8,9,10,11,12,13,14,15,16,17,18,19,20,21,22,23,24,25,26,27,28,29,30,31,32,33,34,35,36,37,38,39,40,41,42,43,44,45,46,47,48,49],\"colorbar\":{\"title\":{\"text\":\"Trial\"},\"x\":1.0,\"xpad\":40},\"colorscale\":[[0.0,\"rgb(247,251,255)\"],[0.125,\"rgb(222,235,247)\"],[0.25,\"rgb(198,219,239)\"],[0.375,\"rgb(158,202,225)\"],[0.5,\"rgb(107,174,214)\"],[0.625,\"rgb(66,146,198)\"],[0.75,\"rgb(33,113,181)\"],[0.875,\"rgb(8,81,156)\"],[1.0,\"rgb(8,48,107)\"]],\"line\":{\"color\":\"Grey\",\"width\":0.5},\"showscale\":true},\"mode\":\"markers\",\"name\":\"Feasible Trial\",\"showlegend\":false,\"x\":[8,17,16,7,19,12,8,5,6,9,14,4,16,12,3,20,15,10,14,5,18,20,20,17,14,11,18,16,19,11,13,20,20,18,18,17,16,15,19,19,19,17,16,18,18,18,19,17,19,18],\"y\":[0.7746741154562384,0.7746741154562384,0.7783985102420856,0.7746741154562384,0.7746741154562384,0.7765363128491619,0.7616387337057727,0.7783985102420856,0.7653631284916201,0.7653631284916201,0.7653631284916201,0.7635009310986964,0.7672253258845437,0.7653631284916201,0.7523277467411545,0.7765363128491621,0.7672253258845437,0.7579143389199255,0.7690875232774674,0.7746741154562384,0.7728119180633147,0.7802607076350093,0.7709497206703911,0.7709497206703911,0.7728119180633147,0.7672253258845437,0.7709497206703911,0.7765363128491621,0.7709497206703911,0.7653631284916201,0.7709497206703911,0.7746741154562383,0.7765363128491619,0.7802607076350093,0.7728119180633147,0.7728119180633147,0.7783985102420857,0.7653631284916201,0.7821229050279329,0.7783985102420856,0.7709497206703911,0.7709497206703911,0.7635009310986964,0.7802607076350093,0.7802607076350093,0.7783985102420856,0.7728119180633147,0.7690875232774674,0.7690875232774674,0.7821229050279329],\"type\":\"scatter\",\"xaxis\":\"x\",\"yaxis\":\"y\"},{\"marker\":{\"color\":[0,1,2,3,4,5,6,7,8,9,10,11,12,13,14,15,16,17,18,19,20,21,22,23,24,25,26,27,28,29,30,31,32,33,34,35,36,37,38,39,40,41,42,43,44,45,46,47,48,49],\"colorbar\":{\"title\":{\"text\":\"Trial\"},\"x\":1.0,\"xpad\":40},\"colorscale\":[[0.0,\"rgb(247,251,255)\"],[0.125,\"rgb(222,235,247)\"],[0.25,\"rgb(198,219,239)\"],[0.375,\"rgb(158,202,225)\"],[0.5,\"rgb(107,174,214)\"],[0.625,\"rgb(66,146,198)\"],[0.75,\"rgb(33,113,181)\"],[0.875,\"rgb(8,81,156)\"],[1.0,\"rgb(8,48,107)\"]],\"line\":{\"color\":\"Grey\",\"width\":0.5},\"showscale\":false},\"mode\":\"markers\",\"name\":\"Feasible Trial\",\"showlegend\":false,\"x\":[55,223,109,59,53,120,186,66,146,207,108,98,89,150,82,130,160,77,121,71,250,125,172,99,127,110,138,70,93,109,164,132,135,115,62,107,55,51,119,195,144,120,85,113,115,116,156,142,101,124],\"y\":[0.7746741154562384,0.7746741154562384,0.7783985102420856,0.7746741154562384,0.7746741154562384,0.7765363128491619,0.7616387337057727,0.7783985102420856,0.7653631284916201,0.7653631284916201,0.7653631284916201,0.7635009310986964,0.7672253258845437,0.7653631284916201,0.7523277467411545,0.7765363128491621,0.7672253258845437,0.7579143389199255,0.7690875232774674,0.7746741154562384,0.7728119180633147,0.7802607076350093,0.7709497206703911,0.7709497206703911,0.7728119180633147,0.7672253258845437,0.7709497206703911,0.7765363128491621,0.7709497206703911,0.7653631284916201,0.7709497206703911,0.7746741154562383,0.7765363128491619,0.7802607076350093,0.7728119180633147,0.7728119180633147,0.7783985102420857,0.7653631284916201,0.7821229050279329,0.7783985102420856,0.7709497206703911,0.7709497206703911,0.7635009310986964,0.7802607076350093,0.7802607076350093,0.7783985102420856,0.7728119180633147,0.7690875232774674,0.7690875232774674,0.7821229050279329],\"type\":\"scatter\",\"xaxis\":\"x2\",\"yaxis\":\"y2\"}],                        {\"template\":{\"data\":{\"histogram2dcontour\":[{\"type\":\"histogram2dcontour\",\"colorbar\":{\"outlinewidth\":0,\"ticks\":\"\"},\"colorscale\":[[0.0,\"#0d0887\"],[0.1111111111111111,\"#46039f\"],[0.2222222222222222,\"#7201a8\"],[0.3333333333333333,\"#9c179e\"],[0.4444444444444444,\"#bd3786\"],[0.5555555555555556,\"#d8576b\"],[0.6666666666666666,\"#ed7953\"],[0.7777777777777778,\"#fb9f3a\"],[0.8888888888888888,\"#fdca26\"],[1.0,\"#f0f921\"]]}],\"choropleth\":[{\"type\":\"choropleth\",\"colorbar\":{\"outlinewidth\":0,\"ticks\":\"\"}}],\"histogram2d\":[{\"type\":\"histogram2d\",\"colorbar\":{\"outlinewidth\":0,\"ticks\":\"\"},\"colorscale\":[[0.0,\"#0d0887\"],[0.1111111111111111,\"#46039f\"],[0.2222222222222222,\"#7201a8\"],[0.3333333333333333,\"#9c179e\"],[0.4444444444444444,\"#bd3786\"],[0.5555555555555556,\"#d8576b\"],[0.6666666666666666,\"#ed7953\"],[0.7777777777777778,\"#fb9f3a\"],[0.8888888888888888,\"#fdca26\"],[1.0,\"#f0f921\"]]}],\"heatmap\":[{\"type\":\"heatmap\",\"colorbar\":{\"outlinewidth\":0,\"ticks\":\"\"},\"colorscale\":[[0.0,\"#0d0887\"],[0.1111111111111111,\"#46039f\"],[0.2222222222222222,\"#7201a8\"],[0.3333333333333333,\"#9c179e\"],[0.4444444444444444,\"#bd3786\"],[0.5555555555555556,\"#d8576b\"],[0.6666666666666666,\"#ed7953\"],[0.7777777777777778,\"#fb9f3a\"],[0.8888888888888888,\"#fdca26\"],[1.0,\"#f0f921\"]]}],\"heatmapgl\":[{\"type\":\"heatmapgl\",\"colorbar\":{\"outlinewidth\":0,\"ticks\":\"\"},\"colorscale\":[[0.0,\"#0d0887\"],[0.1111111111111111,\"#46039f\"],[0.2222222222222222,\"#7201a8\"],[0.3333333333333333,\"#9c179e\"],[0.4444444444444444,\"#bd3786\"],[0.5555555555555556,\"#d8576b\"],[0.6666666666666666,\"#ed7953\"],[0.7777777777777778,\"#fb9f3a\"],[0.8888888888888888,\"#fdca26\"],[1.0,\"#f0f921\"]]}],\"contourcarpet\":[{\"type\":\"contourcarpet\",\"colorbar\":{\"outlinewidth\":0,\"ticks\":\"\"}}],\"contour\":[{\"type\":\"contour\",\"colorbar\":{\"outlinewidth\":0,\"ticks\":\"\"},\"colorscale\":[[0.0,\"#0d0887\"],[0.1111111111111111,\"#46039f\"],[0.2222222222222222,\"#7201a8\"],[0.3333333333333333,\"#9c179e\"],[0.4444444444444444,\"#bd3786\"],[0.5555555555555556,\"#d8576b\"],[0.6666666666666666,\"#ed7953\"],[0.7777777777777778,\"#fb9f3a\"],[0.8888888888888888,\"#fdca26\"],[1.0,\"#f0f921\"]]}],\"surface\":[{\"type\":\"surface\",\"colorbar\":{\"outlinewidth\":0,\"ticks\":\"\"},\"colorscale\":[[0.0,\"#0d0887\"],[0.1111111111111111,\"#46039f\"],[0.2222222222222222,\"#7201a8\"],[0.3333333333333333,\"#9c179e\"],[0.4444444444444444,\"#bd3786\"],[0.5555555555555556,\"#d8576b\"],[0.6666666666666666,\"#ed7953\"],[0.7777777777777778,\"#fb9f3a\"],[0.8888888888888888,\"#fdca26\"],[1.0,\"#f0f921\"]]}],\"mesh3d\":[{\"type\":\"mesh3d\",\"colorbar\":{\"outlinewidth\":0,\"ticks\":\"\"}}],\"scatter\":[{\"fillpattern\":{\"fillmode\":\"overlay\",\"size\":10,\"solidity\":0.2},\"type\":\"scatter\"}],\"parcoords\":[{\"type\":\"parcoords\",\"line\":{\"colorbar\":{\"outlinewidth\":0,\"ticks\":\"\"}}}],\"scatterpolargl\":[{\"type\":\"scatterpolargl\",\"marker\":{\"colorbar\":{\"outlinewidth\":0,\"ticks\":\"\"}}}],\"bar\":[{\"error_x\":{\"color\":\"#2a3f5f\"},\"error_y\":{\"color\":\"#2a3f5f\"},\"marker\":{\"line\":{\"color\":\"#E5ECF6\",\"width\":0.5},\"pattern\":{\"fillmode\":\"overlay\",\"size\":10,\"solidity\":0.2}},\"type\":\"bar\"}],\"scattergeo\":[{\"type\":\"scattergeo\",\"marker\":{\"colorbar\":{\"outlinewidth\":0,\"ticks\":\"\"}}}],\"scatterpolar\":[{\"type\":\"scatterpolar\",\"marker\":{\"colorbar\":{\"outlinewidth\":0,\"ticks\":\"\"}}}],\"histogram\":[{\"marker\":{\"pattern\":{\"fillmode\":\"overlay\",\"size\":10,\"solidity\":0.2}},\"type\":\"histogram\"}],\"scattergl\":[{\"type\":\"scattergl\",\"marker\":{\"colorbar\":{\"outlinewidth\":0,\"ticks\":\"\"}}}],\"scatter3d\":[{\"type\":\"scatter3d\",\"line\":{\"colorbar\":{\"outlinewidth\":0,\"ticks\":\"\"}},\"marker\":{\"colorbar\":{\"outlinewidth\":0,\"ticks\":\"\"}}}],\"scattermapbox\":[{\"type\":\"scattermapbox\",\"marker\":{\"colorbar\":{\"outlinewidth\":0,\"ticks\":\"\"}}}],\"scatterternary\":[{\"type\":\"scatterternary\",\"marker\":{\"colorbar\":{\"outlinewidth\":0,\"ticks\":\"\"}}}],\"scattercarpet\":[{\"type\":\"scattercarpet\",\"marker\":{\"colorbar\":{\"outlinewidth\":0,\"ticks\":\"\"}}}],\"carpet\":[{\"aaxis\":{\"endlinecolor\":\"#2a3f5f\",\"gridcolor\":\"white\",\"linecolor\":\"white\",\"minorgridcolor\":\"white\",\"startlinecolor\":\"#2a3f5f\"},\"baxis\":{\"endlinecolor\":\"#2a3f5f\",\"gridcolor\":\"white\",\"linecolor\":\"white\",\"minorgridcolor\":\"white\",\"startlinecolor\":\"#2a3f5f\"},\"type\":\"carpet\"}],\"table\":[{\"cells\":{\"fill\":{\"color\":\"#EBF0F8\"},\"line\":{\"color\":\"white\"}},\"header\":{\"fill\":{\"color\":\"#C8D4E3\"},\"line\":{\"color\":\"white\"}},\"type\":\"table\"}],\"barpolar\":[{\"marker\":{\"line\":{\"color\":\"#E5ECF6\",\"width\":0.5},\"pattern\":{\"fillmode\":\"overlay\",\"size\":10,\"solidity\":0.2}},\"type\":\"barpolar\"}],\"pie\":[{\"automargin\":true,\"type\":\"pie\"}]},\"layout\":{\"autotypenumbers\":\"strict\",\"colorway\":[\"#636efa\",\"#EF553B\",\"#00cc96\",\"#ab63fa\",\"#FFA15A\",\"#19d3f3\",\"#FF6692\",\"#B6E880\",\"#FF97FF\",\"#FECB52\"],\"font\":{\"color\":\"#2a3f5f\"},\"hovermode\":\"closest\",\"hoverlabel\":{\"align\":\"left\"},\"paper_bgcolor\":\"white\",\"plot_bgcolor\":\"#E5ECF6\",\"polar\":{\"bgcolor\":\"#E5ECF6\",\"angularaxis\":{\"gridcolor\":\"white\",\"linecolor\":\"white\",\"ticks\":\"\"},\"radialaxis\":{\"gridcolor\":\"white\",\"linecolor\":\"white\",\"ticks\":\"\"}},\"ternary\":{\"bgcolor\":\"#E5ECF6\",\"aaxis\":{\"gridcolor\":\"white\",\"linecolor\":\"white\",\"ticks\":\"\"},\"baxis\":{\"gridcolor\":\"white\",\"linecolor\":\"white\",\"ticks\":\"\"},\"caxis\":{\"gridcolor\":\"white\",\"linecolor\":\"white\",\"ticks\":\"\"}},\"coloraxis\":{\"colorbar\":{\"outlinewidth\":0,\"ticks\":\"\"}},\"colorscale\":{\"sequential\":[[0.0,\"#0d0887\"],[0.1111111111111111,\"#46039f\"],[0.2222222222222222,\"#7201a8\"],[0.3333333333333333,\"#9c179e\"],[0.4444444444444444,\"#bd3786\"],[0.5555555555555556,\"#d8576b\"],[0.6666666666666666,\"#ed7953\"],[0.7777777777777778,\"#fb9f3a\"],[0.8888888888888888,\"#fdca26\"],[1.0,\"#f0f921\"]],\"sequentialminus\":[[0.0,\"#0d0887\"],[0.1111111111111111,\"#46039f\"],[0.2222222222222222,\"#7201a8\"],[0.3333333333333333,\"#9c179e\"],[0.4444444444444444,\"#bd3786\"],[0.5555555555555556,\"#d8576b\"],[0.6666666666666666,\"#ed7953\"],[0.7777777777777778,\"#fb9f3a\"],[0.8888888888888888,\"#fdca26\"],[1.0,\"#f0f921\"]],\"diverging\":[[0,\"#8e0152\"],[0.1,\"#c51b7d\"],[0.2,\"#de77ae\"],[0.3,\"#f1b6da\"],[0.4,\"#fde0ef\"],[0.5,\"#f7f7f7\"],[0.6,\"#e6f5d0\"],[0.7,\"#b8e186\"],[0.8,\"#7fbc41\"],[0.9,\"#4d9221\"],[1,\"#276419\"]]},\"xaxis\":{\"gridcolor\":\"white\",\"linecolor\":\"white\",\"ticks\":\"\",\"title\":{\"standoff\":15},\"zerolinecolor\":\"white\",\"automargin\":true,\"zerolinewidth\":2},\"yaxis\":{\"gridcolor\":\"white\",\"linecolor\":\"white\",\"ticks\":\"\",\"title\":{\"standoff\":15},\"zerolinecolor\":\"white\",\"automargin\":true,\"zerolinewidth\":2},\"scene\":{\"xaxis\":{\"backgroundcolor\":\"#E5ECF6\",\"gridcolor\":\"white\",\"linecolor\":\"white\",\"showbackground\":true,\"ticks\":\"\",\"zerolinecolor\":\"white\",\"gridwidth\":2},\"yaxis\":{\"backgroundcolor\":\"#E5ECF6\",\"gridcolor\":\"white\",\"linecolor\":\"white\",\"showbackground\":true,\"ticks\":\"\",\"zerolinecolor\":\"white\",\"gridwidth\":2},\"zaxis\":{\"backgroundcolor\":\"#E5ECF6\",\"gridcolor\":\"white\",\"linecolor\":\"white\",\"showbackground\":true,\"ticks\":\"\",\"zerolinecolor\":\"white\",\"gridwidth\":2}},\"shapedefaults\":{\"line\":{\"color\":\"#2a3f5f\"}},\"annotationdefaults\":{\"arrowcolor\":\"#2a3f5f\",\"arrowhead\":0,\"arrowwidth\":1},\"geo\":{\"bgcolor\":\"white\",\"landcolor\":\"#E5ECF6\",\"subunitcolor\":\"white\",\"showland\":true,\"showlakes\":true,\"lakecolor\":\"white\"},\"title\":{\"x\":0.05},\"mapbox\":{\"style\":\"light\"}}},\"xaxis\":{\"anchor\":\"y\",\"domain\":[0.0,0.45],\"title\":{\"text\":\"max_depth\"}},\"yaxis\":{\"anchor\":\"x\",\"domain\":[0.0,1.0],\"title\":{\"text\":\"Objective Value\"}},\"xaxis2\":{\"anchor\":\"y2\",\"domain\":[0.55,1.0],\"title\":{\"text\":\"n_estimators\"}},\"yaxis2\":{\"anchor\":\"x2\",\"domain\":[0.0,1.0],\"matches\":\"y\",\"showticklabels\":false},\"title\":{\"text\":\"Slice Plot\"}},                        {\"responsive\": true}                    ).then(function(){\n",
              "                            \n",
              "var gd = document.getElementById('a552b314-fccc-4535-8f75-8b87b9986ff3');\n",
              "var x = new MutationObserver(function (mutations, observer) {{\n",
              "        var display = window.getComputedStyle(gd).display;\n",
              "        if (!display || display === 'none') {{\n",
              "            console.log([gd, 'removed!']);\n",
              "            Plotly.purge(gd);\n",
              "            observer.disconnect();\n",
              "        }}\n",
              "}});\n",
              "\n",
              "// Listen for the removal of the full notebook cells\n",
              "var notebookContainer = gd.closest('#notebook-container');\n",
              "if (notebookContainer) {{\n",
              "    x.observe(notebookContainer, {childList: true});\n",
              "}}\n",
              "\n",
              "// Listen for the clearing of the current output cell\n",
              "var outputEl = gd.closest('.output');\n",
              "if (outputEl) {{\n",
              "    x.observe(outputEl, {childList: true});\n",
              "}}\n",
              "\n",
              "                        })                };                            </script>        </div>\n",
              "</body>\n",
              "</html>"
            ]
          },
          "metadata": {}
        }
      ]
    },
    {
      "cell_type": "code",
      "source": [
        "# 4. Contour Plot\n",
        "plot_contour(study1).show()\n",
        "# more the dark more the accurancy\n",
        "#  you clearly seen where he intelligencly get more more trials in darker region as compared to the light region"
      ],
      "metadata": {
        "colab": {
          "base_uri": "https://localhost:8080/",
          "height": 542
        },
        "id": "RFepP3_eDvxl",
        "outputId": "e9458989-aa8e-4e89-b473-83e8ee497da1"
      },
      "execution_count": 57,
      "outputs": [
        {
          "output_type": "display_data",
          "data": {
            "text/html": [
              "<html>\n",
              "<head><meta charset=\"utf-8\" /></head>\n",
              "<body>\n",
              "    <div>            <script src=\"https://cdnjs.cloudflare.com/ajax/libs/mathjax/2.7.5/MathJax.js?config=TeX-AMS-MML_SVG\"></script><script type=\"text/javascript\">if (window.MathJax && window.MathJax.Hub && window.MathJax.Hub.Config) {window.MathJax.Hub.Config({SVG: {font: \"STIX-Web\"}});}</script>                <script type=\"text/javascript\">window.PlotlyConfig = {MathJaxConfig: 'local'};</script>\n",
              "        <script charset=\"utf-8\" src=\"https://cdn.plot.ly/plotly-2.35.2.min.js\"></script>                <div id=\"1ed4bc7f-a44a-406a-8fbe-ff411b8a5e9a\" class=\"plotly-graph-div\" style=\"height:525px; width:100%;\"></div>            <script type=\"text/javascript\">                                    window.PLOTLYENV=window.PLOTLYENV || {};                                    if (document.getElementById(\"1ed4bc7f-a44a-406a-8fbe-ff411b8a5e9a\")) {                    Plotly.newPlot(                        \"1ed4bc7f-a44a-406a-8fbe-ff411b8a5e9a\",                        [{\"colorbar\":{\"title\":{\"text\":\"Objective Value\"}},\"colorscale\":[[0.0,\"rgb(247,251,255)\"],[0.125,\"rgb(222,235,247)\"],[0.25,\"rgb(198,219,239)\"],[0.375,\"rgb(158,202,225)\"],[0.5,\"rgb(107,174,214)\"],[0.625,\"rgb(66,146,198)\"],[0.75,\"rgb(33,113,181)\"],[0.875,\"rgb(8,81,156)\"],[1.0,\"rgb(8,48,107)\"]],\"connectgaps\":true,\"contours\":{\"coloring\":\"heatmap\"},\"hoverinfo\":\"none\",\"line\":{\"smoothing\":1.3},\"reversescale\":false,\"x\":[2.15,3,4,5,6,7,8,9,10,11,12,13,14,15,16,17,18,19,20,20.85],\"y\":[41.05,51,53,55,59,62,66,70,71,77,82,85,89,93,98,99,101,107,108,109,110,113,115,116,119,120,121,124,125,127,130,132,135,138,142,144,146,150,156,160,164,172,186,195,207,223,250,259.95],\"z\":[[null,null,null,null,null,null,null,null,null,null,null,null,null,null,null,null,null,null,null,null],[null,null,null,null,null,null,null,null,null,null,null,null,null,0.7653631284916201,null,null,null,null,null,null],[null,null,null,null,null,null,null,null,null,null,null,null,null,null,null,null,null,0.7746741154562384,null,null],[null,null,null,null,null,null,0.7746741154562384,null,null,null,null,null,null,null,0.7783985102420857,null,null,null,null,null],[null,null,null,null,null,0.7746741154562384,null,null,null,null,null,null,null,null,null,null,null,null,null,null],[null,null,null,null,null,null,null,null,null,null,null,null,null,null,null,null,0.7728119180633147,null,null,null],[null,null,null,0.7783985102420856,null,null,null,null,null,null,null,null,null,null,null,null,null,null,null,null],[null,null,null,null,null,null,null,null,null,null,null,null,null,null,0.7765363128491621,null,null,null,null,null],[null,null,null,0.7746741154562384,null,null,null,null,null,null,null,null,null,null,null,null,null,null,null,null],[null,null,null,null,null,null,null,null,0.7579143389199255,null,null,null,null,null,null,null,null,null,null,null],[null,0.7523277467411545,null,null,null,null,null,null,null,null,null,null,null,null,null,null,null,null,null,null],[null,null,null,null,null,null,null,null,null,null,null,null,null,null,0.7635009310986964,null,null,null,null,null],[null,null,null,null,null,null,null,null,null,null,null,null,null,null,0.7672253258845437,null,null,null,null,null],[null,null,null,null,null,null,null,null,null,null,null,null,null,null,null,null,null,0.7709497206703911,null,null],[null,null,0.7635009310986964,null,null,null,null,null,null,null,null,null,null,null,null,null,null,null,null,null],[null,null,null,null,null,null,null,null,null,null,null,null,null,null,null,0.7709497206703911,null,null,null,null],[null,null,null,null,null,null,null,null,null,null,null,null,null,null,null,null,null,0.7690875232774674,null,null],[null,null,null,null,null,null,null,null,null,null,null,null,null,null,null,0.7728119180633147,null,null,null,null],[null,null,null,null,null,null,null,null,null,null,null,null,0.7653631284916201,null,null,null,null,null,null,null],[null,null,null,null,null,null,null,null,null,0.7653631284916201,null,null,null,null,0.7783985102420856,null,null,null,null,null],[null,null,null,null,null,null,null,null,null,0.7672253258845437,null,null,null,null,null,null,null,null,null,null],[null,null,null,null,null,null,null,null,null,null,null,null,null,null,null,null,0.7802607076350093,null,null,null],[null,null,null,null,null,null,null,null,null,null,null,null,null,null,null,null,0.7802607076350093,null,null,null],[null,null,null,null,null,null,null,null,null,null,null,null,null,null,null,null,0.7783985102420856,null,null,null],[null,null,null,null,null,null,null,null,null,null,null,null,null,null,null,null,null,0.7821229050279329,null,null],[null,null,null,null,null,null,null,null,null,null,0.7765363128491619,null,null,null,null,0.7709497206703911,null,null,null,null],[null,null,null,null,null,null,null,null,null,null,null,null,0.7690875232774674,null,null,null,null,null,null,null],[null,null,null,null,null,null,null,null,null,null,null,null,null,null,null,null,0.7821229050279329,null,null,null],[null,null,null,null,null,null,null,null,null,null,null,null,null,null,null,null,null,null,0.7802607076350093,null],[null,null,null,null,null,null,null,null,null,null,null,null,0.7728119180633147,null,null,null,null,null,null,null],[null,null,null,null,null,null,null,null,null,null,null,null,null,null,null,null,null,null,0.7765363128491621,null],[null,null,null,null,null,null,null,null,null,null,null,null,null,null,null,null,null,null,0.7746741154562383,null],[null,null,null,null,null,null,null,null,null,null,null,null,null,null,null,null,null,null,0.7765363128491619,null],[null,null,null,null,null,null,null,null,null,null,null,null,null,null,null,null,0.7709497206703911,null,null,null],[null,null,null,null,null,null,null,null,null,null,null,null,null,null,null,0.7690875232774674,null,null,null,null],[null,null,null,null,null,null,null,null,null,null,null,null,null,null,null,null,null,0.7709497206703911,null,null],[null,null,null,null,0.7653631284916201,null,null,null,null,null,null,null,null,null,null,null,null,null,null,null],[null,null,null,null,null,null,null,null,null,null,0.7653631284916201,null,null,null,null,null,null,null,null,null],[null,null,null,null,null,null,null,null,null,null,null,null,null,null,null,null,null,0.7728119180633147,null,null],[null,null,null,null,null,null,null,null,null,null,null,null,null,0.7672253258845437,null,null,null,null,null,null],[null,null,null,null,null,null,null,null,null,null,null,0.7709497206703911,null,null,null,null,null,null,null,null],[null,null,null,null,null,null,null,null,null,null,null,null,null,null,null,null,null,null,0.7709497206703911,null],[null,null,null,null,null,null,0.7616387337057727,null,null,null,null,null,null,null,null,null,null,null,null,null],[null,null,null,null,null,null,null,null,null,null,null,null,null,null,null,null,null,0.7783985102420856,null,null],[null,null,null,null,null,null,null,0.7653631284916201,null,null,null,null,null,null,null,null,null,null,null,null],[null,null,null,null,null,null,null,null,null,null,null,null,null,null,null,0.7746741154562384,null,null,null,null],[null,null,null,null,null,null,null,null,null,null,null,null,null,null,null,null,0.7728119180633147,null,null,null],[null,null,null,null,null,null,null,null,null,null,null,null,null,null,null,null,null,null,null,null]],\"type\":\"contour\"},{\"marker\":{\"color\":\"black\",\"line\":{\"color\":\"Gray\",\"width\":2.0}},\"mode\":\"markers\",\"name\":\"Feasible Trial\",\"showlegend\":false,\"x\":[8,17,16,7,19,12,8,5,6,9,14,4,16,12,3,20,15,10,14,5,18,20,20,17,14,11,18,16,19,11,13,20,20,18,18,17,16,15,19,19,19,17,16,18,18,18,19,17,19,18],\"y\":[55,223,109,59,53,120,186,66,146,207,108,98,89,150,82,130,160,77,121,71,250,125,172,99,127,110,138,70,93,109,164,132,135,115,62,107,55,51,119,195,144,120,85,113,115,116,156,142,101,124],\"type\":\"scatter\"},{\"marker\":{\"color\":\"#cccccc\",\"line\":{\"color\":\"Gray\",\"width\":2.0}},\"mode\":\"markers\",\"name\":\"Infeasible Trial\",\"showlegend\":false,\"x\":[],\"y\":[],\"type\":\"scatter\"}],                        {\"title\":{\"text\":\"Contour Plot\"},\"template\":{\"data\":{\"histogram2dcontour\":[{\"type\":\"histogram2dcontour\",\"colorbar\":{\"outlinewidth\":0,\"ticks\":\"\"},\"colorscale\":[[0.0,\"#0d0887\"],[0.1111111111111111,\"#46039f\"],[0.2222222222222222,\"#7201a8\"],[0.3333333333333333,\"#9c179e\"],[0.4444444444444444,\"#bd3786\"],[0.5555555555555556,\"#d8576b\"],[0.6666666666666666,\"#ed7953\"],[0.7777777777777778,\"#fb9f3a\"],[0.8888888888888888,\"#fdca26\"],[1.0,\"#f0f921\"]]}],\"choropleth\":[{\"type\":\"choropleth\",\"colorbar\":{\"outlinewidth\":0,\"ticks\":\"\"}}],\"histogram2d\":[{\"type\":\"histogram2d\",\"colorbar\":{\"outlinewidth\":0,\"ticks\":\"\"},\"colorscale\":[[0.0,\"#0d0887\"],[0.1111111111111111,\"#46039f\"],[0.2222222222222222,\"#7201a8\"],[0.3333333333333333,\"#9c179e\"],[0.4444444444444444,\"#bd3786\"],[0.5555555555555556,\"#d8576b\"],[0.6666666666666666,\"#ed7953\"],[0.7777777777777778,\"#fb9f3a\"],[0.8888888888888888,\"#fdca26\"],[1.0,\"#f0f921\"]]}],\"heatmap\":[{\"type\":\"heatmap\",\"colorbar\":{\"outlinewidth\":0,\"ticks\":\"\"},\"colorscale\":[[0.0,\"#0d0887\"],[0.1111111111111111,\"#46039f\"],[0.2222222222222222,\"#7201a8\"],[0.3333333333333333,\"#9c179e\"],[0.4444444444444444,\"#bd3786\"],[0.5555555555555556,\"#d8576b\"],[0.6666666666666666,\"#ed7953\"],[0.7777777777777778,\"#fb9f3a\"],[0.8888888888888888,\"#fdca26\"],[1.0,\"#f0f921\"]]}],\"heatmapgl\":[{\"type\":\"heatmapgl\",\"colorbar\":{\"outlinewidth\":0,\"ticks\":\"\"},\"colorscale\":[[0.0,\"#0d0887\"],[0.1111111111111111,\"#46039f\"],[0.2222222222222222,\"#7201a8\"],[0.3333333333333333,\"#9c179e\"],[0.4444444444444444,\"#bd3786\"],[0.5555555555555556,\"#d8576b\"],[0.6666666666666666,\"#ed7953\"],[0.7777777777777778,\"#fb9f3a\"],[0.8888888888888888,\"#fdca26\"],[1.0,\"#f0f921\"]]}],\"contourcarpet\":[{\"type\":\"contourcarpet\",\"colorbar\":{\"outlinewidth\":0,\"ticks\":\"\"}}],\"contour\":[{\"type\":\"contour\",\"colorbar\":{\"outlinewidth\":0,\"ticks\":\"\"},\"colorscale\":[[0.0,\"#0d0887\"],[0.1111111111111111,\"#46039f\"],[0.2222222222222222,\"#7201a8\"],[0.3333333333333333,\"#9c179e\"],[0.4444444444444444,\"#bd3786\"],[0.5555555555555556,\"#d8576b\"],[0.6666666666666666,\"#ed7953\"],[0.7777777777777778,\"#fb9f3a\"],[0.8888888888888888,\"#fdca26\"],[1.0,\"#f0f921\"]]}],\"surface\":[{\"type\":\"surface\",\"colorbar\":{\"outlinewidth\":0,\"ticks\":\"\"},\"colorscale\":[[0.0,\"#0d0887\"],[0.1111111111111111,\"#46039f\"],[0.2222222222222222,\"#7201a8\"],[0.3333333333333333,\"#9c179e\"],[0.4444444444444444,\"#bd3786\"],[0.5555555555555556,\"#d8576b\"],[0.6666666666666666,\"#ed7953\"],[0.7777777777777778,\"#fb9f3a\"],[0.8888888888888888,\"#fdca26\"],[1.0,\"#f0f921\"]]}],\"mesh3d\":[{\"type\":\"mesh3d\",\"colorbar\":{\"outlinewidth\":0,\"ticks\":\"\"}}],\"scatter\":[{\"fillpattern\":{\"fillmode\":\"overlay\",\"size\":10,\"solidity\":0.2},\"type\":\"scatter\"}],\"parcoords\":[{\"type\":\"parcoords\",\"line\":{\"colorbar\":{\"outlinewidth\":0,\"ticks\":\"\"}}}],\"scatterpolargl\":[{\"type\":\"scatterpolargl\",\"marker\":{\"colorbar\":{\"outlinewidth\":0,\"ticks\":\"\"}}}],\"bar\":[{\"error_x\":{\"color\":\"#2a3f5f\"},\"error_y\":{\"color\":\"#2a3f5f\"},\"marker\":{\"line\":{\"color\":\"#E5ECF6\",\"width\":0.5},\"pattern\":{\"fillmode\":\"overlay\",\"size\":10,\"solidity\":0.2}},\"type\":\"bar\"}],\"scattergeo\":[{\"type\":\"scattergeo\",\"marker\":{\"colorbar\":{\"outlinewidth\":0,\"ticks\":\"\"}}}],\"scatterpolar\":[{\"type\":\"scatterpolar\",\"marker\":{\"colorbar\":{\"outlinewidth\":0,\"ticks\":\"\"}}}],\"histogram\":[{\"marker\":{\"pattern\":{\"fillmode\":\"overlay\",\"size\":10,\"solidity\":0.2}},\"type\":\"histogram\"}],\"scattergl\":[{\"type\":\"scattergl\",\"marker\":{\"colorbar\":{\"outlinewidth\":0,\"ticks\":\"\"}}}],\"scatter3d\":[{\"type\":\"scatter3d\",\"line\":{\"colorbar\":{\"outlinewidth\":0,\"ticks\":\"\"}},\"marker\":{\"colorbar\":{\"outlinewidth\":0,\"ticks\":\"\"}}}],\"scattermapbox\":[{\"type\":\"scattermapbox\",\"marker\":{\"colorbar\":{\"outlinewidth\":0,\"ticks\":\"\"}}}],\"scatterternary\":[{\"type\":\"scatterternary\",\"marker\":{\"colorbar\":{\"outlinewidth\":0,\"ticks\":\"\"}}}],\"scattercarpet\":[{\"type\":\"scattercarpet\",\"marker\":{\"colorbar\":{\"outlinewidth\":0,\"ticks\":\"\"}}}],\"carpet\":[{\"aaxis\":{\"endlinecolor\":\"#2a3f5f\",\"gridcolor\":\"white\",\"linecolor\":\"white\",\"minorgridcolor\":\"white\",\"startlinecolor\":\"#2a3f5f\"},\"baxis\":{\"endlinecolor\":\"#2a3f5f\",\"gridcolor\":\"white\",\"linecolor\":\"white\",\"minorgridcolor\":\"white\",\"startlinecolor\":\"#2a3f5f\"},\"type\":\"carpet\"}],\"table\":[{\"cells\":{\"fill\":{\"color\":\"#EBF0F8\"},\"line\":{\"color\":\"white\"}},\"header\":{\"fill\":{\"color\":\"#C8D4E3\"},\"line\":{\"color\":\"white\"}},\"type\":\"table\"}],\"barpolar\":[{\"marker\":{\"line\":{\"color\":\"#E5ECF6\",\"width\":0.5},\"pattern\":{\"fillmode\":\"overlay\",\"size\":10,\"solidity\":0.2}},\"type\":\"barpolar\"}],\"pie\":[{\"automargin\":true,\"type\":\"pie\"}]},\"layout\":{\"autotypenumbers\":\"strict\",\"colorway\":[\"#636efa\",\"#EF553B\",\"#00cc96\",\"#ab63fa\",\"#FFA15A\",\"#19d3f3\",\"#FF6692\",\"#B6E880\",\"#FF97FF\",\"#FECB52\"],\"font\":{\"color\":\"#2a3f5f\"},\"hovermode\":\"closest\",\"hoverlabel\":{\"align\":\"left\"},\"paper_bgcolor\":\"white\",\"plot_bgcolor\":\"#E5ECF6\",\"polar\":{\"bgcolor\":\"#E5ECF6\",\"angularaxis\":{\"gridcolor\":\"white\",\"linecolor\":\"white\",\"ticks\":\"\"},\"radialaxis\":{\"gridcolor\":\"white\",\"linecolor\":\"white\",\"ticks\":\"\"}},\"ternary\":{\"bgcolor\":\"#E5ECF6\",\"aaxis\":{\"gridcolor\":\"white\",\"linecolor\":\"white\",\"ticks\":\"\"},\"baxis\":{\"gridcolor\":\"white\",\"linecolor\":\"white\",\"ticks\":\"\"},\"caxis\":{\"gridcolor\":\"white\",\"linecolor\":\"white\",\"ticks\":\"\"}},\"coloraxis\":{\"colorbar\":{\"outlinewidth\":0,\"ticks\":\"\"}},\"colorscale\":{\"sequential\":[[0.0,\"#0d0887\"],[0.1111111111111111,\"#46039f\"],[0.2222222222222222,\"#7201a8\"],[0.3333333333333333,\"#9c179e\"],[0.4444444444444444,\"#bd3786\"],[0.5555555555555556,\"#d8576b\"],[0.6666666666666666,\"#ed7953\"],[0.7777777777777778,\"#fb9f3a\"],[0.8888888888888888,\"#fdca26\"],[1.0,\"#f0f921\"]],\"sequentialminus\":[[0.0,\"#0d0887\"],[0.1111111111111111,\"#46039f\"],[0.2222222222222222,\"#7201a8\"],[0.3333333333333333,\"#9c179e\"],[0.4444444444444444,\"#bd3786\"],[0.5555555555555556,\"#d8576b\"],[0.6666666666666666,\"#ed7953\"],[0.7777777777777778,\"#fb9f3a\"],[0.8888888888888888,\"#fdca26\"],[1.0,\"#f0f921\"]],\"diverging\":[[0,\"#8e0152\"],[0.1,\"#c51b7d\"],[0.2,\"#de77ae\"],[0.3,\"#f1b6da\"],[0.4,\"#fde0ef\"],[0.5,\"#f7f7f7\"],[0.6,\"#e6f5d0\"],[0.7,\"#b8e186\"],[0.8,\"#7fbc41\"],[0.9,\"#4d9221\"],[1,\"#276419\"]]},\"xaxis\":{\"gridcolor\":\"white\",\"linecolor\":\"white\",\"ticks\":\"\",\"title\":{\"standoff\":15},\"zerolinecolor\":\"white\",\"automargin\":true,\"zerolinewidth\":2},\"yaxis\":{\"gridcolor\":\"white\",\"linecolor\":\"white\",\"ticks\":\"\",\"title\":{\"standoff\":15},\"zerolinecolor\":\"white\",\"automargin\":true,\"zerolinewidth\":2},\"scene\":{\"xaxis\":{\"backgroundcolor\":\"#E5ECF6\",\"gridcolor\":\"white\",\"linecolor\":\"white\",\"showbackground\":true,\"ticks\":\"\",\"zerolinecolor\":\"white\",\"gridwidth\":2},\"yaxis\":{\"backgroundcolor\":\"#E5ECF6\",\"gridcolor\":\"white\",\"linecolor\":\"white\",\"showbackground\":true,\"ticks\":\"\",\"zerolinecolor\":\"white\",\"gridwidth\":2},\"zaxis\":{\"backgroundcolor\":\"#E5ECF6\",\"gridcolor\":\"white\",\"linecolor\":\"white\",\"showbackground\":true,\"ticks\":\"\",\"zerolinecolor\":\"white\",\"gridwidth\":2}},\"shapedefaults\":{\"line\":{\"color\":\"#2a3f5f\"}},\"annotationdefaults\":{\"arrowcolor\":\"#2a3f5f\",\"arrowhead\":0,\"arrowwidth\":1},\"geo\":{\"bgcolor\":\"white\",\"landcolor\":\"#E5ECF6\",\"subunitcolor\":\"white\",\"showland\":true,\"showlakes\":true,\"lakecolor\":\"white\"},\"title\":{\"x\":0.05},\"mapbox\":{\"style\":\"light\"}}},\"xaxis\":{\"title\":{\"text\":\"max_depth\"},\"range\":[2.15,20.85]},\"yaxis\":{\"title\":{\"text\":\"n_estimators\"},\"range\":[41.05,259.95]}},                        {\"responsive\": true}                    ).then(function(){\n",
              "                            \n",
              "var gd = document.getElementById('1ed4bc7f-a44a-406a-8fbe-ff411b8a5e9a');\n",
              "var x = new MutationObserver(function (mutations, observer) {{\n",
              "        var display = window.getComputedStyle(gd).display;\n",
              "        if (!display || display === 'none') {{\n",
              "            console.log([gd, 'removed!']);\n",
              "            Plotly.purge(gd);\n",
              "            observer.disconnect();\n",
              "        }}\n",
              "}});\n",
              "\n",
              "// Listen for the removal of the full notebook cells\n",
              "var notebookContainer = gd.closest('#notebook-container');\n",
              "if (notebookContainer) {{\n",
              "    x.observe(notebookContainer, {childList: true});\n",
              "}}\n",
              "\n",
              "// Listen for the clearing of the current output cell\n",
              "var outputEl = gd.closest('.output');\n",
              "if (outputEl) {{\n",
              "    x.observe(outputEl, {childList: true});\n",
              "}}\n",
              "\n",
              "                        })                };                            </script>        </div>\n",
              "</body>\n",
              "</html>"
            ]
          },
          "metadata": {}
        }
      ]
    },
    {
      "cell_type": "code",
      "source": [
        "# Hyperparameter Importance\n",
        "plot_param_importances(study1).show()\n",
        "# It shows us which hyperparameter is more important.."
      ],
      "metadata": {
        "colab": {
          "base_uri": "https://localhost:8080/",
          "height": 542
        },
        "id": "-UZbxitPEGhZ",
        "outputId": "30a935b6-2fd8-44fe-bd2a-de8a474ee798"
      },
      "execution_count": 58,
      "outputs": [
        {
          "output_type": "display_data",
          "data": {
            "text/html": [
              "<html>\n",
              "<head><meta charset=\"utf-8\" /></head>\n",
              "<body>\n",
              "    <div>            <script src=\"https://cdnjs.cloudflare.com/ajax/libs/mathjax/2.7.5/MathJax.js?config=TeX-AMS-MML_SVG\"></script><script type=\"text/javascript\">if (window.MathJax && window.MathJax.Hub && window.MathJax.Hub.Config) {window.MathJax.Hub.Config({SVG: {font: \"STIX-Web\"}});}</script>                <script type=\"text/javascript\">window.PlotlyConfig = {MathJaxConfig: 'local'};</script>\n",
              "        <script charset=\"utf-8\" src=\"https://cdn.plot.ly/plotly-2.35.2.min.js\"></script>                <div id=\"01eb4d92-ea2b-4f18-a046-2249c0dc1df6\" class=\"plotly-graph-div\" style=\"height:525px; width:100%;\"></div>            <script type=\"text/javascript\">                                    window.PLOTLYENV=window.PLOTLYENV || {};                                    if (document.getElementById(\"01eb4d92-ea2b-4f18-a046-2249c0dc1df6\")) {                    Plotly.newPlot(                        \"01eb4d92-ea2b-4f18-a046-2249c0dc1df6\",                        [{\"cliponaxis\":false,\"hovertemplate\":[\"n_estimators (IntDistribution): 0.2623970770573473\\u003cextra\\u003e\\u003c\\u002fextra\\u003e\",\"max_depth (IntDistribution): 0.7376029229426526\\u003cextra\\u003e\\u003c\\u002fextra\\u003e\"],\"name\":\"Objective Value\",\"orientation\":\"h\",\"text\":[\"0.26\",\"0.74\"],\"textposition\":\"outside\",\"x\":[0.2623970770573473,0.7376029229426526],\"y\":[\"n_estimators\",\"max_depth\"],\"type\":\"bar\"}],                        {\"title\":{\"text\":\"Hyperparameter Importances\"},\"xaxis\":{\"title\":{\"text\":\"Hyperparameter Importance\"}},\"yaxis\":{\"title\":{\"text\":\"Hyperparameter\"}},\"template\":{\"data\":{\"histogram2dcontour\":[{\"type\":\"histogram2dcontour\",\"colorbar\":{\"outlinewidth\":0,\"ticks\":\"\"},\"colorscale\":[[0.0,\"#0d0887\"],[0.1111111111111111,\"#46039f\"],[0.2222222222222222,\"#7201a8\"],[0.3333333333333333,\"#9c179e\"],[0.4444444444444444,\"#bd3786\"],[0.5555555555555556,\"#d8576b\"],[0.6666666666666666,\"#ed7953\"],[0.7777777777777778,\"#fb9f3a\"],[0.8888888888888888,\"#fdca26\"],[1.0,\"#f0f921\"]]}],\"choropleth\":[{\"type\":\"choropleth\",\"colorbar\":{\"outlinewidth\":0,\"ticks\":\"\"}}],\"histogram2d\":[{\"type\":\"histogram2d\",\"colorbar\":{\"outlinewidth\":0,\"ticks\":\"\"},\"colorscale\":[[0.0,\"#0d0887\"],[0.1111111111111111,\"#46039f\"],[0.2222222222222222,\"#7201a8\"],[0.3333333333333333,\"#9c179e\"],[0.4444444444444444,\"#bd3786\"],[0.5555555555555556,\"#d8576b\"],[0.6666666666666666,\"#ed7953\"],[0.7777777777777778,\"#fb9f3a\"],[0.8888888888888888,\"#fdca26\"],[1.0,\"#f0f921\"]]}],\"heatmap\":[{\"type\":\"heatmap\",\"colorbar\":{\"outlinewidth\":0,\"ticks\":\"\"},\"colorscale\":[[0.0,\"#0d0887\"],[0.1111111111111111,\"#46039f\"],[0.2222222222222222,\"#7201a8\"],[0.3333333333333333,\"#9c179e\"],[0.4444444444444444,\"#bd3786\"],[0.5555555555555556,\"#d8576b\"],[0.6666666666666666,\"#ed7953\"],[0.7777777777777778,\"#fb9f3a\"],[0.8888888888888888,\"#fdca26\"],[1.0,\"#f0f921\"]]}],\"heatmapgl\":[{\"type\":\"heatmapgl\",\"colorbar\":{\"outlinewidth\":0,\"ticks\":\"\"},\"colorscale\":[[0.0,\"#0d0887\"],[0.1111111111111111,\"#46039f\"],[0.2222222222222222,\"#7201a8\"],[0.3333333333333333,\"#9c179e\"],[0.4444444444444444,\"#bd3786\"],[0.5555555555555556,\"#d8576b\"],[0.6666666666666666,\"#ed7953\"],[0.7777777777777778,\"#fb9f3a\"],[0.8888888888888888,\"#fdca26\"],[1.0,\"#f0f921\"]]}],\"contourcarpet\":[{\"type\":\"contourcarpet\",\"colorbar\":{\"outlinewidth\":0,\"ticks\":\"\"}}],\"contour\":[{\"type\":\"contour\",\"colorbar\":{\"outlinewidth\":0,\"ticks\":\"\"},\"colorscale\":[[0.0,\"#0d0887\"],[0.1111111111111111,\"#46039f\"],[0.2222222222222222,\"#7201a8\"],[0.3333333333333333,\"#9c179e\"],[0.4444444444444444,\"#bd3786\"],[0.5555555555555556,\"#d8576b\"],[0.6666666666666666,\"#ed7953\"],[0.7777777777777778,\"#fb9f3a\"],[0.8888888888888888,\"#fdca26\"],[1.0,\"#f0f921\"]]}],\"surface\":[{\"type\":\"surface\",\"colorbar\":{\"outlinewidth\":0,\"ticks\":\"\"},\"colorscale\":[[0.0,\"#0d0887\"],[0.1111111111111111,\"#46039f\"],[0.2222222222222222,\"#7201a8\"],[0.3333333333333333,\"#9c179e\"],[0.4444444444444444,\"#bd3786\"],[0.5555555555555556,\"#d8576b\"],[0.6666666666666666,\"#ed7953\"],[0.7777777777777778,\"#fb9f3a\"],[0.8888888888888888,\"#fdca26\"],[1.0,\"#f0f921\"]]}],\"mesh3d\":[{\"type\":\"mesh3d\",\"colorbar\":{\"outlinewidth\":0,\"ticks\":\"\"}}],\"scatter\":[{\"fillpattern\":{\"fillmode\":\"overlay\",\"size\":10,\"solidity\":0.2},\"type\":\"scatter\"}],\"parcoords\":[{\"type\":\"parcoords\",\"line\":{\"colorbar\":{\"outlinewidth\":0,\"ticks\":\"\"}}}],\"scatterpolargl\":[{\"type\":\"scatterpolargl\",\"marker\":{\"colorbar\":{\"outlinewidth\":0,\"ticks\":\"\"}}}],\"bar\":[{\"error_x\":{\"color\":\"#2a3f5f\"},\"error_y\":{\"color\":\"#2a3f5f\"},\"marker\":{\"line\":{\"color\":\"#E5ECF6\",\"width\":0.5},\"pattern\":{\"fillmode\":\"overlay\",\"size\":10,\"solidity\":0.2}},\"type\":\"bar\"}],\"scattergeo\":[{\"type\":\"scattergeo\",\"marker\":{\"colorbar\":{\"outlinewidth\":0,\"ticks\":\"\"}}}],\"scatterpolar\":[{\"type\":\"scatterpolar\",\"marker\":{\"colorbar\":{\"outlinewidth\":0,\"ticks\":\"\"}}}],\"histogram\":[{\"marker\":{\"pattern\":{\"fillmode\":\"overlay\",\"size\":10,\"solidity\":0.2}},\"type\":\"histogram\"}],\"scattergl\":[{\"type\":\"scattergl\",\"marker\":{\"colorbar\":{\"outlinewidth\":0,\"ticks\":\"\"}}}],\"scatter3d\":[{\"type\":\"scatter3d\",\"line\":{\"colorbar\":{\"outlinewidth\":0,\"ticks\":\"\"}},\"marker\":{\"colorbar\":{\"outlinewidth\":0,\"ticks\":\"\"}}}],\"scattermapbox\":[{\"type\":\"scattermapbox\",\"marker\":{\"colorbar\":{\"outlinewidth\":0,\"ticks\":\"\"}}}],\"scatterternary\":[{\"type\":\"scatterternary\",\"marker\":{\"colorbar\":{\"outlinewidth\":0,\"ticks\":\"\"}}}],\"scattercarpet\":[{\"type\":\"scattercarpet\",\"marker\":{\"colorbar\":{\"outlinewidth\":0,\"ticks\":\"\"}}}],\"carpet\":[{\"aaxis\":{\"endlinecolor\":\"#2a3f5f\",\"gridcolor\":\"white\",\"linecolor\":\"white\",\"minorgridcolor\":\"white\",\"startlinecolor\":\"#2a3f5f\"},\"baxis\":{\"endlinecolor\":\"#2a3f5f\",\"gridcolor\":\"white\",\"linecolor\":\"white\",\"minorgridcolor\":\"white\",\"startlinecolor\":\"#2a3f5f\"},\"type\":\"carpet\"}],\"table\":[{\"cells\":{\"fill\":{\"color\":\"#EBF0F8\"},\"line\":{\"color\":\"white\"}},\"header\":{\"fill\":{\"color\":\"#C8D4E3\"},\"line\":{\"color\":\"white\"}},\"type\":\"table\"}],\"barpolar\":[{\"marker\":{\"line\":{\"color\":\"#E5ECF6\",\"width\":0.5},\"pattern\":{\"fillmode\":\"overlay\",\"size\":10,\"solidity\":0.2}},\"type\":\"barpolar\"}],\"pie\":[{\"automargin\":true,\"type\":\"pie\"}]},\"layout\":{\"autotypenumbers\":\"strict\",\"colorway\":[\"#636efa\",\"#EF553B\",\"#00cc96\",\"#ab63fa\",\"#FFA15A\",\"#19d3f3\",\"#FF6692\",\"#B6E880\",\"#FF97FF\",\"#FECB52\"],\"font\":{\"color\":\"#2a3f5f\"},\"hovermode\":\"closest\",\"hoverlabel\":{\"align\":\"left\"},\"paper_bgcolor\":\"white\",\"plot_bgcolor\":\"#E5ECF6\",\"polar\":{\"bgcolor\":\"#E5ECF6\",\"angularaxis\":{\"gridcolor\":\"white\",\"linecolor\":\"white\",\"ticks\":\"\"},\"radialaxis\":{\"gridcolor\":\"white\",\"linecolor\":\"white\",\"ticks\":\"\"}},\"ternary\":{\"bgcolor\":\"#E5ECF6\",\"aaxis\":{\"gridcolor\":\"white\",\"linecolor\":\"white\",\"ticks\":\"\"},\"baxis\":{\"gridcolor\":\"white\",\"linecolor\":\"white\",\"ticks\":\"\"},\"caxis\":{\"gridcolor\":\"white\",\"linecolor\":\"white\",\"ticks\":\"\"}},\"coloraxis\":{\"colorbar\":{\"outlinewidth\":0,\"ticks\":\"\"}},\"colorscale\":{\"sequential\":[[0.0,\"#0d0887\"],[0.1111111111111111,\"#46039f\"],[0.2222222222222222,\"#7201a8\"],[0.3333333333333333,\"#9c179e\"],[0.4444444444444444,\"#bd3786\"],[0.5555555555555556,\"#d8576b\"],[0.6666666666666666,\"#ed7953\"],[0.7777777777777778,\"#fb9f3a\"],[0.8888888888888888,\"#fdca26\"],[1.0,\"#f0f921\"]],\"sequentialminus\":[[0.0,\"#0d0887\"],[0.1111111111111111,\"#46039f\"],[0.2222222222222222,\"#7201a8\"],[0.3333333333333333,\"#9c179e\"],[0.4444444444444444,\"#bd3786\"],[0.5555555555555556,\"#d8576b\"],[0.6666666666666666,\"#ed7953\"],[0.7777777777777778,\"#fb9f3a\"],[0.8888888888888888,\"#fdca26\"],[1.0,\"#f0f921\"]],\"diverging\":[[0,\"#8e0152\"],[0.1,\"#c51b7d\"],[0.2,\"#de77ae\"],[0.3,\"#f1b6da\"],[0.4,\"#fde0ef\"],[0.5,\"#f7f7f7\"],[0.6,\"#e6f5d0\"],[0.7,\"#b8e186\"],[0.8,\"#7fbc41\"],[0.9,\"#4d9221\"],[1,\"#276419\"]]},\"xaxis\":{\"gridcolor\":\"white\",\"linecolor\":\"white\",\"ticks\":\"\",\"title\":{\"standoff\":15},\"zerolinecolor\":\"white\",\"automargin\":true,\"zerolinewidth\":2},\"yaxis\":{\"gridcolor\":\"white\",\"linecolor\":\"white\",\"ticks\":\"\",\"title\":{\"standoff\":15},\"zerolinecolor\":\"white\",\"automargin\":true,\"zerolinewidth\":2},\"scene\":{\"xaxis\":{\"backgroundcolor\":\"#E5ECF6\",\"gridcolor\":\"white\",\"linecolor\":\"white\",\"showbackground\":true,\"ticks\":\"\",\"zerolinecolor\":\"white\",\"gridwidth\":2},\"yaxis\":{\"backgroundcolor\":\"#E5ECF6\",\"gridcolor\":\"white\",\"linecolor\":\"white\",\"showbackground\":true,\"ticks\":\"\",\"zerolinecolor\":\"white\",\"gridwidth\":2},\"zaxis\":{\"backgroundcolor\":\"#E5ECF6\",\"gridcolor\":\"white\",\"linecolor\":\"white\",\"showbackground\":true,\"ticks\":\"\",\"zerolinecolor\":\"white\",\"gridwidth\":2}},\"shapedefaults\":{\"line\":{\"color\":\"#2a3f5f\"}},\"annotationdefaults\":{\"arrowcolor\":\"#2a3f5f\",\"arrowhead\":0,\"arrowwidth\":1},\"geo\":{\"bgcolor\":\"white\",\"landcolor\":\"#E5ECF6\",\"subunitcolor\":\"white\",\"showland\":true,\"showlakes\":true,\"lakecolor\":\"white\"},\"title\":{\"x\":0.05},\"mapbox\":{\"style\":\"light\"}}}},                        {\"responsive\": true}                    ).then(function(){\n",
              "                            \n",
              "var gd = document.getElementById('01eb4d92-ea2b-4f18-a046-2249c0dc1df6');\n",
              "var x = new MutationObserver(function (mutations, observer) {{\n",
              "        var display = window.getComputedStyle(gd).display;\n",
              "        if (!display || display === 'none') {{\n",
              "            console.log([gd, 'removed!']);\n",
              "            Plotly.purge(gd);\n",
              "            observer.disconnect();\n",
              "        }}\n",
              "}});\n",
              "\n",
              "// Listen for the removal of the full notebook cells\n",
              "var notebookContainer = gd.closest('#notebook-container');\n",
              "if (notebookContainer) {{\n",
              "    x.observe(notebookContainer, {childList: true});\n",
              "}}\n",
              "\n",
              "// Listen for the clearing of the current output cell\n",
              "var outputEl = gd.closest('.output');\n",
              "if (outputEl) {{\n",
              "    x.observe(outputEl, {childList: true});\n",
              "}}\n",
              "\n",
              "                        })                };                            </script>        </div>\n",
              "</body>\n",
              "</html>"
            ]
          },
          "metadata": {}
        }
      ]
    },
    {
      "cell_type": "markdown",
      "source": [
        "# Optimizing on Same Datasets on Multiple Models and find the best models and that's models best HP's"
      ],
      "metadata": {
        "id": "J3_IEH10IEoM"
      }
    },
    {
      "cell_type": "code",
      "source": [
        "# Importing the required libraries\n",
        "from sklearn.ensemble import RandomForestClassifier, GradientBoostingClassifier\n",
        "from sklearn.svm import SVC"
      ],
      "metadata": {
        "id": "ARJnWAB9E2fk"
      },
      "execution_count": 59,
      "outputs": []
    },
    {
      "cell_type": "code",
      "source": [
        "# Define the Objective Function for Optuna\n",
        "def objective(trial):\n",
        "  classifier_name = trial.suggest_categorical('classifier', ['RandomForest', 'GradientBoosting', 'SVM'])\n",
        "\n",
        "  if classifier_name == 'SVM':\n",
        "    # SVM Hyperparameter\n",
        "    c = trial.suggest_float('c', 0.1, 100, log=True)\n",
        "    kernal = trial.suggest_categorical('kernal', ['linear', 'rbf', 'poly', 'sigmoid'])\n",
        "    gamma = trial.suggest_categorical('gamma', ['scale', 'auto'])\n",
        "\n",
        "    model = SVC(C=c, kernel=kernal, gamma=gamma, random_state=42)\n",
        "\n",
        "  elif classifier_name == 'RandomForest':\n",
        "    # Random Forest hyperparameters\n",
        "        n_estimators = trial.suggest_int('n_estimators', 50, 300)\n",
        "        max_depth = trial.suggest_int('max_depth', 3, 20)\n",
        "        min_samples_split = trial.suggest_int('min_samples_split', 2, 10)\n",
        "        min_samples_leaf = trial.suggest_int('min_samples_leaf', 1, 10)\n",
        "        bootstrap = trial.suggest_categorical('bootstrap', [True, False])\n",
        "\n",
        "        model = RandomForestClassifier(\n",
        "            n_estimators=n_estimators,\n",
        "            max_depth=max_depth,\n",
        "            min_samples_split=min_samples_split,\n",
        "            min_samples_leaf=min_samples_leaf,\n",
        "            bootstrap=bootstrap,\n",
        "            random_state=42\n",
        "        )\n",
        "\n",
        "  elif classifier_name == 'GradientBoosting':\n",
        "        # Gradient Boosting hyperparameters\n",
        "        n_estimators = trial.suggest_int('n_estimators', 50, 300)\n",
        "        learning_rate = trial.suggest_float('learning_rate', 0.01, 0.3, log=True)\n",
        "        max_depth = trial.suggest_int('max_depth', 3, 20)\n",
        "        min_samples_split = trial.suggest_int('min_samples_split', 2, 10)\n",
        "        min_samples_leaf = trial.suggest_int('min_samples_leaf', 1, 10)\n",
        "\n",
        "        model = GradientBoostingClassifier(\n",
        "            n_estimators=n_estimators,\n",
        "            learning_rate=learning_rate,\n",
        "            max_depth=max_depth,\n",
        "            min_samples_split=min_samples_split,\n",
        "            min_samples_leaf=min_samples_leaf,\n",
        "            random_state=42\n",
        "        )\n",
        "  # Perform cross-validation and return the mean accuracy\n",
        "  score = cross_val_score(model, X_train, y_train, cv=3, scoring='accuracy').mean()\n",
        "  return score"
      ],
      "metadata": {
        "id": "cAMpZDMUJ2Lj"
      },
      "execution_count": 60,
      "outputs": []
    },
    {
      "cell_type": "code",
      "source": [
        "# create the study model\n",
        "study = optuna.create_study(direction = 'maximize')\n",
        "study.optimize(objective, n_trials = 100)"
      ],
      "metadata": {
        "colab": {
          "base_uri": "https://localhost:8080/"
        },
        "id": "sdJBSyxaMmVq",
        "outputId": "a1758b8f-46e1-4081-e138-63a164ddce1a"
      },
      "execution_count": 61,
      "outputs": [
        {
          "output_type": "stream",
          "name": "stderr",
          "text": [
            "[I 2025-10-13 20:12:00,219] A new study created in memory with name: no-name-5961701a-3dfa-472a-8c5a-5d878d2e0065\n",
            "[I 2025-10-13 20:12:00,593] Trial 0 finished with value: 0.7635009310986964 and parameters: {'classifier': 'RandomForest', 'n_estimators': 75, 'max_depth': 14, 'min_samples_split': 6, 'min_samples_leaf': 2, 'bootstrap': False}. Best is trial 0 with value: 0.7635009310986964.\n",
            "[I 2025-10-13 20:12:01,700] Trial 1 finished with value: 0.7821229050279329 and parameters: {'classifier': 'RandomForest', 'n_estimators': 277, 'max_depth': 5, 'min_samples_split': 10, 'min_samples_leaf': 1, 'bootstrap': False}. Best is trial 1 with value: 0.7821229050279329.\n",
            "[I 2025-10-13 20:12:03,922] Trial 2 finished with value: 0.7430167597765364 and parameters: {'classifier': 'GradientBoosting', 'n_estimators': 214, 'learning_rate': 0.03183705316754097, 'max_depth': 16, 'min_samples_split': 7, 'min_samples_leaf': 7}. Best is trial 1 with value: 0.7821229050279329.\n",
            "[I 2025-10-13 20:12:05,168] Trial 3 finished with value: 0.7616387337057727 and parameters: {'classifier': 'GradientBoosting', 'n_estimators': 132, 'learning_rate': 0.06266559643691832, 'max_depth': 18, 'min_samples_split': 5, 'min_samples_leaf': 8}. Best is trial 1 with value: 0.7821229050279329.\n",
            "[I 2025-10-13 20:12:05,195] Trial 4 finished with value: 0.74487895716946 and parameters: {'classifier': 'SVM', 'c': 0.6197249590773304, 'kernal': 'sigmoid', 'gamma': 'scale'}. Best is trial 1 with value: 0.7821229050279329.\n",
            "[I 2025-10-13 20:12:05,213] Trial 5 finished with value: 0.7858472998137803 and parameters: {'classifier': 'SVM', 'c': 0.22610059895460227, 'kernal': 'linear', 'gamma': 'auto'}. Best is trial 5 with value: 0.7858472998137803.\n",
            "[I 2025-10-13 20:12:07,597] Trial 6 finished with value: 0.7467411545623838 and parameters: {'classifier': 'GradientBoosting', 'n_estimators': 191, 'learning_rate': 0.06819211012021323, 'max_depth': 11, 'min_samples_split': 6, 'min_samples_leaf': 4}. Best is trial 5 with value: 0.7858472998137803.\n",
            "[I 2025-10-13 20:12:08,888] Trial 7 finished with value: 0.7448789571694601 and parameters: {'classifier': 'GradientBoosting', 'n_estimators': 147, 'learning_rate': 0.06089250705143068, 'max_depth': 11, 'min_samples_split': 4, 'min_samples_leaf': 9}. Best is trial 5 with value: 0.7858472998137803.\n",
            "[I 2025-10-13 20:12:08,928] Trial 8 finished with value: 0.7150837988826816 and parameters: {'classifier': 'SVM', 'c': 74.7974485527672, 'kernal': 'rbf', 'gamma': 'auto'}. Best is trial 5 with value: 0.7858472998137803.\n",
            "[I 2025-10-13 20:12:09,466] Trial 9 finished with value: 0.7597765363128491 and parameters: {'classifier': 'GradientBoosting', 'n_estimators': 79, 'learning_rate': 0.21267174020162352, 'max_depth': 5, 'min_samples_split': 5, 'min_samples_leaf': 1}. Best is trial 5 with value: 0.7858472998137803.\n",
            "[I 2025-10-13 20:12:09,490] Trial 10 finished with value: 0.7895716945996275 and parameters: {'classifier': 'SVM', 'c': 0.11680397079079038, 'kernal': 'linear', 'gamma': 'auto'}. Best is trial 10 with value: 0.7895716945996275.\n",
            "[I 2025-10-13 20:12:09,513] Trial 11 finished with value: 0.7895716945996275 and parameters: {'classifier': 'SVM', 'c': 0.12261780628931358, 'kernal': 'linear', 'gamma': 'auto'}. Best is trial 10 with value: 0.7895716945996275.\n",
            "[I 2025-10-13 20:12:09,533] Trial 12 finished with value: 0.7877094972067038 and parameters: {'classifier': 'SVM', 'c': 0.10444361784166703, 'kernal': 'linear', 'gamma': 'auto'}. Best is trial 10 with value: 0.7895716945996275.\n",
            "[I 2025-10-13 20:12:09,564] Trial 13 finished with value: 0.7858472998137801 and parameters: {'classifier': 'SVM', 'c': 2.980187243110673, 'kernal': 'linear', 'gamma': 'auto'}. Best is trial 10 with value: 0.7895716945996275.\n",
            "[I 2025-10-13 20:12:09,588] Trial 14 finished with value: 0.7355679702048418 and parameters: {'classifier': 'SVM', 'c': 0.6923761259243881, 'kernal': 'poly', 'gamma': 'auto'}. Best is trial 10 with value: 0.7895716945996275.\n",
            "[I 2025-10-13 20:12:09,622] Trial 15 finished with value: 0.7877094972067038 and parameters: {'classifier': 'SVM', 'c': 0.10997841491408986, 'kernal': 'linear', 'gamma': 'scale'}. Best is trial 10 with value: 0.7895716945996275.\n",
            "[I 2025-10-13 20:12:10,920] Trial 16 finished with value: 0.7690875232774674 and parameters: {'classifier': 'RandomForest', 'n_estimators': 297, 'max_depth': 20, 'min_samples_split': 2, 'min_samples_leaf': 5, 'bootstrap': True}. Best is trial 10 with value: 0.7895716945996275.\n",
            "[I 2025-10-13 20:12:11,029] Trial 17 finished with value: 0.7858472998137801 and parameters: {'classifier': 'SVM', 'c': 18.683505153111057, 'kernal': 'linear', 'gamma': 'auto'}. Best is trial 10 with value: 0.7895716945996275.\n",
            "[I 2025-10-13 20:12:11,069] Trial 18 finished with value: 0.7746741154562384 and parameters: {'classifier': 'SVM', 'c': 0.9408672168174912, 'kernal': 'rbf', 'gamma': 'auto'}. Best is trial 10 with value: 0.7895716945996275.\n",
            "[I 2025-10-13 20:12:11,112] Trial 19 finished with value: 0.7579143389199254 and parameters: {'classifier': 'SVM', 'c': 0.3229016633590786, 'kernal': 'sigmoid', 'gamma': 'scale'}. Best is trial 10 with value: 0.7895716945996275.\n",
            "[I 2025-10-13 20:12:12,114] Trial 20 finished with value: 0.7597765363128491 and parameters: {'classifier': 'RandomForest', 'n_estimators': 239, 'max_depth': 9, 'min_samples_split': 9, 'min_samples_leaf': 10, 'bootstrap': True}. Best is trial 10 with value: 0.7895716945996275.\n",
            "[I 2025-10-13 20:12:12,136] Trial 21 finished with value: 0.7877094972067038 and parameters: {'classifier': 'SVM', 'c': 0.10639568230311532, 'kernal': 'linear', 'gamma': 'auto'}. Best is trial 10 with value: 0.7895716945996275.\n",
            "[I 2025-10-13 20:12:12,158] Trial 22 finished with value: 0.7877094972067038 and parameters: {'classifier': 'SVM', 'c': 0.10402092873429372, 'kernal': 'linear', 'gamma': 'auto'}. Best is trial 10 with value: 0.7895716945996275.\n",
            "[I 2025-10-13 20:12:12,180] Trial 23 finished with value: 0.7858472998137803 and parameters: {'classifier': 'SVM', 'c': 0.3195383925493966, 'kernal': 'linear', 'gamma': 'auto'}. Best is trial 10 with value: 0.7895716945996275.\n",
            "[I 2025-10-13 20:12:12,206] Trial 24 finished with value: 0.7337057728119181 and parameters: {'classifier': 'SVM', 'c': 2.951751128908779, 'kernal': 'poly', 'gamma': 'auto'}. Best is trial 10 with value: 0.7895716945996275.\n",
            "[I 2025-10-13 20:12:12,230] Trial 25 finished with value: 0.7858472998137803 and parameters: {'classifier': 'SVM', 'c': 0.23423813661627527, 'kernal': 'linear', 'gamma': 'auto'}. Best is trial 10 with value: 0.7895716945996275.\n",
            "[I 2025-10-13 20:12:12,256] Trial 26 finished with value: 0.7839851024208566 and parameters: {'classifier': 'SVM', 'c': 1.239756639714599, 'kernal': 'linear', 'gamma': 'auto'}. Best is trial 10 with value: 0.7895716945996275.\n",
            "[I 2025-10-13 20:12:12,299] Trial 27 finished with value: 0.7858472998137801 and parameters: {'classifier': 'SVM', 'c': 7.720445665548657, 'kernal': 'linear', 'gamma': 'scale'}. Best is trial 10 with value: 0.7895716945996275.\n",
            "[I 2025-10-13 20:12:12,786] Trial 28 finished with value: 0.7672253258845437 and parameters: {'classifier': 'RandomForest', 'n_estimators': 125, 'max_depth': 8, 'min_samples_split': 2, 'min_samples_leaf': 3, 'bootstrap': True}. Best is trial 10 with value: 0.7895716945996275.\n",
            "[I 2025-10-13 20:12:12,814] Trial 29 finished with value: 0.7635009310986964 and parameters: {'classifier': 'SVM', 'c': 0.1973836730138143, 'kernal': 'rbf', 'gamma': 'auto'}. Best is trial 10 with value: 0.7895716945996275.\n",
            "[I 2025-10-13 20:12:12,971] Trial 30 finished with value: 0.74487895716946 and parameters: {'classifier': 'RandomForest', 'n_estimators': 52, 'max_depth': 3, 'min_samples_split': 8, 'min_samples_leaf': 6, 'bootstrap': False}. Best is trial 10 with value: 0.7895716945996275.\n",
            "[I 2025-10-13 20:12:12,991] Trial 31 finished with value: 0.7877094972067038 and parameters: {'classifier': 'SVM', 'c': 0.10210693025757565, 'kernal': 'linear', 'gamma': 'scale'}. Best is trial 10 with value: 0.7895716945996275.\n",
            "[I 2025-10-13 20:12:13,013] Trial 32 finished with value: 0.7877094972067038 and parameters: {'classifier': 'SVM', 'c': 0.17715626683280036, 'kernal': 'linear', 'gamma': 'scale'}. Best is trial 10 with value: 0.7895716945996275.\n",
            "[I 2025-10-13 20:12:13,036] Trial 33 finished with value: 0.7839851024208566 and parameters: {'classifier': 'SVM', 'c': 0.4970066655445563, 'kernal': 'linear', 'gamma': 'scale'}. Best is trial 10 with value: 0.7895716945996275.\n",
            "[I 2025-10-13 20:12:13,060] Trial 34 finished with value: 0.7895716945996275 and parameters: {'classifier': 'SVM', 'c': 0.13705077204442542, 'kernal': 'linear', 'gamma': 'scale'}. Best is trial 10 with value: 0.7895716945996275.\n",
            "[I 2025-10-13 20:12:13,090] Trial 35 finished with value: 0.7541899441340782 and parameters: {'classifier': 'SVM', 'c': 0.3664485569786593, 'kernal': 'sigmoid', 'gamma': 'auto'}. Best is trial 10 with value: 0.7895716945996275.\n",
            "[I 2025-10-13 20:12:15,053] Trial 36 finished with value: 0.7523277467411545 and parameters: {'classifier': 'GradientBoosting', 'n_estimators': 250, 'learning_rate': 0.011675578245880008, 'max_depth': 16, 'min_samples_split': 3, 'min_samples_leaf': 10}. Best is trial 10 with value: 0.7895716945996275.\n",
            "[I 2025-10-13 20:12:15,083] Trial 37 finished with value: 0.7150837988826816 and parameters: {'classifier': 'SVM', 'c': 0.1747669973866874, 'kernal': 'poly', 'gamma': 'scale'}. Best is trial 10 with value: 0.7895716945996275.\n",
            "[I 2025-10-13 20:12:15,657] Trial 38 finished with value: 0.7653631284916201 and parameters: {'classifier': 'RandomForest', 'n_estimators': 171, 'max_depth': 14, 'min_samples_split': 10, 'min_samples_leaf': 5, 'bootstrap': False}. Best is trial 10 with value: 0.7895716945996275.\n",
            "[I 2025-10-13 20:12:16,962] Trial 39 finished with value: 0.7411545623836128 and parameters: {'classifier': 'GradientBoosting', 'n_estimators': 107, 'learning_rate': 0.24632594198788807, 'max_depth': 20, 'min_samples_split': 8, 'min_samples_leaf': 7}. Best is trial 10 with value: 0.7895716945996275.\n",
            "[I 2025-10-13 20:12:16,991] Trial 40 finished with value: 0.7858472998137801 and parameters: {'classifier': 'SVM', 'c': 1.7213587194325695, 'kernal': 'linear', 'gamma': 'auto'}. Best is trial 10 with value: 0.7895716945996275.\n",
            "[I 2025-10-13 20:12:17,014] Trial 41 finished with value: 0.7877094972067038 and parameters: {'classifier': 'SVM', 'c': 0.1034484350890261, 'kernal': 'linear', 'gamma': 'scale'}. Best is trial 10 with value: 0.7895716945996275.\n",
            "[I 2025-10-13 20:12:17,038] Trial 42 finished with value: 0.7895716945996275 and parameters: {'classifier': 'SVM', 'c': 0.15365877185277185, 'kernal': 'linear', 'gamma': 'scale'}. Best is trial 10 with value: 0.7895716945996275.\n",
            "[I 2025-10-13 20:12:17,065] Trial 43 finished with value: 0.7877094972067038 and parameters: {'classifier': 'SVM', 'c': 0.17101007204109947, 'kernal': 'linear', 'gamma': 'scale'}. Best is trial 10 with value: 0.7895716945996275.\n",
            "[I 2025-10-13 20:12:17,090] Trial 44 finished with value: 0.7821229050279329 and parameters: {'classifier': 'SVM', 'c': 0.37476818211917967, 'kernal': 'linear', 'gamma': 'scale'}. Best is trial 10 with value: 0.7895716945996275.\n",
            "[I 2025-10-13 20:12:19,178] Trial 45 finished with value: 0.7299813780260708 and parameters: {'classifier': 'GradientBoosting', 'n_estimators': 172, 'learning_rate': 0.010965922676229142, 'max_depth': 8, 'min_samples_split': 3, 'min_samples_leaf': 3}. Best is trial 10 with value: 0.7895716945996275.\n",
            "[I 2025-10-13 20:12:19,212] Trial 46 finished with value: 0.7728119180633147 and parameters: {'classifier': 'SVM', 'c': 0.16490958783289097, 'kernal': 'sigmoid', 'gamma': 'scale'}. Best is trial 10 with value: 0.7895716945996275.\n",
            "[I 2025-10-13 20:12:19,238] Trial 47 finished with value: 0.7858472998137803 and parameters: {'classifier': 'SVM', 'c': 0.6142615389499732, 'kernal': 'linear', 'gamma': 'scale'}. Best is trial 10 with value: 0.7895716945996275.\n",
            "[I 2025-10-13 20:12:19,266] Trial 48 finished with value: 0.7858472998137803 and parameters: {'classifier': 'SVM', 'c': 0.2483792598692651, 'kernal': 'linear', 'gamma': 'auto'}. Best is trial 10 with value: 0.7895716945996275.\n",
            "[I 2025-10-13 20:12:19,295] Trial 49 finished with value: 0.750465549348231 and parameters: {'classifier': 'SVM', 'c': 0.14982609162642763, 'kernal': 'rbf', 'gamma': 'auto'}. Best is trial 10 with value: 0.7895716945996275.\n",
            "[I 2025-10-13 20:12:21,343] Trial 50 finished with value: 0.74487895716946 and parameters: {'classifier': 'GradientBoosting', 'n_estimators': 215, 'learning_rate': 0.025171193076339336, 'max_depth': 13, 'min_samples_split': 8, 'min_samples_leaf': 8}. Best is trial 10 with value: 0.7895716945996275.\n",
            "[I 2025-10-13 20:12:21,367] Trial 51 finished with value: 0.7895716945996275 and parameters: {'classifier': 'SVM', 'c': 0.13861085945687807, 'kernal': 'linear', 'gamma': 'scale'}. Best is trial 10 with value: 0.7895716945996275.\n",
            "[I 2025-10-13 20:12:21,397] Trial 52 finished with value: 0.7858472998137803 and parameters: {'classifier': 'SVM', 'c': 0.24158693030305328, 'kernal': 'linear', 'gamma': 'scale'}. Best is trial 10 with value: 0.7895716945996275.\n",
            "[I 2025-10-13 20:12:21,427] Trial 53 finished with value: 0.7895716945996275 and parameters: {'classifier': 'SVM', 'c': 0.14287521161369182, 'kernal': 'linear', 'gamma': 'scale'}. Best is trial 10 with value: 0.7895716945996275.\n",
            "[I 2025-10-13 20:12:21,770] Trial 54 finished with value: 0.7858472998137801 and parameters: {'classifier': 'SVM', 'c': 95.0230084934986, 'kernal': 'linear', 'gamma': 'scale'}. Best is trial 10 with value: 0.7895716945996275.\n",
            "[I 2025-10-13 20:12:21,811] Trial 55 finished with value: 0.7895716945996275 and parameters: {'classifier': 'SVM', 'c': 0.1434807560558551, 'kernal': 'linear', 'gamma': 'scale'}. Best is trial 10 with value: 0.7895716945996275.\n",
            "[I 2025-10-13 20:12:21,879] Trial 56 finished with value: 0.7039106145251397 and parameters: {'classifier': 'SVM', 'c': 26.218293908061582, 'kernal': 'poly', 'gamma': 'scale'}. Best is trial 10 with value: 0.7895716945996275.\n",
            "[I 2025-10-13 20:12:21,916] Trial 57 finished with value: 0.7858472998137803 and parameters: {'classifier': 'SVM', 'c': 0.2645264903991799, 'kernal': 'linear', 'gamma': 'scale'}. Best is trial 10 with value: 0.7895716945996275.\n",
            "[I 2025-10-13 20:12:23,196] Trial 58 finished with value: 0.7560521415270017 and parameters: {'classifier': 'RandomForest', 'n_estimators': 253, 'max_depth': 5, 'min_samples_split': 4, 'min_samples_leaf': 4, 'bootstrap': True}. Best is trial 10 with value: 0.7895716945996275.\n",
            "[I 2025-10-13 20:12:23,218] Trial 59 finished with value: 0.7839851024208566 and parameters: {'classifier': 'SVM', 'c': 0.4296868648039071, 'kernal': 'linear', 'gamma': 'scale'}. Best is trial 10 with value: 0.7895716945996275.\n",
            "[I 2025-10-13 20:12:23,250] Trial 60 finished with value: 0.7765363128491621 and parameters: {'classifier': 'SVM', 'c': 0.13722344196327502, 'kernal': 'sigmoid', 'gamma': 'scale'}. Best is trial 10 with value: 0.7895716945996275.\n",
            "[I 2025-10-13 20:12:23,272] Trial 61 finished with value: 0.7895716945996275 and parameters: {'classifier': 'SVM', 'c': 0.15071497879460102, 'kernal': 'linear', 'gamma': 'scale'}. Best is trial 10 with value: 0.7895716945996275.\n",
            "[I 2025-10-13 20:12:23,294] Trial 62 finished with value: 0.7895716945996275 and parameters: {'classifier': 'SVM', 'c': 0.13475839695881447, 'kernal': 'linear', 'gamma': 'scale'}. Best is trial 10 with value: 0.7895716945996275.\n",
            "[I 2025-10-13 20:12:23,317] Trial 63 finished with value: 0.7858472998137803 and parameters: {'classifier': 'SVM', 'c': 0.22123659416570118, 'kernal': 'linear', 'gamma': 'scale'}. Best is trial 10 with value: 0.7895716945996275.\n",
            "[I 2025-10-13 20:12:23,339] Trial 64 finished with value: 0.7895716945996275 and parameters: {'classifier': 'SVM', 'c': 0.13284059889235303, 'kernal': 'linear', 'gamma': 'scale'}. Best is trial 10 with value: 0.7895716945996275.\n",
            "[I 2025-10-13 20:12:23,362] Trial 65 finished with value: 0.7858472998137803 and parameters: {'classifier': 'SVM', 'c': 0.3157613811627024, 'kernal': 'linear', 'gamma': 'scale'}. Best is trial 10 with value: 0.7895716945996275.\n",
            "[I 2025-10-13 20:12:23,389] Trial 66 finished with value: 0.7094972067039106 and parameters: {'classifier': 'SVM', 'c': 0.10025186443918166, 'kernal': 'rbf', 'gamma': 'scale'}. Best is trial 10 with value: 0.7895716945996275.\n",
            "[I 2025-10-13 20:12:23,409] Trial 67 finished with value: 0.7858472998137803 and parameters: {'classifier': 'SVM', 'c': 0.21740900943964808, 'kernal': 'linear', 'gamma': 'auto'}. Best is trial 10 with value: 0.7895716945996275.\n",
            "[I 2025-10-13 20:12:24,490] Trial 68 finished with value: 0.7541899441340782 and parameters: {'classifier': 'RandomForest', 'n_estimators': 300, 'max_depth': 18, 'min_samples_split': 7, 'min_samples_leaf': 6, 'bootstrap': True}. Best is trial 10 with value: 0.7895716945996275.\n",
            "[I 2025-10-13 20:12:24,511] Trial 69 finished with value: 0.7895716945996275 and parameters: {'classifier': 'SVM', 'c': 0.1332116046315945, 'kernal': 'linear', 'gamma': 'scale'}. Best is trial 10 with value: 0.7895716945996275.\n",
            "[I 2025-10-13 20:12:24,534] Trial 70 finished with value: 0.7858472998137803 and parameters: {'classifier': 'SVM', 'c': 0.709262223403078, 'kernal': 'linear', 'gamma': 'auto'}. Best is trial 10 with value: 0.7895716945996275.\n",
            "[I 2025-10-13 20:12:24,554] Trial 71 finished with value: 0.7895716945996275 and parameters: {'classifier': 'SVM', 'c': 0.13397462000208243, 'kernal': 'linear', 'gamma': 'scale'}. Best is trial 10 with value: 0.7895716945996275.\n",
            "[I 2025-10-13 20:12:24,577] Trial 72 finished with value: 0.7877094972067038 and parameters: {'classifier': 'SVM', 'c': 0.170874436223101, 'kernal': 'linear', 'gamma': 'scale'}. Best is trial 10 with value: 0.7895716945996275.\n",
            "[I 2025-10-13 20:12:24,600] Trial 73 finished with value: 0.7858472998137803 and parameters: {'classifier': 'SVM', 'c': 0.2932721374466335, 'kernal': 'linear', 'gamma': 'scale'}. Best is trial 10 with value: 0.7895716945996275.\n",
            "[I 2025-10-13 20:12:24,623] Trial 74 finished with value: 0.7858472998137803 and parameters: {'classifier': 'SVM', 'c': 0.19330870981681195, 'kernal': 'linear', 'gamma': 'scale'}. Best is trial 10 with value: 0.7895716945996275.\n",
            "[I 2025-10-13 20:12:24,647] Trial 75 finished with value: 0.7113594040968342 and parameters: {'classifier': 'SVM', 'c': 0.1302596868657827, 'kernal': 'poly', 'gamma': 'scale'}. Best is trial 10 with value: 0.7895716945996275.\n",
            "[I 2025-10-13 20:12:25,711] Trial 76 finished with value: 0.750465549348231 and parameters: {'classifier': 'GradientBoosting', 'n_estimators': 91, 'learning_rate': 0.12979520810778755, 'max_depth': 9, 'min_samples_split': 9, 'min_samples_leaf': 2}. Best is trial 10 with value: 0.7895716945996275.\n",
            "[I 2025-10-13 20:12:25,735] Trial 77 finished with value: 0.7858472998137803 and parameters: {'classifier': 'SVM', 'c': 0.2085354109981572, 'kernal': 'linear', 'gamma': 'auto'}. Best is trial 10 with value: 0.7895716945996275.\n",
            "[I 2025-10-13 20:12:25,781] Trial 78 finished with value: 0.7858472998137801 and parameters: {'classifier': 'SVM', 'c': 5.921533608625238, 'kernal': 'linear', 'gamma': 'scale'}. Best is trial 10 with value: 0.7895716945996275.\n",
            "[I 2025-10-13 20:12:25,802] Trial 79 finished with value: 0.7895716945996275 and parameters: {'classifier': 'SVM', 'c': 0.11892196849654955, 'kernal': 'linear', 'gamma': 'auto'}. Best is trial 10 with value: 0.7895716945996275.\n",
            "[I 2025-10-13 20:12:25,832] Trial 80 finished with value: 0.7523277467411545 and parameters: {'classifier': 'SVM', 'c': 0.1594510130843287, 'kernal': 'rbf', 'gamma': 'scale'}. Best is trial 10 with value: 0.7895716945996275.\n",
            "[I 2025-10-13 20:12:25,853] Trial 81 finished with value: 0.7895716945996275 and parameters: {'classifier': 'SVM', 'c': 0.1260483425410252, 'kernal': 'linear', 'gamma': 'scale'}. Best is trial 10 with value: 0.7895716945996275.\n",
            "[I 2025-10-13 20:12:25,874] Trial 82 finished with value: 0.7877094972067038 and parameters: {'classifier': 'SVM', 'c': 0.10061872924402769, 'kernal': 'linear', 'gamma': 'scale'}. Best is trial 10 with value: 0.7895716945996275.\n",
            "[I 2025-10-13 20:12:25,895] Trial 83 finished with value: 0.7877094972067038 and parameters: {'classifier': 'SVM', 'c': 0.1627213370141744, 'kernal': 'linear', 'gamma': 'scale'}. Best is trial 10 with value: 0.7895716945996275.\n",
            "[I 2025-10-13 20:12:25,917] Trial 84 finished with value: 0.7858472998137803 and parameters: {'classifier': 'SVM', 'c': 0.19808623737551734, 'kernal': 'linear', 'gamma': 'scale'}. Best is trial 10 with value: 0.7895716945996275.\n",
            "[I 2025-10-13 20:12:25,946] Trial 85 finished with value: 0.7635009310986964 and parameters: {'classifier': 'SVM', 'c': 0.28454657360060925, 'kernal': 'sigmoid', 'gamma': 'auto'}. Best is trial 10 with value: 0.7895716945996275.\n",
            "[I 2025-10-13 20:12:26,120] Trial 86 finished with value: 0.7467411545623835 and parameters: {'classifier': 'RandomForest', 'n_estimators': 55, 'max_depth': 3, 'min_samples_split': 5, 'min_samples_leaf': 9, 'bootstrap': False}. Best is trial 10 with value: 0.7895716945996275.\n",
            "[I 2025-10-13 20:12:26,140] Trial 87 finished with value: 0.7895716945996275 and parameters: {'classifier': 'SVM', 'c': 0.15004103203548874, 'kernal': 'linear', 'gamma': 'scale'}. Best is trial 10 with value: 0.7895716945996275.\n",
            "[I 2025-10-13 20:12:27,752] Trial 88 finished with value: 0.7355679702048418 and parameters: {'classifier': 'GradientBoosting', 'n_estimators': 152, 'learning_rate': 0.11512852936639491, 'max_depth': 16, 'min_samples_split': 7, 'min_samples_leaf': 7}. Best is trial 10 with value: 0.7895716945996275.\n",
            "[I 2025-10-13 20:12:27,773] Trial 89 finished with value: 0.7895716945996275 and parameters: {'classifier': 'SVM', 'c': 0.120239367406632, 'kernal': 'linear', 'gamma': 'scale'}. Best is trial 10 with value: 0.7895716945996275.\n",
            "[I 2025-10-13 20:12:27,795] Trial 90 finished with value: 0.7839851024208566 and parameters: {'classifier': 'SVM', 'c': 0.4118670250628167, 'kernal': 'linear', 'gamma': 'auto'}. Best is trial 10 with value: 0.7895716945996275.\n",
            "[I 2025-10-13 20:12:27,822] Trial 91 finished with value: 0.7895716945996275 and parameters: {'classifier': 'SVM', 'c': 0.12769549715259088, 'kernal': 'linear', 'gamma': 'scale'}. Best is trial 10 with value: 0.7895716945996275.\n",
            "[I 2025-10-13 20:12:27,843] Trial 92 finished with value: 0.7858472998137803 and parameters: {'classifier': 'SVM', 'c': 0.1915712326597082, 'kernal': 'linear', 'gamma': 'scale'}. Best is trial 10 with value: 0.7895716945996275.\n",
            "[I 2025-10-13 20:12:27,863] Trial 93 finished with value: 0.7895716945996275 and parameters: {'classifier': 'SVM', 'c': 0.14592878789349972, 'kernal': 'linear', 'gamma': 'scale'}. Best is trial 10 with value: 0.7895716945996275.\n",
            "[I 2025-10-13 20:12:28,010] Trial 94 finished with value: 0.7858472998137801 and parameters: {'classifier': 'SVM', 'c': 40.30275032077265, 'kernal': 'linear', 'gamma': 'scale'}. Best is trial 10 with value: 0.7895716945996275.\n",
            "[I 2025-10-13 20:12:28,038] Trial 95 finished with value: 0.7094972067039106 and parameters: {'classifier': 'SVM', 'c': 0.1162756983809449, 'kernal': 'poly', 'gamma': 'scale'}. Best is trial 10 with value: 0.7895716945996275.\n",
            "[I 2025-10-13 20:12:28,065] Trial 96 finished with value: 0.7858472998137803 and parameters: {'classifier': 'SVM', 'c': 0.2553284969698189, 'kernal': 'linear', 'gamma': 'scale'}. Best is trial 10 with value: 0.7895716945996275.\n",
            "[I 2025-10-13 20:12:28,086] Trial 97 finished with value: 0.7877094972067038 and parameters: {'classifier': 'SVM', 'c': 0.10064137116381615, 'kernal': 'linear', 'gamma': 'scale'}. Best is trial 10 with value: 0.7895716945996275.\n",
            "[I 2025-10-13 20:12:28,111] Trial 98 finished with value: 0.7858472998137801 and parameters: {'classifier': 'SVM', 'c': 1.8304611298525593, 'kernal': 'linear', 'gamma': 'auto'}. Best is trial 10 with value: 0.7895716945996275.\n",
            "[I 2025-10-13 20:12:28,774] Trial 99 finished with value: 0.7746741154562384 and parameters: {'classifier': 'RandomForest', 'n_estimators': 200, 'max_depth': 7, 'min_samples_split': 3, 'min_samples_leaf': 4, 'bootstrap': False}. Best is trial 10 with value: 0.7895716945996275.\n"
          ]
        }
      ]
    },
    {
      "cell_type": "code",
      "source": [
        "# Retrive the best parameter\n",
        "best_trial = study.best_trial\n",
        "print(\"Best trial Parameter:\", best_trial.params)\n",
        "print(\"Best trial Accurancy:\", best_trial.values)"
      ],
      "metadata": {
        "colab": {
          "base_uri": "https://localhost:8080/"
        },
        "id": "9dWMOCrAM4lE",
        "outputId": "6072e355-af12-47a8-eafd-62fb7712c93c"
      },
      "execution_count": 62,
      "outputs": [
        {
          "output_type": "stream",
          "name": "stdout",
          "text": [
            "Best trial Parameter: {'classifier': 'SVM', 'c': 0.11680397079079038, 'kernal': 'linear', 'gamma': 'auto'}\n",
            "Best trial Accurancy: [0.7895716945996275]\n"
          ]
        }
      ]
    },
    {
      "cell_type": "code",
      "source": [
        "study.trials_dataframe()"
      ],
      "metadata": {
        "colab": {
          "base_uri": "https://localhost:8080/",
          "height": 617
        },
        "id": "_H_0C23hNiBW",
        "outputId": "c0eb1e15-e1e7-4ff5-e6d2-6eb290dbd3c6"
      },
      "execution_count": 63,
      "outputs": [
        {
          "output_type": "execute_result",
          "data": {
            "text/plain": [
              "    number     value             datetime_start          datetime_complete  \\\n",
              "0        0  0.763501 2025-10-13 20:12:00.220463 2025-10-13 20:12:00.593737   \n",
              "1        1  0.782123 2025-10-13 20:12:00.594937 2025-10-13 20:12:01.700584   \n",
              "2        2  0.743017 2025-10-13 20:12:01.701503 2025-10-13 20:12:03.922861   \n",
              "3        3  0.761639 2025-10-13 20:12:03.923723 2025-10-13 20:12:05.168562   \n",
              "4        4  0.744879 2025-10-13 20:12:05.169377 2025-10-13 20:12:05.194985   \n",
              "..     ...       ...                        ...                        ...   \n",
              "95      95  0.709497 2025-10-13 20:12:28.011289 2025-10-13 20:12:28.038115   \n",
              "96      96  0.785847 2025-10-13 20:12:28.038807 2025-10-13 20:12:28.065377   \n",
              "97      97  0.787709 2025-10-13 20:12:28.066268 2025-10-13 20:12:28.086276   \n",
              "98      98  0.785847 2025-10-13 20:12:28.086975 2025-10-13 20:12:28.111673   \n",
              "99      99  0.774674 2025-10-13 20:12:28.112431 2025-10-13 20:12:28.774105   \n",
              "\n",
              "                 duration params_bootstrap  params_c params_classifier  \\\n",
              "0  0 days 00:00:00.373274            False       NaN      RandomForest   \n",
              "1  0 days 00:00:01.105647            False       NaN      RandomForest   \n",
              "2  0 days 00:00:02.221358              NaN       NaN  GradientBoosting   \n",
              "3  0 days 00:00:01.244839              NaN       NaN  GradientBoosting   \n",
              "4  0 days 00:00:00.025608              NaN  0.619725               SVM   \n",
              "..                    ...              ...       ...               ...   \n",
              "95 0 days 00:00:00.026826              NaN  0.116276               SVM   \n",
              "96 0 days 00:00:00.026570              NaN  0.255328               SVM   \n",
              "97 0 days 00:00:00.020008              NaN  0.100641               SVM   \n",
              "98 0 days 00:00:00.024698              NaN  1.830461               SVM   \n",
              "99 0 days 00:00:00.661674            False       NaN      RandomForest   \n",
              "\n",
              "   params_gamma params_kernal  params_learning_rate  params_max_depth  \\\n",
              "0           NaN           NaN                   NaN              14.0   \n",
              "1           NaN           NaN                   NaN               5.0   \n",
              "2           NaN           NaN              0.031837              16.0   \n",
              "3           NaN           NaN              0.062666              18.0   \n",
              "4         scale       sigmoid                   NaN               NaN   \n",
              "..          ...           ...                   ...               ...   \n",
              "95        scale          poly                   NaN               NaN   \n",
              "96        scale        linear                   NaN               NaN   \n",
              "97        scale        linear                   NaN               NaN   \n",
              "98         auto        linear                   NaN               NaN   \n",
              "99          NaN           NaN                   NaN               7.0   \n",
              "\n",
              "    params_min_samples_leaf  params_min_samples_split  params_n_estimators  \\\n",
              "0                       2.0                       6.0                 75.0   \n",
              "1                       1.0                      10.0                277.0   \n",
              "2                       7.0                       7.0                214.0   \n",
              "3                       8.0                       5.0                132.0   \n",
              "4                       NaN                       NaN                  NaN   \n",
              "..                      ...                       ...                  ...   \n",
              "95                      NaN                       NaN                  NaN   \n",
              "96                      NaN                       NaN                  NaN   \n",
              "97                      NaN                       NaN                  NaN   \n",
              "98                      NaN                       NaN                  NaN   \n",
              "99                      4.0                       3.0                200.0   \n",
              "\n",
              "       state  \n",
              "0   COMPLETE  \n",
              "1   COMPLETE  \n",
              "2   COMPLETE  \n",
              "3   COMPLETE  \n",
              "4   COMPLETE  \n",
              "..       ...  \n",
              "95  COMPLETE  \n",
              "96  COMPLETE  \n",
              "97  COMPLETE  \n",
              "98  COMPLETE  \n",
              "99  COMPLETE  \n",
              "\n",
              "[100 rows x 16 columns]"
            ],
            "text/html": [
              "\n",
              "  <div id=\"df-f943a567-6ce5-45d1-918f-000009accb07\" class=\"colab-df-container\">\n",
              "    <div>\n",
              "<style scoped>\n",
              "    .dataframe tbody tr th:only-of-type {\n",
              "        vertical-align: middle;\n",
              "    }\n",
              "\n",
              "    .dataframe tbody tr th {\n",
              "        vertical-align: top;\n",
              "    }\n",
              "\n",
              "    .dataframe thead th {\n",
              "        text-align: right;\n",
              "    }\n",
              "</style>\n",
              "<table border=\"1\" class=\"dataframe\">\n",
              "  <thead>\n",
              "    <tr style=\"text-align: right;\">\n",
              "      <th></th>\n",
              "      <th>number</th>\n",
              "      <th>value</th>\n",
              "      <th>datetime_start</th>\n",
              "      <th>datetime_complete</th>\n",
              "      <th>duration</th>\n",
              "      <th>params_bootstrap</th>\n",
              "      <th>params_c</th>\n",
              "      <th>params_classifier</th>\n",
              "      <th>params_gamma</th>\n",
              "      <th>params_kernal</th>\n",
              "      <th>params_learning_rate</th>\n",
              "      <th>params_max_depth</th>\n",
              "      <th>params_min_samples_leaf</th>\n",
              "      <th>params_min_samples_split</th>\n",
              "      <th>params_n_estimators</th>\n",
              "      <th>state</th>\n",
              "    </tr>\n",
              "  </thead>\n",
              "  <tbody>\n",
              "    <tr>\n",
              "      <th>0</th>\n",
              "      <td>0</td>\n",
              "      <td>0.763501</td>\n",
              "      <td>2025-10-13 20:12:00.220463</td>\n",
              "      <td>2025-10-13 20:12:00.593737</td>\n",
              "      <td>0 days 00:00:00.373274</td>\n",
              "      <td>False</td>\n",
              "      <td>NaN</td>\n",
              "      <td>RandomForest</td>\n",
              "      <td>NaN</td>\n",
              "      <td>NaN</td>\n",
              "      <td>NaN</td>\n",
              "      <td>14.0</td>\n",
              "      <td>2.0</td>\n",
              "      <td>6.0</td>\n",
              "      <td>75.0</td>\n",
              "      <td>COMPLETE</td>\n",
              "    </tr>\n",
              "    <tr>\n",
              "      <th>1</th>\n",
              "      <td>1</td>\n",
              "      <td>0.782123</td>\n",
              "      <td>2025-10-13 20:12:00.594937</td>\n",
              "      <td>2025-10-13 20:12:01.700584</td>\n",
              "      <td>0 days 00:00:01.105647</td>\n",
              "      <td>False</td>\n",
              "      <td>NaN</td>\n",
              "      <td>RandomForest</td>\n",
              "      <td>NaN</td>\n",
              "      <td>NaN</td>\n",
              "      <td>NaN</td>\n",
              "      <td>5.0</td>\n",
              "      <td>1.0</td>\n",
              "      <td>10.0</td>\n",
              "      <td>277.0</td>\n",
              "      <td>COMPLETE</td>\n",
              "    </tr>\n",
              "    <tr>\n",
              "      <th>2</th>\n",
              "      <td>2</td>\n",
              "      <td>0.743017</td>\n",
              "      <td>2025-10-13 20:12:01.701503</td>\n",
              "      <td>2025-10-13 20:12:03.922861</td>\n",
              "      <td>0 days 00:00:02.221358</td>\n",
              "      <td>NaN</td>\n",
              "      <td>NaN</td>\n",
              "      <td>GradientBoosting</td>\n",
              "      <td>NaN</td>\n",
              "      <td>NaN</td>\n",
              "      <td>0.031837</td>\n",
              "      <td>16.0</td>\n",
              "      <td>7.0</td>\n",
              "      <td>7.0</td>\n",
              "      <td>214.0</td>\n",
              "      <td>COMPLETE</td>\n",
              "    </tr>\n",
              "    <tr>\n",
              "      <th>3</th>\n",
              "      <td>3</td>\n",
              "      <td>0.761639</td>\n",
              "      <td>2025-10-13 20:12:03.923723</td>\n",
              "      <td>2025-10-13 20:12:05.168562</td>\n",
              "      <td>0 days 00:00:01.244839</td>\n",
              "      <td>NaN</td>\n",
              "      <td>NaN</td>\n",
              "      <td>GradientBoosting</td>\n",
              "      <td>NaN</td>\n",
              "      <td>NaN</td>\n",
              "      <td>0.062666</td>\n",
              "      <td>18.0</td>\n",
              "      <td>8.0</td>\n",
              "      <td>5.0</td>\n",
              "      <td>132.0</td>\n",
              "      <td>COMPLETE</td>\n",
              "    </tr>\n",
              "    <tr>\n",
              "      <th>4</th>\n",
              "      <td>4</td>\n",
              "      <td>0.744879</td>\n",
              "      <td>2025-10-13 20:12:05.169377</td>\n",
              "      <td>2025-10-13 20:12:05.194985</td>\n",
              "      <td>0 days 00:00:00.025608</td>\n",
              "      <td>NaN</td>\n",
              "      <td>0.619725</td>\n",
              "      <td>SVM</td>\n",
              "      <td>scale</td>\n",
              "      <td>sigmoid</td>\n",
              "      <td>NaN</td>\n",
              "      <td>NaN</td>\n",
              "      <td>NaN</td>\n",
              "      <td>NaN</td>\n",
              "      <td>NaN</td>\n",
              "      <td>COMPLETE</td>\n",
              "    </tr>\n",
              "    <tr>\n",
              "      <th>...</th>\n",
              "      <td>...</td>\n",
              "      <td>...</td>\n",
              "      <td>...</td>\n",
              "      <td>...</td>\n",
              "      <td>...</td>\n",
              "      <td>...</td>\n",
              "      <td>...</td>\n",
              "      <td>...</td>\n",
              "      <td>...</td>\n",
              "      <td>...</td>\n",
              "      <td>...</td>\n",
              "      <td>...</td>\n",
              "      <td>...</td>\n",
              "      <td>...</td>\n",
              "      <td>...</td>\n",
              "      <td>...</td>\n",
              "    </tr>\n",
              "    <tr>\n",
              "      <th>95</th>\n",
              "      <td>95</td>\n",
              "      <td>0.709497</td>\n",
              "      <td>2025-10-13 20:12:28.011289</td>\n",
              "      <td>2025-10-13 20:12:28.038115</td>\n",
              "      <td>0 days 00:00:00.026826</td>\n",
              "      <td>NaN</td>\n",
              "      <td>0.116276</td>\n",
              "      <td>SVM</td>\n",
              "      <td>scale</td>\n",
              "      <td>poly</td>\n",
              "      <td>NaN</td>\n",
              "      <td>NaN</td>\n",
              "      <td>NaN</td>\n",
              "      <td>NaN</td>\n",
              "      <td>NaN</td>\n",
              "      <td>COMPLETE</td>\n",
              "    </tr>\n",
              "    <tr>\n",
              "      <th>96</th>\n",
              "      <td>96</td>\n",
              "      <td>0.785847</td>\n",
              "      <td>2025-10-13 20:12:28.038807</td>\n",
              "      <td>2025-10-13 20:12:28.065377</td>\n",
              "      <td>0 days 00:00:00.026570</td>\n",
              "      <td>NaN</td>\n",
              "      <td>0.255328</td>\n",
              "      <td>SVM</td>\n",
              "      <td>scale</td>\n",
              "      <td>linear</td>\n",
              "      <td>NaN</td>\n",
              "      <td>NaN</td>\n",
              "      <td>NaN</td>\n",
              "      <td>NaN</td>\n",
              "      <td>NaN</td>\n",
              "      <td>COMPLETE</td>\n",
              "    </tr>\n",
              "    <tr>\n",
              "      <th>97</th>\n",
              "      <td>97</td>\n",
              "      <td>0.787709</td>\n",
              "      <td>2025-10-13 20:12:28.066268</td>\n",
              "      <td>2025-10-13 20:12:28.086276</td>\n",
              "      <td>0 days 00:00:00.020008</td>\n",
              "      <td>NaN</td>\n",
              "      <td>0.100641</td>\n",
              "      <td>SVM</td>\n",
              "      <td>scale</td>\n",
              "      <td>linear</td>\n",
              "      <td>NaN</td>\n",
              "      <td>NaN</td>\n",
              "      <td>NaN</td>\n",
              "      <td>NaN</td>\n",
              "      <td>NaN</td>\n",
              "      <td>COMPLETE</td>\n",
              "    </tr>\n",
              "    <tr>\n",
              "      <th>98</th>\n",
              "      <td>98</td>\n",
              "      <td>0.785847</td>\n",
              "      <td>2025-10-13 20:12:28.086975</td>\n",
              "      <td>2025-10-13 20:12:28.111673</td>\n",
              "      <td>0 days 00:00:00.024698</td>\n",
              "      <td>NaN</td>\n",
              "      <td>1.830461</td>\n",
              "      <td>SVM</td>\n",
              "      <td>auto</td>\n",
              "      <td>linear</td>\n",
              "      <td>NaN</td>\n",
              "      <td>NaN</td>\n",
              "      <td>NaN</td>\n",
              "      <td>NaN</td>\n",
              "      <td>NaN</td>\n",
              "      <td>COMPLETE</td>\n",
              "    </tr>\n",
              "    <tr>\n",
              "      <th>99</th>\n",
              "      <td>99</td>\n",
              "      <td>0.774674</td>\n",
              "      <td>2025-10-13 20:12:28.112431</td>\n",
              "      <td>2025-10-13 20:12:28.774105</td>\n",
              "      <td>0 days 00:00:00.661674</td>\n",
              "      <td>False</td>\n",
              "      <td>NaN</td>\n",
              "      <td>RandomForest</td>\n",
              "      <td>NaN</td>\n",
              "      <td>NaN</td>\n",
              "      <td>NaN</td>\n",
              "      <td>7.0</td>\n",
              "      <td>4.0</td>\n",
              "      <td>3.0</td>\n",
              "      <td>200.0</td>\n",
              "      <td>COMPLETE</td>\n",
              "    </tr>\n",
              "  </tbody>\n",
              "</table>\n",
              "<p>100 rows × 16 columns</p>\n",
              "</div>\n",
              "    <div class=\"colab-df-buttons\">\n",
              "\n",
              "  <div class=\"colab-df-container\">\n",
              "    <button class=\"colab-df-convert\" onclick=\"convertToInteractive('df-f943a567-6ce5-45d1-918f-000009accb07')\"\n",
              "            title=\"Convert this dataframe to an interactive table.\"\n",
              "            style=\"display:none;\">\n",
              "\n",
              "  <svg xmlns=\"http://www.w3.org/2000/svg\" height=\"24px\" viewBox=\"0 -960 960 960\">\n",
              "    <path d=\"M120-120v-720h720v720H120Zm60-500h600v-160H180v160Zm220 220h160v-160H400v160Zm0 220h160v-160H400v160ZM180-400h160v-160H180v160Zm440 0h160v-160H620v160ZM180-180h160v-160H180v160Zm440 0h160v-160H620v160Z\"/>\n",
              "  </svg>\n",
              "    </button>\n",
              "\n",
              "  <style>\n",
              "    .colab-df-container {\n",
              "      display:flex;\n",
              "      gap: 12px;\n",
              "    }\n",
              "\n",
              "    .colab-df-convert {\n",
              "      background-color: #E8F0FE;\n",
              "      border: none;\n",
              "      border-radius: 50%;\n",
              "      cursor: pointer;\n",
              "      display: none;\n",
              "      fill: #1967D2;\n",
              "      height: 32px;\n",
              "      padding: 0 0 0 0;\n",
              "      width: 32px;\n",
              "    }\n",
              "\n",
              "    .colab-df-convert:hover {\n",
              "      background-color: #E2EBFA;\n",
              "      box-shadow: 0px 1px 2px rgba(60, 64, 67, 0.3), 0px 1px 3px 1px rgba(60, 64, 67, 0.15);\n",
              "      fill: #174EA6;\n",
              "    }\n",
              "\n",
              "    .colab-df-buttons div {\n",
              "      margin-bottom: 4px;\n",
              "    }\n",
              "\n",
              "    [theme=dark] .colab-df-convert {\n",
              "      background-color: #3B4455;\n",
              "      fill: #D2E3FC;\n",
              "    }\n",
              "\n",
              "    [theme=dark] .colab-df-convert:hover {\n",
              "      background-color: #434B5C;\n",
              "      box-shadow: 0px 1px 3px 1px rgba(0, 0, 0, 0.15);\n",
              "      filter: drop-shadow(0px 1px 2px rgba(0, 0, 0, 0.3));\n",
              "      fill: #FFFFFF;\n",
              "    }\n",
              "  </style>\n",
              "\n",
              "    <script>\n",
              "      const buttonEl =\n",
              "        document.querySelector('#df-f943a567-6ce5-45d1-918f-000009accb07 button.colab-df-convert');\n",
              "      buttonEl.style.display =\n",
              "        google.colab.kernel.accessAllowed ? 'block' : 'none';\n",
              "\n",
              "      async function convertToInteractive(key) {\n",
              "        const element = document.querySelector('#df-f943a567-6ce5-45d1-918f-000009accb07');\n",
              "        const dataTable =\n",
              "          await google.colab.kernel.invokeFunction('convertToInteractive',\n",
              "                                                    [key], {});\n",
              "        if (!dataTable) return;\n",
              "\n",
              "        const docLinkHtml = 'Like what you see? Visit the ' +\n",
              "          '<a target=\"_blank\" href=https://colab.research.google.com/notebooks/data_table.ipynb>data table notebook</a>'\n",
              "          + ' to learn more about interactive tables.';\n",
              "        element.innerHTML = '';\n",
              "        dataTable['output_type'] = 'display_data';\n",
              "        await google.colab.output.renderOutput(dataTable, element);\n",
              "        const docLink = document.createElement('div');\n",
              "        docLink.innerHTML = docLinkHtml;\n",
              "        element.appendChild(docLink);\n",
              "      }\n",
              "    </script>\n",
              "  </div>\n",
              "\n",
              "\n",
              "    <div id=\"df-b7b7530b-510f-421b-b332-16ef4b7718bf\">\n",
              "      <button class=\"colab-df-quickchart\" onclick=\"quickchart('df-b7b7530b-510f-421b-b332-16ef4b7718bf')\"\n",
              "                title=\"Suggest charts\"\n",
              "                style=\"display:none;\">\n",
              "\n",
              "<svg xmlns=\"http://www.w3.org/2000/svg\" height=\"24px\"viewBox=\"0 0 24 24\"\n",
              "     width=\"24px\">\n",
              "    <g>\n",
              "        <path d=\"M19 3H5c-1.1 0-2 .9-2 2v14c0 1.1.9 2 2 2h14c1.1 0 2-.9 2-2V5c0-1.1-.9-2-2-2zM9 17H7v-7h2v7zm4 0h-2V7h2v10zm4 0h-2v-4h2v4z\"/>\n",
              "    </g>\n",
              "</svg>\n",
              "      </button>\n",
              "\n",
              "<style>\n",
              "  .colab-df-quickchart {\n",
              "      --bg-color: #E8F0FE;\n",
              "      --fill-color: #1967D2;\n",
              "      --hover-bg-color: #E2EBFA;\n",
              "      --hover-fill-color: #174EA6;\n",
              "      --disabled-fill-color: #AAA;\n",
              "      --disabled-bg-color: #DDD;\n",
              "  }\n",
              "\n",
              "  [theme=dark] .colab-df-quickchart {\n",
              "      --bg-color: #3B4455;\n",
              "      --fill-color: #D2E3FC;\n",
              "      --hover-bg-color: #434B5C;\n",
              "      --hover-fill-color: #FFFFFF;\n",
              "      --disabled-bg-color: #3B4455;\n",
              "      --disabled-fill-color: #666;\n",
              "  }\n",
              "\n",
              "  .colab-df-quickchart {\n",
              "    background-color: var(--bg-color);\n",
              "    border: none;\n",
              "    border-radius: 50%;\n",
              "    cursor: pointer;\n",
              "    display: none;\n",
              "    fill: var(--fill-color);\n",
              "    height: 32px;\n",
              "    padding: 0;\n",
              "    width: 32px;\n",
              "  }\n",
              "\n",
              "  .colab-df-quickchart:hover {\n",
              "    background-color: var(--hover-bg-color);\n",
              "    box-shadow: 0 1px 2px rgba(60, 64, 67, 0.3), 0 1px 3px 1px rgba(60, 64, 67, 0.15);\n",
              "    fill: var(--button-hover-fill-color);\n",
              "  }\n",
              "\n",
              "  .colab-df-quickchart-complete:disabled,\n",
              "  .colab-df-quickchart-complete:disabled:hover {\n",
              "    background-color: var(--disabled-bg-color);\n",
              "    fill: var(--disabled-fill-color);\n",
              "    box-shadow: none;\n",
              "  }\n",
              "\n",
              "  .colab-df-spinner {\n",
              "    border: 2px solid var(--fill-color);\n",
              "    border-color: transparent;\n",
              "    border-bottom-color: var(--fill-color);\n",
              "    animation:\n",
              "      spin 1s steps(1) infinite;\n",
              "  }\n",
              "\n",
              "  @keyframes spin {\n",
              "    0% {\n",
              "      border-color: transparent;\n",
              "      border-bottom-color: var(--fill-color);\n",
              "      border-left-color: var(--fill-color);\n",
              "    }\n",
              "    20% {\n",
              "      border-color: transparent;\n",
              "      border-left-color: var(--fill-color);\n",
              "      border-top-color: var(--fill-color);\n",
              "    }\n",
              "    30% {\n",
              "      border-color: transparent;\n",
              "      border-left-color: var(--fill-color);\n",
              "      border-top-color: var(--fill-color);\n",
              "      border-right-color: var(--fill-color);\n",
              "    }\n",
              "    40% {\n",
              "      border-color: transparent;\n",
              "      border-right-color: var(--fill-color);\n",
              "      border-top-color: var(--fill-color);\n",
              "    }\n",
              "    60% {\n",
              "      border-color: transparent;\n",
              "      border-right-color: var(--fill-color);\n",
              "    }\n",
              "    80% {\n",
              "      border-color: transparent;\n",
              "      border-right-color: var(--fill-color);\n",
              "      border-bottom-color: var(--fill-color);\n",
              "    }\n",
              "    90% {\n",
              "      border-color: transparent;\n",
              "      border-bottom-color: var(--fill-color);\n",
              "    }\n",
              "  }\n",
              "</style>\n",
              "\n",
              "      <script>\n",
              "        async function quickchart(key) {\n",
              "          const quickchartButtonEl =\n",
              "            document.querySelector('#' + key + ' button');\n",
              "          quickchartButtonEl.disabled = true;  // To prevent multiple clicks.\n",
              "          quickchartButtonEl.classList.add('colab-df-spinner');\n",
              "          try {\n",
              "            const charts = await google.colab.kernel.invokeFunction(\n",
              "                'suggestCharts', [key], {});\n",
              "          } catch (error) {\n",
              "            console.error('Error during call to suggestCharts:', error);\n",
              "          }\n",
              "          quickchartButtonEl.classList.remove('colab-df-spinner');\n",
              "          quickchartButtonEl.classList.add('colab-df-quickchart-complete');\n",
              "        }\n",
              "        (() => {\n",
              "          let quickchartButtonEl =\n",
              "            document.querySelector('#df-b7b7530b-510f-421b-b332-16ef4b7718bf button');\n",
              "          quickchartButtonEl.style.display =\n",
              "            google.colab.kernel.accessAllowed ? 'block' : 'none';\n",
              "        })();\n",
              "      </script>\n",
              "    </div>\n",
              "\n",
              "    </div>\n",
              "  </div>\n"
            ],
            "application/vnd.google.colaboratory.intrinsic+json": {
              "type": "dataframe",
              "summary": "{\n  \"name\": \"study\",\n  \"rows\": 100,\n  \"fields\": [\n    {\n      \"column\": \"number\",\n      \"properties\": {\n        \"dtype\": \"number\",\n        \"std\": 29,\n        \"min\": 0,\n        \"max\": 99,\n        \"num_unique_values\": 100,\n        \"samples\": [\n          83,\n          53,\n          70\n        ],\n        \"semantic_type\": \"\",\n        \"description\": \"\"\n      }\n    },\n    {\n      \"column\": \"value\",\n      \"properties\": {\n        \"dtype\": \"number\",\n        \"std\": 0.02294176223206385,\n        \"min\": 0.7039106145251397,\n        \"max\": 0.7895716945996275,\n        \"num_unique_values\": 33,\n        \"samples\": [\n          0.7113594040968342,\n          0.7746741154562384,\n          0.750465549348231\n        ],\n        \"semantic_type\": \"\",\n        \"description\": \"\"\n      }\n    },\n    {\n      \"column\": \"datetime_start\",\n      \"properties\": {\n        \"dtype\": \"date\",\n        \"min\": \"2025-10-13 20:12:00.220463\",\n        \"max\": \"2025-10-13 20:12:28.112431\",\n        \"num_unique_values\": 100,\n        \"samples\": [\n          \"2025-10-13 20:12:25.875378\",\n          \"2025-10-13 20:12:21.398977\",\n          \"2025-10-13 20:12:24.512046\"\n        ],\n        \"semantic_type\": \"\",\n        \"description\": \"\"\n      }\n    },\n    {\n      \"column\": \"datetime_complete\",\n      \"properties\": {\n        \"dtype\": \"date\",\n        \"min\": \"2025-10-13 20:12:00.593737\",\n        \"max\": \"2025-10-13 20:12:28.774105\",\n        \"num_unique_values\": 100,\n        \"samples\": [\n          \"2025-10-13 20:12:25.895458\",\n          \"2025-10-13 20:12:21.427251\",\n          \"2025-10-13 20:12:24.534764\"\n        ],\n        \"semantic_type\": \"\",\n        \"description\": \"\"\n      }\n    },\n    {\n      \"column\": \"duration\",\n      \"properties\": {\n        \"dtype\": \"timedelta64[ns]\",\n        \"num_unique_values\": 100,\n        \"samples\": [\n          \"0 days 00:00:00.020080\",\n          \"0 days 00:00:00.028274\",\n          \"0 days 00:00:00.022718\"\n        ],\n        \"semantic_type\": \"\",\n        \"description\": \"\"\n      }\n    },\n    {\n      \"column\": \"params_bootstrap\",\n      \"properties\": {\n        \"dtype\": \"category\",\n        \"num_unique_values\": 2,\n        \"samples\": [\n          true,\n          false\n        ],\n        \"semantic_type\": \"\",\n        \"description\": \"\"\n      }\n    },\n    {\n      \"column\": \"params_c\",\n      \"properties\": {\n        \"dtype\": \"number\",\n        \"std\": 14.548578173529862,\n        \"min\": 0.10025186443918166,\n        \"max\": 95.0230084934986,\n        \"num_unique_values\": 78,\n        \"samples\": [\n          0.2483792598692651,\n          0.6197249590773304\n        ],\n        \"semantic_type\": \"\",\n        \"description\": \"\"\n      }\n    },\n    {\n      \"column\": \"params_classifier\",\n      \"properties\": {\n        \"dtype\": \"category\",\n        \"num_unique_values\": 3,\n        \"samples\": [\n          \"RandomForest\",\n          \"GradientBoosting\"\n        ],\n        \"semantic_type\": \"\",\n        \"description\": \"\"\n      }\n    },\n    {\n      \"column\": \"params_gamma\",\n      \"properties\": {\n        \"dtype\": \"category\",\n        \"num_unique_values\": 2,\n        \"samples\": [\n          \"auto\",\n          \"scale\"\n        ],\n        \"semantic_type\": \"\",\n        \"description\": \"\"\n      }\n    },\n    {\n      \"column\": \"params_kernal\",\n      \"properties\": {\n        \"dtype\": \"category\",\n        \"num_unique_values\": 4,\n        \"samples\": [\n          \"linear\",\n          \"poly\"\n        ],\n        \"semantic_type\": \"\",\n        \"description\": \"\"\n      }\n    },\n    {\n      \"column\": \"params_learning_rate\",\n      \"properties\": {\n        \"dtype\": \"number\",\n        \"std\": 0.07982385166969293,\n        \"min\": 0.010965922676229142,\n        \"max\": 0.24632594198788807,\n        \"num_unique_values\": 11,\n        \"samples\": [\n          0.011675578245880008,\n          0.03183705316754097\n        ],\n        \"semantic_type\": \"\",\n        \"description\": \"\"\n      }\n    },\n    {\n      \"column\": \"params_max_depth\",\n      \"properties\": {\n        \"dtype\": \"number\",\n        \"std\": 5.489265400036205,\n        \"min\": 3.0,\n        \"max\": 20.0,\n        \"num_unique_values\": 11,\n        \"samples\": [\n          20.0,\n          14.0\n        ],\n        \"semantic_type\": \"\",\n        \"description\": \"\"\n      }\n    },\n    {\n      \"column\": \"params_min_samples_leaf\",\n      \"properties\": {\n        \"dtype\": \"number\",\n        \"std\": 2.84102597162162,\n        \"min\": 1.0,\n        \"max\": 10.0,\n        \"num_unique_values\": 10,\n        \"samples\": [\n          3.0,\n          1.0\n        ],\n        \"semantic_type\": \"\",\n        \"description\": \"\"\n      }\n    },\n    {\n      \"column\": \"params_min_samples_split\",\n      \"properties\": {\n        \"dtype\": \"number\",\n        \"std\": 2.535035882666541,\n        \"min\": 2.0,\n        \"max\": 10.0,\n        \"num_unique_values\": 9,\n        \"samples\": [\n          8.0,\n          10.0\n        ],\n        \"semantic_type\": \"\",\n        \"description\": \"\"\n      }\n    },\n    {\n      \"column\": \"params_n_estimators\",\n      \"properties\": {\n        \"dtype\": \"number\",\n        \"std\": 77.6713020930586,\n        \"min\": 52.0,\n        \"max\": 300.0,\n        \"num_unique_values\": 22,\n        \"samples\": [\n          75.0,\n          107.0\n        ],\n        \"semantic_type\": \"\",\n        \"description\": \"\"\n      }\n    },\n    {\n      \"column\": \"state\",\n      \"properties\": {\n        \"dtype\": \"category\",\n        \"num_unique_values\": 1,\n        \"samples\": [\n          \"COMPLETE\"\n        ],\n        \"semantic_type\": \"\",\n        \"description\": \"\"\n      }\n    }\n  ]\n}"
            }
          },
          "metadata": {},
          "execution_count": 63
        }
      ]
    },
    {
      "cell_type": "code",
      "source": [
        "study.trials_dataframe()['params_classifier'].value_counts()"
      ],
      "metadata": {
        "colab": {
          "base_uri": "https://localhost:8080/",
          "height": 210
        },
        "id": "FGLl-hWFNtGu",
        "outputId": "450e4663-a76c-4a27-fd77-d14a120cbb75"
      },
      "execution_count": 64,
      "outputs": [
        {
          "output_type": "execute_result",
          "data": {
            "text/plain": [
              "params_classifier\n",
              "SVM                 78\n",
              "RandomForest        11\n",
              "GradientBoosting    11\n",
              "Name: count, dtype: int64"
            ],
            "text/html": [
              "<div>\n",
              "<style scoped>\n",
              "    .dataframe tbody tr th:only-of-type {\n",
              "        vertical-align: middle;\n",
              "    }\n",
              "\n",
              "    .dataframe tbody tr th {\n",
              "        vertical-align: top;\n",
              "    }\n",
              "\n",
              "    .dataframe thead th {\n",
              "        text-align: right;\n",
              "    }\n",
              "</style>\n",
              "<table border=\"1\" class=\"dataframe\">\n",
              "  <thead>\n",
              "    <tr style=\"text-align: right;\">\n",
              "      <th></th>\n",
              "      <th>count</th>\n",
              "    </tr>\n",
              "    <tr>\n",
              "      <th>params_classifier</th>\n",
              "      <th></th>\n",
              "    </tr>\n",
              "  </thead>\n",
              "  <tbody>\n",
              "    <tr>\n",
              "      <th>SVM</th>\n",
              "      <td>78</td>\n",
              "    </tr>\n",
              "    <tr>\n",
              "      <th>RandomForest</th>\n",
              "      <td>11</td>\n",
              "    </tr>\n",
              "    <tr>\n",
              "      <th>GradientBoosting</th>\n",
              "      <td>11</td>\n",
              "    </tr>\n",
              "  </tbody>\n",
              "</table>\n",
              "</div><br><label><b>dtype:</b> int64</label>"
            ]
          },
          "metadata": {},
          "execution_count": 64
        }
      ]
    },
    {
      "cell_type": "code",
      "source": [
        "study.trials_dataframe().groupby('params_classifier')['value'].mean()"
      ],
      "metadata": {
        "colab": {
          "base_uri": "https://localhost:8080/",
          "height": 210
        },
        "id": "DljQbM8kN8nd",
        "outputId": "6545760c-1a20-4dd0-d24d-3cbd894f55e0"
      },
      "execution_count": 66,
      "outputs": [
        {
          "output_type": "execute_result",
          "data": {
            "text/plain": [
              "params_classifier\n",
              "GradientBoosting    0.746403\n",
              "RandomForest        0.762147\n",
              "SVM                 0.776584\n",
              "Name: value, dtype: float64"
            ],
            "text/html": [
              "<div>\n",
              "<style scoped>\n",
              "    .dataframe tbody tr th:only-of-type {\n",
              "        vertical-align: middle;\n",
              "    }\n",
              "\n",
              "    .dataframe tbody tr th {\n",
              "        vertical-align: top;\n",
              "    }\n",
              "\n",
              "    .dataframe thead th {\n",
              "        text-align: right;\n",
              "    }\n",
              "</style>\n",
              "<table border=\"1\" class=\"dataframe\">\n",
              "  <thead>\n",
              "    <tr style=\"text-align: right;\">\n",
              "      <th></th>\n",
              "      <th>value</th>\n",
              "    </tr>\n",
              "    <tr>\n",
              "      <th>params_classifier</th>\n",
              "      <th></th>\n",
              "    </tr>\n",
              "  </thead>\n",
              "  <tbody>\n",
              "    <tr>\n",
              "      <th>GradientBoosting</th>\n",
              "      <td>0.746403</td>\n",
              "    </tr>\n",
              "    <tr>\n",
              "      <th>RandomForest</th>\n",
              "      <td>0.762147</td>\n",
              "    </tr>\n",
              "    <tr>\n",
              "      <th>SVM</th>\n",
              "      <td>0.776584</td>\n",
              "    </tr>\n",
              "  </tbody>\n",
              "</table>\n",
              "</div><br><label><b>dtype:</b> float64</label>"
            ]
          },
          "metadata": {},
          "execution_count": 66
        }
      ]
    },
    {
      "cell_type": "code",
      "source": [
        "# 1) Optimization History\n",
        "plot_optimization_history(study).show()"
      ],
      "metadata": {
        "colab": {
          "base_uri": "https://localhost:8080/",
          "height": 542
        },
        "id": "7CG9oG07Oa7P",
        "outputId": "3ea0109a-6951-40b6-b214-d6b995eb58bb"
      },
      "execution_count": 67,
      "outputs": [
        {
          "output_type": "display_data",
          "data": {
            "text/html": [
              "<html>\n",
              "<head><meta charset=\"utf-8\" /></head>\n",
              "<body>\n",
              "    <div>            <script src=\"https://cdnjs.cloudflare.com/ajax/libs/mathjax/2.7.5/MathJax.js?config=TeX-AMS-MML_SVG\"></script><script type=\"text/javascript\">if (window.MathJax && window.MathJax.Hub && window.MathJax.Hub.Config) {window.MathJax.Hub.Config({SVG: {font: \"STIX-Web\"}});}</script>                <script type=\"text/javascript\">window.PlotlyConfig = {MathJaxConfig: 'local'};</script>\n",
              "        <script charset=\"utf-8\" src=\"https://cdn.plot.ly/plotly-2.35.2.min.js\"></script>                <div id=\"a957d1fc-8e5a-48cd-b56d-b3e781813d44\" class=\"plotly-graph-div\" style=\"height:525px; width:100%;\"></div>            <script type=\"text/javascript\">                                    window.PLOTLYENV=window.PLOTLYENV || {};                                    if (document.getElementById(\"a957d1fc-8e5a-48cd-b56d-b3e781813d44\")) {                    Plotly.newPlot(                        \"a957d1fc-8e5a-48cd-b56d-b3e781813d44\",                        [{\"mode\":\"markers\",\"name\":\"Objective Value\",\"x\":[0,1,2,3,4,5,6,7,8,9,10,11,12,13,14,15,16,17,18,19,20,21,22,23,24,25,26,27,28,29,30,31,32,33,34,35,36,37,38,39,40,41,42,43,44,45,46,47,48,49,50,51,52,53,54,55,56,57,58,59,60,61,62,63,64,65,66,67,68,69,70,71,72,73,74,75,76,77,78,79,80,81,82,83,84,85,86,87,88,89,90,91,92,93,94,95,96,97,98,99],\"y\":[0.7635009310986964,0.7821229050279329,0.7430167597765364,0.7616387337057727,0.74487895716946,0.7858472998137803,0.7467411545623838,0.7448789571694601,0.7150837988826816,0.7597765363128491,0.7895716945996275,0.7895716945996275,0.7877094972067038,0.7858472998137801,0.7355679702048418,0.7877094972067038,0.7690875232774674,0.7858472998137801,0.7746741154562384,0.7579143389199254,0.7597765363128491,0.7877094972067038,0.7877094972067038,0.7858472998137803,0.7337057728119181,0.7858472998137803,0.7839851024208566,0.7858472998137801,0.7672253258845437,0.7635009310986964,0.74487895716946,0.7877094972067038,0.7877094972067038,0.7839851024208566,0.7895716945996275,0.7541899441340782,0.7523277467411545,0.7150837988826816,0.7653631284916201,0.7411545623836128,0.7858472998137801,0.7877094972067038,0.7895716945996275,0.7877094972067038,0.7821229050279329,0.7299813780260708,0.7728119180633147,0.7858472998137803,0.7858472998137803,0.750465549348231,0.74487895716946,0.7895716945996275,0.7858472998137803,0.7895716945996275,0.7858472998137801,0.7895716945996275,0.7039106145251397,0.7858472998137803,0.7560521415270017,0.7839851024208566,0.7765363128491621,0.7895716945996275,0.7895716945996275,0.7858472998137803,0.7895716945996275,0.7858472998137803,0.7094972067039106,0.7858472998137803,0.7541899441340782,0.7895716945996275,0.7858472998137803,0.7895716945996275,0.7877094972067038,0.7858472998137803,0.7858472998137803,0.7113594040968342,0.750465549348231,0.7858472998137803,0.7858472998137801,0.7895716945996275,0.7523277467411545,0.7895716945996275,0.7877094972067038,0.7877094972067038,0.7858472998137803,0.7635009310986964,0.7467411545623835,0.7895716945996275,0.7355679702048418,0.7895716945996275,0.7839851024208566,0.7895716945996275,0.7858472998137803,0.7895716945996275,0.7858472998137801,0.7094972067039106,0.7858472998137803,0.7877094972067038,0.7858472998137801,0.7746741154562384],\"type\":\"scatter\"},{\"mode\":\"lines\",\"name\":\"Best Value\",\"x\":[0,1,2,3,4,5,6,7,8,9,10,11,12,13,14,15,16,17,18,19,20,21,22,23,24,25,26,27,28,29,30,31,32,33,34,35,36,37,38,39,40,41,42,43,44,45,46,47,48,49,50,51,52,53,54,55,56,57,58,59,60,61,62,63,64,65,66,67,68,69,70,71,72,73,74,75,76,77,78,79,80,81,82,83,84,85,86,87,88,89,90,91,92,93,94,95,96,97,98,99],\"y\":[0.7635009310986964,0.7821229050279329,0.7821229050279329,0.7821229050279329,0.7821229050279329,0.7858472998137803,0.7858472998137803,0.7858472998137803,0.7858472998137803,0.7858472998137803,0.7895716945996275,0.7895716945996275,0.7895716945996275,0.7895716945996275,0.7895716945996275,0.7895716945996275,0.7895716945996275,0.7895716945996275,0.7895716945996275,0.7895716945996275,0.7895716945996275,0.7895716945996275,0.7895716945996275,0.7895716945996275,0.7895716945996275,0.7895716945996275,0.7895716945996275,0.7895716945996275,0.7895716945996275,0.7895716945996275,0.7895716945996275,0.7895716945996275,0.7895716945996275,0.7895716945996275,0.7895716945996275,0.7895716945996275,0.7895716945996275,0.7895716945996275,0.7895716945996275,0.7895716945996275,0.7895716945996275,0.7895716945996275,0.7895716945996275,0.7895716945996275,0.7895716945996275,0.7895716945996275,0.7895716945996275,0.7895716945996275,0.7895716945996275,0.7895716945996275,0.7895716945996275,0.7895716945996275,0.7895716945996275,0.7895716945996275,0.7895716945996275,0.7895716945996275,0.7895716945996275,0.7895716945996275,0.7895716945996275,0.7895716945996275,0.7895716945996275,0.7895716945996275,0.7895716945996275,0.7895716945996275,0.7895716945996275,0.7895716945996275,0.7895716945996275,0.7895716945996275,0.7895716945996275,0.7895716945996275,0.7895716945996275,0.7895716945996275,0.7895716945996275,0.7895716945996275,0.7895716945996275,0.7895716945996275,0.7895716945996275,0.7895716945996275,0.7895716945996275,0.7895716945996275,0.7895716945996275,0.7895716945996275,0.7895716945996275,0.7895716945996275,0.7895716945996275,0.7895716945996275,0.7895716945996275,0.7895716945996275,0.7895716945996275,0.7895716945996275,0.7895716945996275,0.7895716945996275,0.7895716945996275,0.7895716945996275,0.7895716945996275,0.7895716945996275,0.7895716945996275,0.7895716945996275,0.7895716945996275,0.7895716945996275],\"type\":\"scatter\"},{\"marker\":{\"color\":\"#cccccc\"},\"mode\":\"markers\",\"name\":\"Infeasible Trial\",\"showlegend\":false,\"x\":[],\"y\":[],\"type\":\"scatter\"}],                        {\"title\":{\"text\":\"Optimization History Plot\"},\"xaxis\":{\"title\":{\"text\":\"Trial\"}},\"yaxis\":{\"title\":{\"text\":\"Objective Value\"}},\"template\":{\"data\":{\"histogram2dcontour\":[{\"type\":\"histogram2dcontour\",\"colorbar\":{\"outlinewidth\":0,\"ticks\":\"\"},\"colorscale\":[[0.0,\"#0d0887\"],[0.1111111111111111,\"#46039f\"],[0.2222222222222222,\"#7201a8\"],[0.3333333333333333,\"#9c179e\"],[0.4444444444444444,\"#bd3786\"],[0.5555555555555556,\"#d8576b\"],[0.6666666666666666,\"#ed7953\"],[0.7777777777777778,\"#fb9f3a\"],[0.8888888888888888,\"#fdca26\"],[1.0,\"#f0f921\"]]}],\"choropleth\":[{\"type\":\"choropleth\",\"colorbar\":{\"outlinewidth\":0,\"ticks\":\"\"}}],\"histogram2d\":[{\"type\":\"histogram2d\",\"colorbar\":{\"outlinewidth\":0,\"ticks\":\"\"},\"colorscale\":[[0.0,\"#0d0887\"],[0.1111111111111111,\"#46039f\"],[0.2222222222222222,\"#7201a8\"],[0.3333333333333333,\"#9c179e\"],[0.4444444444444444,\"#bd3786\"],[0.5555555555555556,\"#d8576b\"],[0.6666666666666666,\"#ed7953\"],[0.7777777777777778,\"#fb9f3a\"],[0.8888888888888888,\"#fdca26\"],[1.0,\"#f0f921\"]]}],\"heatmap\":[{\"type\":\"heatmap\",\"colorbar\":{\"outlinewidth\":0,\"ticks\":\"\"},\"colorscale\":[[0.0,\"#0d0887\"],[0.1111111111111111,\"#46039f\"],[0.2222222222222222,\"#7201a8\"],[0.3333333333333333,\"#9c179e\"],[0.4444444444444444,\"#bd3786\"],[0.5555555555555556,\"#d8576b\"],[0.6666666666666666,\"#ed7953\"],[0.7777777777777778,\"#fb9f3a\"],[0.8888888888888888,\"#fdca26\"],[1.0,\"#f0f921\"]]}],\"heatmapgl\":[{\"type\":\"heatmapgl\",\"colorbar\":{\"outlinewidth\":0,\"ticks\":\"\"},\"colorscale\":[[0.0,\"#0d0887\"],[0.1111111111111111,\"#46039f\"],[0.2222222222222222,\"#7201a8\"],[0.3333333333333333,\"#9c179e\"],[0.4444444444444444,\"#bd3786\"],[0.5555555555555556,\"#d8576b\"],[0.6666666666666666,\"#ed7953\"],[0.7777777777777778,\"#fb9f3a\"],[0.8888888888888888,\"#fdca26\"],[1.0,\"#f0f921\"]]}],\"contourcarpet\":[{\"type\":\"contourcarpet\",\"colorbar\":{\"outlinewidth\":0,\"ticks\":\"\"}}],\"contour\":[{\"type\":\"contour\",\"colorbar\":{\"outlinewidth\":0,\"ticks\":\"\"},\"colorscale\":[[0.0,\"#0d0887\"],[0.1111111111111111,\"#46039f\"],[0.2222222222222222,\"#7201a8\"],[0.3333333333333333,\"#9c179e\"],[0.4444444444444444,\"#bd3786\"],[0.5555555555555556,\"#d8576b\"],[0.6666666666666666,\"#ed7953\"],[0.7777777777777778,\"#fb9f3a\"],[0.8888888888888888,\"#fdca26\"],[1.0,\"#f0f921\"]]}],\"surface\":[{\"type\":\"surface\",\"colorbar\":{\"outlinewidth\":0,\"ticks\":\"\"},\"colorscale\":[[0.0,\"#0d0887\"],[0.1111111111111111,\"#46039f\"],[0.2222222222222222,\"#7201a8\"],[0.3333333333333333,\"#9c179e\"],[0.4444444444444444,\"#bd3786\"],[0.5555555555555556,\"#d8576b\"],[0.6666666666666666,\"#ed7953\"],[0.7777777777777778,\"#fb9f3a\"],[0.8888888888888888,\"#fdca26\"],[1.0,\"#f0f921\"]]}],\"mesh3d\":[{\"type\":\"mesh3d\",\"colorbar\":{\"outlinewidth\":0,\"ticks\":\"\"}}],\"scatter\":[{\"fillpattern\":{\"fillmode\":\"overlay\",\"size\":10,\"solidity\":0.2},\"type\":\"scatter\"}],\"parcoords\":[{\"type\":\"parcoords\",\"line\":{\"colorbar\":{\"outlinewidth\":0,\"ticks\":\"\"}}}],\"scatterpolargl\":[{\"type\":\"scatterpolargl\",\"marker\":{\"colorbar\":{\"outlinewidth\":0,\"ticks\":\"\"}}}],\"bar\":[{\"error_x\":{\"color\":\"#2a3f5f\"},\"error_y\":{\"color\":\"#2a3f5f\"},\"marker\":{\"line\":{\"color\":\"#E5ECF6\",\"width\":0.5},\"pattern\":{\"fillmode\":\"overlay\",\"size\":10,\"solidity\":0.2}},\"type\":\"bar\"}],\"scattergeo\":[{\"type\":\"scattergeo\",\"marker\":{\"colorbar\":{\"outlinewidth\":0,\"ticks\":\"\"}}}],\"scatterpolar\":[{\"type\":\"scatterpolar\",\"marker\":{\"colorbar\":{\"outlinewidth\":0,\"ticks\":\"\"}}}],\"histogram\":[{\"marker\":{\"pattern\":{\"fillmode\":\"overlay\",\"size\":10,\"solidity\":0.2}},\"type\":\"histogram\"}],\"scattergl\":[{\"type\":\"scattergl\",\"marker\":{\"colorbar\":{\"outlinewidth\":0,\"ticks\":\"\"}}}],\"scatter3d\":[{\"type\":\"scatter3d\",\"line\":{\"colorbar\":{\"outlinewidth\":0,\"ticks\":\"\"}},\"marker\":{\"colorbar\":{\"outlinewidth\":0,\"ticks\":\"\"}}}],\"scattermapbox\":[{\"type\":\"scattermapbox\",\"marker\":{\"colorbar\":{\"outlinewidth\":0,\"ticks\":\"\"}}}],\"scatterternary\":[{\"type\":\"scatterternary\",\"marker\":{\"colorbar\":{\"outlinewidth\":0,\"ticks\":\"\"}}}],\"scattercarpet\":[{\"type\":\"scattercarpet\",\"marker\":{\"colorbar\":{\"outlinewidth\":0,\"ticks\":\"\"}}}],\"carpet\":[{\"aaxis\":{\"endlinecolor\":\"#2a3f5f\",\"gridcolor\":\"white\",\"linecolor\":\"white\",\"minorgridcolor\":\"white\",\"startlinecolor\":\"#2a3f5f\"},\"baxis\":{\"endlinecolor\":\"#2a3f5f\",\"gridcolor\":\"white\",\"linecolor\":\"white\",\"minorgridcolor\":\"white\",\"startlinecolor\":\"#2a3f5f\"},\"type\":\"carpet\"}],\"table\":[{\"cells\":{\"fill\":{\"color\":\"#EBF0F8\"},\"line\":{\"color\":\"white\"}},\"header\":{\"fill\":{\"color\":\"#C8D4E3\"},\"line\":{\"color\":\"white\"}},\"type\":\"table\"}],\"barpolar\":[{\"marker\":{\"line\":{\"color\":\"#E5ECF6\",\"width\":0.5},\"pattern\":{\"fillmode\":\"overlay\",\"size\":10,\"solidity\":0.2}},\"type\":\"barpolar\"}],\"pie\":[{\"automargin\":true,\"type\":\"pie\"}]},\"layout\":{\"autotypenumbers\":\"strict\",\"colorway\":[\"#636efa\",\"#EF553B\",\"#00cc96\",\"#ab63fa\",\"#FFA15A\",\"#19d3f3\",\"#FF6692\",\"#B6E880\",\"#FF97FF\",\"#FECB52\"],\"font\":{\"color\":\"#2a3f5f\"},\"hovermode\":\"closest\",\"hoverlabel\":{\"align\":\"left\"},\"paper_bgcolor\":\"white\",\"plot_bgcolor\":\"#E5ECF6\",\"polar\":{\"bgcolor\":\"#E5ECF6\",\"angularaxis\":{\"gridcolor\":\"white\",\"linecolor\":\"white\",\"ticks\":\"\"},\"radialaxis\":{\"gridcolor\":\"white\",\"linecolor\":\"white\",\"ticks\":\"\"}},\"ternary\":{\"bgcolor\":\"#E5ECF6\",\"aaxis\":{\"gridcolor\":\"white\",\"linecolor\":\"white\",\"ticks\":\"\"},\"baxis\":{\"gridcolor\":\"white\",\"linecolor\":\"white\",\"ticks\":\"\"},\"caxis\":{\"gridcolor\":\"white\",\"linecolor\":\"white\",\"ticks\":\"\"}},\"coloraxis\":{\"colorbar\":{\"outlinewidth\":0,\"ticks\":\"\"}},\"colorscale\":{\"sequential\":[[0.0,\"#0d0887\"],[0.1111111111111111,\"#46039f\"],[0.2222222222222222,\"#7201a8\"],[0.3333333333333333,\"#9c179e\"],[0.4444444444444444,\"#bd3786\"],[0.5555555555555556,\"#d8576b\"],[0.6666666666666666,\"#ed7953\"],[0.7777777777777778,\"#fb9f3a\"],[0.8888888888888888,\"#fdca26\"],[1.0,\"#f0f921\"]],\"sequentialminus\":[[0.0,\"#0d0887\"],[0.1111111111111111,\"#46039f\"],[0.2222222222222222,\"#7201a8\"],[0.3333333333333333,\"#9c179e\"],[0.4444444444444444,\"#bd3786\"],[0.5555555555555556,\"#d8576b\"],[0.6666666666666666,\"#ed7953\"],[0.7777777777777778,\"#fb9f3a\"],[0.8888888888888888,\"#fdca26\"],[1.0,\"#f0f921\"]],\"diverging\":[[0,\"#8e0152\"],[0.1,\"#c51b7d\"],[0.2,\"#de77ae\"],[0.3,\"#f1b6da\"],[0.4,\"#fde0ef\"],[0.5,\"#f7f7f7\"],[0.6,\"#e6f5d0\"],[0.7,\"#b8e186\"],[0.8,\"#7fbc41\"],[0.9,\"#4d9221\"],[1,\"#276419\"]]},\"xaxis\":{\"gridcolor\":\"white\",\"linecolor\":\"white\",\"ticks\":\"\",\"title\":{\"standoff\":15},\"zerolinecolor\":\"white\",\"automargin\":true,\"zerolinewidth\":2},\"yaxis\":{\"gridcolor\":\"white\",\"linecolor\":\"white\",\"ticks\":\"\",\"title\":{\"standoff\":15},\"zerolinecolor\":\"white\",\"automargin\":true,\"zerolinewidth\":2},\"scene\":{\"xaxis\":{\"backgroundcolor\":\"#E5ECF6\",\"gridcolor\":\"white\",\"linecolor\":\"white\",\"showbackground\":true,\"ticks\":\"\",\"zerolinecolor\":\"white\",\"gridwidth\":2},\"yaxis\":{\"backgroundcolor\":\"#E5ECF6\",\"gridcolor\":\"white\",\"linecolor\":\"white\",\"showbackground\":true,\"ticks\":\"\",\"zerolinecolor\":\"white\",\"gridwidth\":2},\"zaxis\":{\"backgroundcolor\":\"#E5ECF6\",\"gridcolor\":\"white\",\"linecolor\":\"white\",\"showbackground\":true,\"ticks\":\"\",\"zerolinecolor\":\"white\",\"gridwidth\":2}},\"shapedefaults\":{\"line\":{\"color\":\"#2a3f5f\"}},\"annotationdefaults\":{\"arrowcolor\":\"#2a3f5f\",\"arrowhead\":0,\"arrowwidth\":1},\"geo\":{\"bgcolor\":\"white\",\"landcolor\":\"#E5ECF6\",\"subunitcolor\":\"white\",\"showland\":true,\"showlakes\":true,\"lakecolor\":\"white\"},\"title\":{\"x\":0.05},\"mapbox\":{\"style\":\"light\"}}}},                        {\"responsive\": true}                    ).then(function(){\n",
              "                            \n",
              "var gd = document.getElementById('a957d1fc-8e5a-48cd-b56d-b3e781813d44');\n",
              "var x = new MutationObserver(function (mutations, observer) {{\n",
              "        var display = window.getComputedStyle(gd).display;\n",
              "        if (!display || display === 'none') {{\n",
              "            console.log([gd, 'removed!']);\n",
              "            Plotly.purge(gd);\n",
              "            observer.disconnect();\n",
              "        }}\n",
              "}});\n",
              "\n",
              "// Listen for the removal of the full notebook cells\n",
              "var notebookContainer = gd.closest('#notebook-container');\n",
              "if (notebookContainer) {{\n",
              "    x.observe(notebookContainer, {childList: true});\n",
              "}}\n",
              "\n",
              "// Listen for the clearing of the current output cell\n",
              "var outputEl = gd.closest('.output');\n",
              "if (outputEl) {{\n",
              "    x.observe(outputEl, {childList: true});\n",
              "}}\n",
              "\n",
              "                        })                };                            </script>        </div>\n",
              "</body>\n",
              "</html>"
            ]
          },
          "metadata": {}
        }
      ]
    },
    {
      "cell_type": "code",
      "source": [
        "# 3. Slice Plot\n",
        "plot_slice(study).show()"
      ],
      "metadata": {
        "colab": {
          "base_uri": "https://localhost:8080/",
          "height": 562
        },
        "id": "huTr_ZypOtA4",
        "outputId": "2fedbf32-76f6-45ec-b3db-709d6e51ee24"
      },
      "execution_count": 68,
      "outputs": [
        {
          "output_type": "display_data",
          "data": {
            "text/html": [
              "<html>\n",
              "<head><meta charset=\"utf-8\" /></head>\n",
              "<body>\n",
              "    <div>            <script src=\"https://cdnjs.cloudflare.com/ajax/libs/mathjax/2.7.5/MathJax.js?config=TeX-AMS-MML_SVG\"></script><script type=\"text/javascript\">if (window.MathJax && window.MathJax.Hub && window.MathJax.Hub.Config) {window.MathJax.Hub.Config({SVG: {font: \"STIX-Web\"}});}</script>                <script type=\"text/javascript\">window.PlotlyConfig = {MathJaxConfig: 'local'};</script>\n",
              "        <script charset=\"utf-8\" src=\"https://cdn.plot.ly/plotly-2.35.2.min.js\"></script>                <div id=\"e3978824-476c-49e2-a9eb-720086d19064\" class=\"plotly-graph-div\" style=\"height:525px; width:3000px;\"></div>            <script type=\"text/javascript\">                                    window.PLOTLYENV=window.PLOTLYENV || {};                                    if (document.getElementById(\"e3978824-476c-49e2-a9eb-720086d19064\")) {                    Plotly.newPlot(                        \"e3978824-476c-49e2-a9eb-720086d19064\",                        [{\"marker\":{\"color\":[0,1,16,20,28,30,38,58,68,86,99],\"colorbar\":{\"title\":{\"text\":\"Trial\"},\"x\":1.0,\"xpad\":40},\"colorscale\":[[0.0,\"rgb(247,251,255)\"],[0.125,\"rgb(222,235,247)\"],[0.25,\"rgb(198,219,239)\"],[0.375,\"rgb(158,202,225)\"],[0.5,\"rgb(107,174,214)\"],[0.625,\"rgb(66,146,198)\"],[0.75,\"rgb(33,113,181)\"],[0.875,\"rgb(8,81,156)\"],[1.0,\"rgb(8,48,107)\"]],\"line\":{\"color\":\"Grey\",\"width\":0.5},\"showscale\":true},\"mode\":\"markers\",\"name\":\"Feasible Trial\",\"showlegend\":false,\"x\":[false,false,true,true,true,false,false,true,true,false,false],\"y\":[0.7635009310986964,0.7821229050279329,0.7690875232774674,0.7597765363128491,0.7672253258845437,0.74487895716946,0.7653631284916201,0.7560521415270017,0.7541899441340782,0.7467411545623835,0.7746741154562384],\"type\":\"scatter\",\"xaxis\":\"x\",\"yaxis\":\"y\"},{\"marker\":{\"color\":[4,5,8,10,11,12,13,14,15,17,18,19,21,22,23,24,25,26,27,29,31,32,33,34,35,37,40,41,42,43,44,46,47,48,49,51,52,53,54,55,56,57,59,60,61,62,63,64,65,66,67,69,70,71,72,73,74,75,77,78,79,80,81,82,83,84,85,87,89,90,91,92,93,94,95,96,97,98],\"colorbar\":{\"title\":{\"text\":\"Trial\"},\"x\":1.0,\"xpad\":40},\"colorscale\":[[0.0,\"rgb(247,251,255)\"],[0.125,\"rgb(222,235,247)\"],[0.25,\"rgb(198,219,239)\"],[0.375,\"rgb(158,202,225)\"],[0.5,\"rgb(107,174,214)\"],[0.625,\"rgb(66,146,198)\"],[0.75,\"rgb(33,113,181)\"],[0.875,\"rgb(8,81,156)\"],[1.0,\"rgb(8,48,107)\"]],\"line\":{\"color\":\"Grey\",\"width\":0.5},\"showscale\":false},\"mode\":\"markers\",\"name\":\"Feasible Trial\",\"showlegend\":false,\"x\":[0.6197249590773304,0.22610059895460227,74.7974485527672,0.11680397079079038,0.12261780628931358,0.10444361784166703,2.980187243110673,0.6923761259243881,0.10997841491408986,18.683505153111057,0.9408672168174912,0.3229016633590786,0.10639568230311532,0.10402092873429372,0.3195383925493966,2.951751128908779,0.23423813661627527,1.239756639714599,7.720445665548657,0.1973836730138143,0.10210693025757565,0.17715626683280036,0.4970066655445563,0.13705077204442542,0.3664485569786593,0.1747669973866874,1.7213587194325695,0.1034484350890261,0.15365877185277185,0.17101007204109947,0.37476818211917967,0.16490958783289097,0.6142615389499732,0.2483792598692651,0.14982609162642763,0.13861085945687807,0.24158693030305328,0.14287521161369182,95.0230084934986,0.1434807560558551,26.218293908061582,0.2645264903991799,0.4296868648039071,0.13722344196327502,0.15071497879460102,0.13475839695881447,0.22123659416570118,0.13284059889235303,0.3157613811627024,0.10025186443918166,0.21740900943964808,0.1332116046315945,0.709262223403078,0.13397462000208243,0.170874436223101,0.2932721374466335,0.19330870981681195,0.1302596868657827,0.2085354109981572,5.921533608625238,0.11892196849654955,0.1594510130843287,0.1260483425410252,0.10061872924402769,0.1627213370141744,0.19808623737551734,0.28454657360060925,0.15004103203548874,0.120239367406632,0.4118670250628167,0.12769549715259088,0.1915712326597082,0.14592878789349972,40.30275032077265,0.1162756983809449,0.2553284969698189,0.10064137116381615,1.8304611298525593],\"y\":[0.74487895716946,0.7858472998137803,0.7150837988826816,0.7895716945996275,0.7895716945996275,0.7877094972067038,0.7858472998137801,0.7355679702048418,0.7877094972067038,0.7858472998137801,0.7746741154562384,0.7579143389199254,0.7877094972067038,0.7877094972067038,0.7858472998137803,0.7337057728119181,0.7858472998137803,0.7839851024208566,0.7858472998137801,0.7635009310986964,0.7877094972067038,0.7877094972067038,0.7839851024208566,0.7895716945996275,0.7541899441340782,0.7150837988826816,0.7858472998137801,0.7877094972067038,0.7895716945996275,0.7877094972067038,0.7821229050279329,0.7728119180633147,0.7858472998137803,0.7858472998137803,0.750465549348231,0.7895716945996275,0.7858472998137803,0.7895716945996275,0.7858472998137801,0.7895716945996275,0.7039106145251397,0.7858472998137803,0.7839851024208566,0.7765363128491621,0.7895716945996275,0.7895716945996275,0.7858472998137803,0.7895716945996275,0.7858472998137803,0.7094972067039106,0.7858472998137803,0.7895716945996275,0.7858472998137803,0.7895716945996275,0.7877094972067038,0.7858472998137803,0.7858472998137803,0.7113594040968342,0.7858472998137803,0.7858472998137801,0.7895716945996275,0.7523277467411545,0.7895716945996275,0.7877094972067038,0.7877094972067038,0.7858472998137803,0.7635009310986964,0.7895716945996275,0.7895716945996275,0.7839851024208566,0.7895716945996275,0.7858472998137803,0.7895716945996275,0.7858472998137801,0.7094972067039106,0.7858472998137803,0.7877094972067038,0.7858472998137801],\"type\":\"scatter\",\"xaxis\":\"x2\",\"yaxis\":\"y2\"},{\"marker\":{\"color\":[0,1,2,3,4,5,6,7,8,9,10,11,12,13,14,15,16,17,18,19,20,21,22,23,24,25,26,27,28,29,30,31,32,33,34,35,36,37,38,39,40,41,42,43,44,45,46,47,48,49,50,51,52,53,54,55,56,57,58,59,60,61,62,63,64,65,66,67,68,69,70,71,72,73,74,75,76,77,78,79,80,81,82,83,84,85,86,87,88,89,90,91,92,93,94,95,96,97,98,99],\"colorbar\":{\"title\":{\"text\":\"Trial\"},\"x\":1.0,\"xpad\":40},\"colorscale\":[[0.0,\"rgb(247,251,255)\"],[0.125,\"rgb(222,235,247)\"],[0.25,\"rgb(198,219,239)\"],[0.375,\"rgb(158,202,225)\"],[0.5,\"rgb(107,174,214)\"],[0.625,\"rgb(66,146,198)\"],[0.75,\"rgb(33,113,181)\"],[0.875,\"rgb(8,81,156)\"],[1.0,\"rgb(8,48,107)\"]],\"line\":{\"color\":\"Grey\",\"width\":0.5},\"showscale\":false},\"mode\":\"markers\",\"name\":\"Feasible Trial\",\"showlegend\":false,\"x\":[\"RandomForest\",\"RandomForest\",\"GradientBoosting\",\"GradientBoosting\",\"SVM\",\"SVM\",\"GradientBoosting\",\"GradientBoosting\",\"SVM\",\"GradientBoosting\",\"SVM\",\"SVM\",\"SVM\",\"SVM\",\"SVM\",\"SVM\",\"RandomForest\",\"SVM\",\"SVM\",\"SVM\",\"RandomForest\",\"SVM\",\"SVM\",\"SVM\",\"SVM\",\"SVM\",\"SVM\",\"SVM\",\"RandomForest\",\"SVM\",\"RandomForest\",\"SVM\",\"SVM\",\"SVM\",\"SVM\",\"SVM\",\"GradientBoosting\",\"SVM\",\"RandomForest\",\"GradientBoosting\",\"SVM\",\"SVM\",\"SVM\",\"SVM\",\"SVM\",\"GradientBoosting\",\"SVM\",\"SVM\",\"SVM\",\"SVM\",\"GradientBoosting\",\"SVM\",\"SVM\",\"SVM\",\"SVM\",\"SVM\",\"SVM\",\"SVM\",\"RandomForest\",\"SVM\",\"SVM\",\"SVM\",\"SVM\",\"SVM\",\"SVM\",\"SVM\",\"SVM\",\"SVM\",\"RandomForest\",\"SVM\",\"SVM\",\"SVM\",\"SVM\",\"SVM\",\"SVM\",\"SVM\",\"GradientBoosting\",\"SVM\",\"SVM\",\"SVM\",\"SVM\",\"SVM\",\"SVM\",\"SVM\",\"SVM\",\"SVM\",\"RandomForest\",\"SVM\",\"GradientBoosting\",\"SVM\",\"SVM\",\"SVM\",\"SVM\",\"SVM\",\"SVM\",\"SVM\",\"SVM\",\"SVM\",\"SVM\",\"RandomForest\"],\"y\":[0.7635009310986964,0.7821229050279329,0.7430167597765364,0.7616387337057727,0.74487895716946,0.7858472998137803,0.7467411545623838,0.7448789571694601,0.7150837988826816,0.7597765363128491,0.7895716945996275,0.7895716945996275,0.7877094972067038,0.7858472998137801,0.7355679702048418,0.7877094972067038,0.7690875232774674,0.7858472998137801,0.7746741154562384,0.7579143389199254,0.7597765363128491,0.7877094972067038,0.7877094972067038,0.7858472998137803,0.7337057728119181,0.7858472998137803,0.7839851024208566,0.7858472998137801,0.7672253258845437,0.7635009310986964,0.74487895716946,0.7877094972067038,0.7877094972067038,0.7839851024208566,0.7895716945996275,0.7541899441340782,0.7523277467411545,0.7150837988826816,0.7653631284916201,0.7411545623836128,0.7858472998137801,0.7877094972067038,0.7895716945996275,0.7877094972067038,0.7821229050279329,0.7299813780260708,0.7728119180633147,0.7858472998137803,0.7858472998137803,0.750465549348231,0.74487895716946,0.7895716945996275,0.7858472998137803,0.7895716945996275,0.7858472998137801,0.7895716945996275,0.7039106145251397,0.7858472998137803,0.7560521415270017,0.7839851024208566,0.7765363128491621,0.7895716945996275,0.7895716945996275,0.7858472998137803,0.7895716945996275,0.7858472998137803,0.7094972067039106,0.7858472998137803,0.7541899441340782,0.7895716945996275,0.7858472998137803,0.7895716945996275,0.7877094972067038,0.7858472998137803,0.7858472998137803,0.7113594040968342,0.750465549348231,0.7858472998137803,0.7858472998137801,0.7895716945996275,0.7523277467411545,0.7895716945996275,0.7877094972067038,0.7877094972067038,0.7858472998137803,0.7635009310986964,0.7467411545623835,0.7895716945996275,0.7355679702048418,0.7895716945996275,0.7839851024208566,0.7895716945996275,0.7858472998137803,0.7895716945996275,0.7858472998137801,0.7094972067039106,0.7858472998137803,0.7877094972067038,0.7858472998137801,0.7746741154562384],\"type\":\"scatter\",\"xaxis\":\"x3\",\"yaxis\":\"y3\"},{\"marker\":{\"color\":[4,5,8,10,11,12,13,14,15,17,18,19,21,22,23,24,25,26,27,29,31,32,33,34,35,37,40,41,42,43,44,46,47,48,49,51,52,53,54,55,56,57,59,60,61,62,63,64,65,66,67,69,70,71,72,73,74,75,77,78,79,80,81,82,83,84,85,87,89,90,91,92,93,94,95,96,97,98],\"colorbar\":{\"title\":{\"text\":\"Trial\"},\"x\":1.0,\"xpad\":40},\"colorscale\":[[0.0,\"rgb(247,251,255)\"],[0.125,\"rgb(222,235,247)\"],[0.25,\"rgb(198,219,239)\"],[0.375,\"rgb(158,202,225)\"],[0.5,\"rgb(107,174,214)\"],[0.625,\"rgb(66,146,198)\"],[0.75,\"rgb(33,113,181)\"],[0.875,\"rgb(8,81,156)\"],[1.0,\"rgb(8,48,107)\"]],\"line\":{\"color\":\"Grey\",\"width\":0.5},\"showscale\":false},\"mode\":\"markers\",\"name\":\"Feasible Trial\",\"showlegend\":false,\"x\":[\"scale\",\"auto\",\"auto\",\"auto\",\"auto\",\"auto\",\"auto\",\"auto\",\"scale\",\"auto\",\"auto\",\"scale\",\"auto\",\"auto\",\"auto\",\"auto\",\"auto\",\"auto\",\"scale\",\"auto\",\"scale\",\"scale\",\"scale\",\"scale\",\"auto\",\"scale\",\"auto\",\"scale\",\"scale\",\"scale\",\"scale\",\"scale\",\"scale\",\"auto\",\"auto\",\"scale\",\"scale\",\"scale\",\"scale\",\"scale\",\"scale\",\"scale\",\"scale\",\"scale\",\"scale\",\"scale\",\"scale\",\"scale\",\"scale\",\"scale\",\"auto\",\"scale\",\"auto\",\"scale\",\"scale\",\"scale\",\"scale\",\"scale\",\"auto\",\"scale\",\"auto\",\"scale\",\"scale\",\"scale\",\"scale\",\"scale\",\"auto\",\"scale\",\"scale\",\"auto\",\"scale\",\"scale\",\"scale\",\"scale\",\"scale\",\"scale\",\"scale\",\"auto\"],\"y\":[0.74487895716946,0.7858472998137803,0.7150837988826816,0.7895716945996275,0.7895716945996275,0.7877094972067038,0.7858472998137801,0.7355679702048418,0.7877094972067038,0.7858472998137801,0.7746741154562384,0.7579143389199254,0.7877094972067038,0.7877094972067038,0.7858472998137803,0.7337057728119181,0.7858472998137803,0.7839851024208566,0.7858472998137801,0.7635009310986964,0.7877094972067038,0.7877094972067038,0.7839851024208566,0.7895716945996275,0.7541899441340782,0.7150837988826816,0.7858472998137801,0.7877094972067038,0.7895716945996275,0.7877094972067038,0.7821229050279329,0.7728119180633147,0.7858472998137803,0.7858472998137803,0.750465549348231,0.7895716945996275,0.7858472998137803,0.7895716945996275,0.7858472998137801,0.7895716945996275,0.7039106145251397,0.7858472998137803,0.7839851024208566,0.7765363128491621,0.7895716945996275,0.7895716945996275,0.7858472998137803,0.7895716945996275,0.7858472998137803,0.7094972067039106,0.7858472998137803,0.7895716945996275,0.7858472998137803,0.7895716945996275,0.7877094972067038,0.7858472998137803,0.7858472998137803,0.7113594040968342,0.7858472998137803,0.7858472998137801,0.7895716945996275,0.7523277467411545,0.7895716945996275,0.7877094972067038,0.7877094972067038,0.7858472998137803,0.7635009310986964,0.7895716945996275,0.7895716945996275,0.7839851024208566,0.7895716945996275,0.7858472998137803,0.7895716945996275,0.7858472998137801,0.7094972067039106,0.7858472998137803,0.7877094972067038,0.7858472998137801],\"type\":\"scatter\",\"xaxis\":\"x4\",\"yaxis\":\"y4\"},{\"marker\":{\"color\":[4,5,8,10,11,12,13,14,15,17,18,19,21,22,23,24,25,26,27,29,31,32,33,34,35,37,40,41,42,43,44,46,47,48,49,51,52,53,54,55,56,57,59,60,61,62,63,64,65,66,67,69,70,71,72,73,74,75,77,78,79,80,81,82,83,84,85,87,89,90,91,92,93,94,95,96,97,98],\"colorbar\":{\"title\":{\"text\":\"Trial\"},\"x\":1.0,\"xpad\":40},\"colorscale\":[[0.0,\"rgb(247,251,255)\"],[0.125,\"rgb(222,235,247)\"],[0.25,\"rgb(198,219,239)\"],[0.375,\"rgb(158,202,225)\"],[0.5,\"rgb(107,174,214)\"],[0.625,\"rgb(66,146,198)\"],[0.75,\"rgb(33,113,181)\"],[0.875,\"rgb(8,81,156)\"],[1.0,\"rgb(8,48,107)\"]],\"line\":{\"color\":\"Grey\",\"width\":0.5},\"showscale\":false},\"mode\":\"markers\",\"name\":\"Feasible Trial\",\"showlegend\":false,\"x\":[\"sigmoid\",\"linear\",\"rbf\",\"linear\",\"linear\",\"linear\",\"linear\",\"poly\",\"linear\",\"linear\",\"rbf\",\"sigmoid\",\"linear\",\"linear\",\"linear\",\"poly\",\"linear\",\"linear\",\"linear\",\"rbf\",\"linear\",\"linear\",\"linear\",\"linear\",\"sigmoid\",\"poly\",\"linear\",\"linear\",\"linear\",\"linear\",\"linear\",\"sigmoid\",\"linear\",\"linear\",\"rbf\",\"linear\",\"linear\",\"linear\",\"linear\",\"linear\",\"poly\",\"linear\",\"linear\",\"sigmoid\",\"linear\",\"linear\",\"linear\",\"linear\",\"linear\",\"rbf\",\"linear\",\"linear\",\"linear\",\"linear\",\"linear\",\"linear\",\"linear\",\"poly\",\"linear\",\"linear\",\"linear\",\"rbf\",\"linear\",\"linear\",\"linear\",\"linear\",\"sigmoid\",\"linear\",\"linear\",\"linear\",\"linear\",\"linear\",\"linear\",\"linear\",\"poly\",\"linear\",\"linear\",\"linear\"],\"y\":[0.74487895716946,0.7858472998137803,0.7150837988826816,0.7895716945996275,0.7895716945996275,0.7877094972067038,0.7858472998137801,0.7355679702048418,0.7877094972067038,0.7858472998137801,0.7746741154562384,0.7579143389199254,0.7877094972067038,0.7877094972067038,0.7858472998137803,0.7337057728119181,0.7858472998137803,0.7839851024208566,0.7858472998137801,0.7635009310986964,0.7877094972067038,0.7877094972067038,0.7839851024208566,0.7895716945996275,0.7541899441340782,0.7150837988826816,0.7858472998137801,0.7877094972067038,0.7895716945996275,0.7877094972067038,0.7821229050279329,0.7728119180633147,0.7858472998137803,0.7858472998137803,0.750465549348231,0.7895716945996275,0.7858472998137803,0.7895716945996275,0.7858472998137801,0.7895716945996275,0.7039106145251397,0.7858472998137803,0.7839851024208566,0.7765363128491621,0.7895716945996275,0.7895716945996275,0.7858472998137803,0.7895716945996275,0.7858472998137803,0.7094972067039106,0.7858472998137803,0.7895716945996275,0.7858472998137803,0.7895716945996275,0.7877094972067038,0.7858472998137803,0.7858472998137803,0.7113594040968342,0.7858472998137803,0.7858472998137801,0.7895716945996275,0.7523277467411545,0.7895716945996275,0.7877094972067038,0.7877094972067038,0.7858472998137803,0.7635009310986964,0.7895716945996275,0.7895716945996275,0.7839851024208566,0.7895716945996275,0.7858472998137803,0.7895716945996275,0.7858472998137801,0.7094972067039106,0.7858472998137803,0.7877094972067038,0.7858472998137801],\"type\":\"scatter\",\"xaxis\":\"x5\",\"yaxis\":\"y5\"},{\"marker\":{\"color\":[2,3,6,7,9,36,39,45,50,76,88],\"colorbar\":{\"title\":{\"text\":\"Trial\"},\"x\":1.0,\"xpad\":40},\"colorscale\":[[0.0,\"rgb(247,251,255)\"],[0.125,\"rgb(222,235,247)\"],[0.25,\"rgb(198,219,239)\"],[0.375,\"rgb(158,202,225)\"],[0.5,\"rgb(107,174,214)\"],[0.625,\"rgb(66,146,198)\"],[0.75,\"rgb(33,113,181)\"],[0.875,\"rgb(8,81,156)\"],[1.0,\"rgb(8,48,107)\"]],\"line\":{\"color\":\"Grey\",\"width\":0.5},\"showscale\":false},\"mode\":\"markers\",\"name\":\"Feasible Trial\",\"showlegend\":false,\"x\":[0.03183705316754097,0.06266559643691832,0.06819211012021323,0.06089250705143068,0.21267174020162352,0.011675578245880008,0.24632594198788807,0.010965922676229142,0.025171193076339336,0.12979520810778755,0.11512852936639491],\"y\":[0.7430167597765364,0.7616387337057727,0.7467411545623838,0.7448789571694601,0.7597765363128491,0.7523277467411545,0.7411545623836128,0.7299813780260708,0.74487895716946,0.750465549348231,0.7355679702048418],\"type\":\"scatter\",\"xaxis\":\"x6\",\"yaxis\":\"y6\"},{\"marker\":{\"color\":[0,1,2,3,6,7,9,16,20,28,30,36,38,39,45,50,58,68,76,86,88,99],\"colorbar\":{\"title\":{\"text\":\"Trial\"},\"x\":1.0,\"xpad\":40},\"colorscale\":[[0.0,\"rgb(247,251,255)\"],[0.125,\"rgb(222,235,247)\"],[0.25,\"rgb(198,219,239)\"],[0.375,\"rgb(158,202,225)\"],[0.5,\"rgb(107,174,214)\"],[0.625,\"rgb(66,146,198)\"],[0.75,\"rgb(33,113,181)\"],[0.875,\"rgb(8,81,156)\"],[1.0,\"rgb(8,48,107)\"]],\"line\":{\"color\":\"Grey\",\"width\":0.5},\"showscale\":false},\"mode\":\"markers\",\"name\":\"Feasible Trial\",\"showlegend\":false,\"x\":[14,5,16,18,11,11,5,20,9,8,3,16,14,20,8,13,5,18,9,3,16,7],\"y\":[0.7635009310986964,0.7821229050279329,0.7430167597765364,0.7616387337057727,0.7467411545623838,0.7448789571694601,0.7597765363128491,0.7690875232774674,0.7597765363128491,0.7672253258845437,0.74487895716946,0.7523277467411545,0.7653631284916201,0.7411545623836128,0.7299813780260708,0.74487895716946,0.7560521415270017,0.7541899441340782,0.750465549348231,0.7467411545623835,0.7355679702048418,0.7746741154562384],\"type\":\"scatter\",\"xaxis\":\"x7\",\"yaxis\":\"y7\"},{\"marker\":{\"color\":[0,1,2,3,6,7,9,16,20,28,30,36,38,39,45,50,58,68,76,86,88,99],\"colorbar\":{\"title\":{\"text\":\"Trial\"},\"x\":1.0,\"xpad\":40},\"colorscale\":[[0.0,\"rgb(247,251,255)\"],[0.125,\"rgb(222,235,247)\"],[0.25,\"rgb(198,219,239)\"],[0.375,\"rgb(158,202,225)\"],[0.5,\"rgb(107,174,214)\"],[0.625,\"rgb(66,146,198)\"],[0.75,\"rgb(33,113,181)\"],[0.875,\"rgb(8,81,156)\"],[1.0,\"rgb(8,48,107)\"]],\"line\":{\"color\":\"Grey\",\"width\":0.5},\"showscale\":false},\"mode\":\"markers\",\"name\":\"Feasible Trial\",\"showlegend\":false,\"x\":[2,1,7,8,4,9,1,5,10,3,6,10,5,7,3,8,4,6,2,9,7,4],\"y\":[0.7635009310986964,0.7821229050279329,0.7430167597765364,0.7616387337057727,0.7467411545623838,0.7448789571694601,0.7597765363128491,0.7690875232774674,0.7597765363128491,0.7672253258845437,0.74487895716946,0.7523277467411545,0.7653631284916201,0.7411545623836128,0.7299813780260708,0.74487895716946,0.7560521415270017,0.7541899441340782,0.750465549348231,0.7467411545623835,0.7355679702048418,0.7746741154562384],\"type\":\"scatter\",\"xaxis\":\"x8\",\"yaxis\":\"y8\"},{\"marker\":{\"color\":[0,1,2,3,6,7,9,16,20,28,30,36,38,39,45,50,58,68,76,86,88,99],\"colorbar\":{\"title\":{\"text\":\"Trial\"},\"x\":1.0,\"xpad\":40},\"colorscale\":[[0.0,\"rgb(247,251,255)\"],[0.125,\"rgb(222,235,247)\"],[0.25,\"rgb(198,219,239)\"],[0.375,\"rgb(158,202,225)\"],[0.5,\"rgb(107,174,214)\"],[0.625,\"rgb(66,146,198)\"],[0.75,\"rgb(33,113,181)\"],[0.875,\"rgb(8,81,156)\"],[1.0,\"rgb(8,48,107)\"]],\"line\":{\"color\":\"Grey\",\"width\":0.5},\"showscale\":false},\"mode\":\"markers\",\"name\":\"Feasible Trial\",\"showlegend\":false,\"x\":[6,10,7,5,6,4,5,2,9,2,8,3,10,8,3,8,4,7,9,5,7,3],\"y\":[0.7635009310986964,0.7821229050279329,0.7430167597765364,0.7616387337057727,0.7467411545623838,0.7448789571694601,0.7597765363128491,0.7690875232774674,0.7597765363128491,0.7672253258845437,0.74487895716946,0.7523277467411545,0.7653631284916201,0.7411545623836128,0.7299813780260708,0.74487895716946,0.7560521415270017,0.7541899441340782,0.750465549348231,0.7467411545623835,0.7355679702048418,0.7746741154562384],\"type\":\"scatter\",\"xaxis\":\"x9\",\"yaxis\":\"y9\"},{\"marker\":{\"color\":[0,1,2,3,6,7,9,16,20,28,30,36,38,39,45,50,58,68,76,86,88,99],\"colorbar\":{\"title\":{\"text\":\"Trial\"},\"x\":1.0,\"xpad\":40},\"colorscale\":[[0.0,\"rgb(247,251,255)\"],[0.125,\"rgb(222,235,247)\"],[0.25,\"rgb(198,219,239)\"],[0.375,\"rgb(158,202,225)\"],[0.5,\"rgb(107,174,214)\"],[0.625,\"rgb(66,146,198)\"],[0.75,\"rgb(33,113,181)\"],[0.875,\"rgb(8,81,156)\"],[1.0,\"rgb(8,48,107)\"]],\"line\":{\"color\":\"Grey\",\"width\":0.5},\"showscale\":false},\"mode\":\"markers\",\"name\":\"Feasible Trial\",\"showlegend\":false,\"x\":[75,277,214,132,191,147,79,297,239,125,52,250,171,107,172,215,253,300,91,55,152,200],\"y\":[0.7635009310986964,0.7821229050279329,0.7430167597765364,0.7616387337057727,0.7467411545623838,0.7448789571694601,0.7597765363128491,0.7690875232774674,0.7597765363128491,0.7672253258845437,0.74487895716946,0.7523277467411545,0.7653631284916201,0.7411545623836128,0.7299813780260708,0.74487895716946,0.7560521415270017,0.7541899441340782,0.750465549348231,0.7467411545623835,0.7355679702048418,0.7746741154562384],\"type\":\"scatter\",\"xaxis\":\"x10\",\"yaxis\":\"y10\"}],                        {\"template\":{\"data\":{\"histogram2dcontour\":[{\"type\":\"histogram2dcontour\",\"colorbar\":{\"outlinewidth\":0,\"ticks\":\"\"},\"colorscale\":[[0.0,\"#0d0887\"],[0.1111111111111111,\"#46039f\"],[0.2222222222222222,\"#7201a8\"],[0.3333333333333333,\"#9c179e\"],[0.4444444444444444,\"#bd3786\"],[0.5555555555555556,\"#d8576b\"],[0.6666666666666666,\"#ed7953\"],[0.7777777777777778,\"#fb9f3a\"],[0.8888888888888888,\"#fdca26\"],[1.0,\"#f0f921\"]]}],\"choropleth\":[{\"type\":\"choropleth\",\"colorbar\":{\"outlinewidth\":0,\"ticks\":\"\"}}],\"histogram2d\":[{\"type\":\"histogram2d\",\"colorbar\":{\"outlinewidth\":0,\"ticks\":\"\"},\"colorscale\":[[0.0,\"#0d0887\"],[0.1111111111111111,\"#46039f\"],[0.2222222222222222,\"#7201a8\"],[0.3333333333333333,\"#9c179e\"],[0.4444444444444444,\"#bd3786\"],[0.5555555555555556,\"#d8576b\"],[0.6666666666666666,\"#ed7953\"],[0.7777777777777778,\"#fb9f3a\"],[0.8888888888888888,\"#fdca26\"],[1.0,\"#f0f921\"]]}],\"heatmap\":[{\"type\":\"heatmap\",\"colorbar\":{\"outlinewidth\":0,\"ticks\":\"\"},\"colorscale\":[[0.0,\"#0d0887\"],[0.1111111111111111,\"#46039f\"],[0.2222222222222222,\"#7201a8\"],[0.3333333333333333,\"#9c179e\"],[0.4444444444444444,\"#bd3786\"],[0.5555555555555556,\"#d8576b\"],[0.6666666666666666,\"#ed7953\"],[0.7777777777777778,\"#fb9f3a\"],[0.8888888888888888,\"#fdca26\"],[1.0,\"#f0f921\"]]}],\"heatmapgl\":[{\"type\":\"heatmapgl\",\"colorbar\":{\"outlinewidth\":0,\"ticks\":\"\"},\"colorscale\":[[0.0,\"#0d0887\"],[0.1111111111111111,\"#46039f\"],[0.2222222222222222,\"#7201a8\"],[0.3333333333333333,\"#9c179e\"],[0.4444444444444444,\"#bd3786\"],[0.5555555555555556,\"#d8576b\"],[0.6666666666666666,\"#ed7953\"],[0.7777777777777778,\"#fb9f3a\"],[0.8888888888888888,\"#fdca26\"],[1.0,\"#f0f921\"]]}],\"contourcarpet\":[{\"type\":\"contourcarpet\",\"colorbar\":{\"outlinewidth\":0,\"ticks\":\"\"}}],\"contour\":[{\"type\":\"contour\",\"colorbar\":{\"outlinewidth\":0,\"ticks\":\"\"},\"colorscale\":[[0.0,\"#0d0887\"],[0.1111111111111111,\"#46039f\"],[0.2222222222222222,\"#7201a8\"],[0.3333333333333333,\"#9c179e\"],[0.4444444444444444,\"#bd3786\"],[0.5555555555555556,\"#d8576b\"],[0.6666666666666666,\"#ed7953\"],[0.7777777777777778,\"#fb9f3a\"],[0.8888888888888888,\"#fdca26\"],[1.0,\"#f0f921\"]]}],\"surface\":[{\"type\":\"surface\",\"colorbar\":{\"outlinewidth\":0,\"ticks\":\"\"},\"colorscale\":[[0.0,\"#0d0887\"],[0.1111111111111111,\"#46039f\"],[0.2222222222222222,\"#7201a8\"],[0.3333333333333333,\"#9c179e\"],[0.4444444444444444,\"#bd3786\"],[0.5555555555555556,\"#d8576b\"],[0.6666666666666666,\"#ed7953\"],[0.7777777777777778,\"#fb9f3a\"],[0.8888888888888888,\"#fdca26\"],[1.0,\"#f0f921\"]]}],\"mesh3d\":[{\"type\":\"mesh3d\",\"colorbar\":{\"outlinewidth\":0,\"ticks\":\"\"}}],\"scatter\":[{\"fillpattern\":{\"fillmode\":\"overlay\",\"size\":10,\"solidity\":0.2},\"type\":\"scatter\"}],\"parcoords\":[{\"type\":\"parcoords\",\"line\":{\"colorbar\":{\"outlinewidth\":0,\"ticks\":\"\"}}}],\"scatterpolargl\":[{\"type\":\"scatterpolargl\",\"marker\":{\"colorbar\":{\"outlinewidth\":0,\"ticks\":\"\"}}}],\"bar\":[{\"error_x\":{\"color\":\"#2a3f5f\"},\"error_y\":{\"color\":\"#2a3f5f\"},\"marker\":{\"line\":{\"color\":\"#E5ECF6\",\"width\":0.5},\"pattern\":{\"fillmode\":\"overlay\",\"size\":10,\"solidity\":0.2}},\"type\":\"bar\"}],\"scattergeo\":[{\"type\":\"scattergeo\",\"marker\":{\"colorbar\":{\"outlinewidth\":0,\"ticks\":\"\"}}}],\"scatterpolar\":[{\"type\":\"scatterpolar\",\"marker\":{\"colorbar\":{\"outlinewidth\":0,\"ticks\":\"\"}}}],\"histogram\":[{\"marker\":{\"pattern\":{\"fillmode\":\"overlay\",\"size\":10,\"solidity\":0.2}},\"type\":\"histogram\"}],\"scattergl\":[{\"type\":\"scattergl\",\"marker\":{\"colorbar\":{\"outlinewidth\":0,\"ticks\":\"\"}}}],\"scatter3d\":[{\"type\":\"scatter3d\",\"line\":{\"colorbar\":{\"outlinewidth\":0,\"ticks\":\"\"}},\"marker\":{\"colorbar\":{\"outlinewidth\":0,\"ticks\":\"\"}}}],\"scattermapbox\":[{\"type\":\"scattermapbox\",\"marker\":{\"colorbar\":{\"outlinewidth\":0,\"ticks\":\"\"}}}],\"scatterternary\":[{\"type\":\"scatterternary\",\"marker\":{\"colorbar\":{\"outlinewidth\":0,\"ticks\":\"\"}}}],\"scattercarpet\":[{\"type\":\"scattercarpet\",\"marker\":{\"colorbar\":{\"outlinewidth\":0,\"ticks\":\"\"}}}],\"carpet\":[{\"aaxis\":{\"endlinecolor\":\"#2a3f5f\",\"gridcolor\":\"white\",\"linecolor\":\"white\",\"minorgridcolor\":\"white\",\"startlinecolor\":\"#2a3f5f\"},\"baxis\":{\"endlinecolor\":\"#2a3f5f\",\"gridcolor\":\"white\",\"linecolor\":\"white\",\"minorgridcolor\":\"white\",\"startlinecolor\":\"#2a3f5f\"},\"type\":\"carpet\"}],\"table\":[{\"cells\":{\"fill\":{\"color\":\"#EBF0F8\"},\"line\":{\"color\":\"white\"}},\"header\":{\"fill\":{\"color\":\"#C8D4E3\"},\"line\":{\"color\":\"white\"}},\"type\":\"table\"}],\"barpolar\":[{\"marker\":{\"line\":{\"color\":\"#E5ECF6\",\"width\":0.5},\"pattern\":{\"fillmode\":\"overlay\",\"size\":10,\"solidity\":0.2}},\"type\":\"barpolar\"}],\"pie\":[{\"automargin\":true,\"type\":\"pie\"}]},\"layout\":{\"autotypenumbers\":\"strict\",\"colorway\":[\"#636efa\",\"#EF553B\",\"#00cc96\",\"#ab63fa\",\"#FFA15A\",\"#19d3f3\",\"#FF6692\",\"#B6E880\",\"#FF97FF\",\"#FECB52\"],\"font\":{\"color\":\"#2a3f5f\"},\"hovermode\":\"closest\",\"hoverlabel\":{\"align\":\"left\"},\"paper_bgcolor\":\"white\",\"plot_bgcolor\":\"#E5ECF6\",\"polar\":{\"bgcolor\":\"#E5ECF6\",\"angularaxis\":{\"gridcolor\":\"white\",\"linecolor\":\"white\",\"ticks\":\"\"},\"radialaxis\":{\"gridcolor\":\"white\",\"linecolor\":\"white\",\"ticks\":\"\"}},\"ternary\":{\"bgcolor\":\"#E5ECF6\",\"aaxis\":{\"gridcolor\":\"white\",\"linecolor\":\"white\",\"ticks\":\"\"},\"baxis\":{\"gridcolor\":\"white\",\"linecolor\":\"white\",\"ticks\":\"\"},\"caxis\":{\"gridcolor\":\"white\",\"linecolor\":\"white\",\"ticks\":\"\"}},\"coloraxis\":{\"colorbar\":{\"outlinewidth\":0,\"ticks\":\"\"}},\"colorscale\":{\"sequential\":[[0.0,\"#0d0887\"],[0.1111111111111111,\"#46039f\"],[0.2222222222222222,\"#7201a8\"],[0.3333333333333333,\"#9c179e\"],[0.4444444444444444,\"#bd3786\"],[0.5555555555555556,\"#d8576b\"],[0.6666666666666666,\"#ed7953\"],[0.7777777777777778,\"#fb9f3a\"],[0.8888888888888888,\"#fdca26\"],[1.0,\"#f0f921\"]],\"sequentialminus\":[[0.0,\"#0d0887\"],[0.1111111111111111,\"#46039f\"],[0.2222222222222222,\"#7201a8\"],[0.3333333333333333,\"#9c179e\"],[0.4444444444444444,\"#bd3786\"],[0.5555555555555556,\"#d8576b\"],[0.6666666666666666,\"#ed7953\"],[0.7777777777777778,\"#fb9f3a\"],[0.8888888888888888,\"#fdca26\"],[1.0,\"#f0f921\"]],\"diverging\":[[0,\"#8e0152\"],[0.1,\"#c51b7d\"],[0.2,\"#de77ae\"],[0.3,\"#f1b6da\"],[0.4,\"#fde0ef\"],[0.5,\"#f7f7f7\"],[0.6,\"#e6f5d0\"],[0.7,\"#b8e186\"],[0.8,\"#7fbc41\"],[0.9,\"#4d9221\"],[1,\"#276419\"]]},\"xaxis\":{\"gridcolor\":\"white\",\"linecolor\":\"white\",\"ticks\":\"\",\"title\":{\"standoff\":15},\"zerolinecolor\":\"white\",\"automargin\":true,\"zerolinewidth\":2},\"yaxis\":{\"gridcolor\":\"white\",\"linecolor\":\"white\",\"ticks\":\"\",\"title\":{\"standoff\":15},\"zerolinecolor\":\"white\",\"automargin\":true,\"zerolinewidth\":2},\"scene\":{\"xaxis\":{\"backgroundcolor\":\"#E5ECF6\",\"gridcolor\":\"white\",\"linecolor\":\"white\",\"showbackground\":true,\"ticks\":\"\",\"zerolinecolor\":\"white\",\"gridwidth\":2},\"yaxis\":{\"backgroundcolor\":\"#E5ECF6\",\"gridcolor\":\"white\",\"linecolor\":\"white\",\"showbackground\":true,\"ticks\":\"\",\"zerolinecolor\":\"white\",\"gridwidth\":2},\"zaxis\":{\"backgroundcolor\":\"#E5ECF6\",\"gridcolor\":\"white\",\"linecolor\":\"white\",\"showbackground\":true,\"ticks\":\"\",\"zerolinecolor\":\"white\",\"gridwidth\":2}},\"shapedefaults\":{\"line\":{\"color\":\"#2a3f5f\"}},\"annotationdefaults\":{\"arrowcolor\":\"#2a3f5f\",\"arrowhead\":0,\"arrowwidth\":1},\"geo\":{\"bgcolor\":\"white\",\"landcolor\":\"#E5ECF6\",\"subunitcolor\":\"white\",\"showland\":true,\"showlakes\":true,\"lakecolor\":\"white\"},\"title\":{\"x\":0.05},\"mapbox\":{\"style\":\"light\"}}},\"xaxis\":{\"anchor\":\"y\",\"domain\":[0.0,0.082],\"title\":{\"text\":\"bootstrap\"},\"type\":\"category\",\"categoryorder\":\"array\",\"categoryarray\":[true,false]},\"yaxis\":{\"anchor\":\"x\",\"domain\":[0.0,1.0],\"title\":{\"text\":\"Objective Value\"}},\"xaxis2\":{\"anchor\":\"y2\",\"domain\":[0.10200000000000001,0.184],\"title\":{\"text\":\"c\"},\"type\":\"log\"},\"yaxis2\":{\"anchor\":\"x2\",\"domain\":[0.0,1.0],\"matches\":\"y\",\"showticklabels\":false},\"xaxis3\":{\"anchor\":\"y3\",\"domain\":[0.20400000000000001,0.28600000000000003],\"title\":{\"text\":\"classifier\"},\"type\":\"category\",\"categoryorder\":\"array\",\"categoryarray\":[\"RandomForest\",\"GradientBoosting\",\"SVM\"]},\"yaxis3\":{\"anchor\":\"x3\",\"domain\":[0.0,1.0],\"matches\":\"y\",\"showticklabels\":false},\"xaxis4\":{\"anchor\":\"y4\",\"domain\":[0.306,0.388],\"title\":{\"text\":\"gamma\"},\"type\":\"category\",\"categoryorder\":\"array\",\"categoryarray\":[\"scale\",\"auto\"]},\"yaxis4\":{\"anchor\":\"x4\",\"domain\":[0.0,1.0],\"matches\":\"y\",\"showticklabels\":false},\"xaxis5\":{\"anchor\":\"y5\",\"domain\":[0.40800000000000003,0.49000000000000005],\"title\":{\"text\":\"kernal\"},\"type\":\"category\",\"categoryorder\":\"array\",\"categoryarray\":[\"linear\",\"rbf\",\"poly\",\"sigmoid\"]},\"yaxis5\":{\"anchor\":\"x5\",\"domain\":[0.0,1.0],\"matches\":\"y\",\"showticklabels\":false},\"xaxis6\":{\"anchor\":\"y6\",\"domain\":[0.51,0.592],\"title\":{\"text\":\"learning_rate\"},\"type\":\"log\"},\"yaxis6\":{\"anchor\":\"x6\",\"domain\":[0.0,1.0],\"matches\":\"y\",\"showticklabels\":false},\"xaxis7\":{\"anchor\":\"y7\",\"domain\":[0.612,0.694],\"title\":{\"text\":\"max_depth\"}},\"yaxis7\":{\"anchor\":\"x7\",\"domain\":[0.0,1.0],\"matches\":\"y\",\"showticklabels\":false},\"xaxis8\":{\"anchor\":\"y8\",\"domain\":[0.7140000000000001,0.796],\"title\":{\"text\":\"min_samples_leaf\"}},\"yaxis8\":{\"anchor\":\"x8\",\"domain\":[0.0,1.0],\"matches\":\"y\",\"showticklabels\":false},\"xaxis9\":{\"anchor\":\"y9\",\"domain\":[0.8160000000000001,0.898],\"title\":{\"text\":\"min_samples_split\"}},\"yaxis9\":{\"anchor\":\"x9\",\"domain\":[0.0,1.0],\"matches\":\"y\",\"showticklabels\":false},\"xaxis10\":{\"anchor\":\"y10\",\"domain\":[0.9179999999999999,0.9999999999999999],\"title\":{\"text\":\"n_estimators\"}},\"yaxis10\":{\"anchor\":\"x10\",\"domain\":[0.0,1.0],\"matches\":\"y\",\"showticklabels\":false},\"title\":{\"text\":\"Slice Plot\"},\"width\":3000},                        {\"responsive\": true}                    ).then(function(){\n",
              "                            \n",
              "var gd = document.getElementById('e3978824-476c-49e2-a9eb-720086d19064');\n",
              "var x = new MutationObserver(function (mutations, observer) {{\n",
              "        var display = window.getComputedStyle(gd).display;\n",
              "        if (!display || display === 'none') {{\n",
              "            console.log([gd, 'removed!']);\n",
              "            Plotly.purge(gd);\n",
              "            observer.disconnect();\n",
              "        }}\n",
              "}});\n",
              "\n",
              "// Listen for the removal of the full notebook cells\n",
              "var notebookContainer = gd.closest('#notebook-container');\n",
              "if (notebookContainer) {{\n",
              "    x.observe(notebookContainer, {childList: true});\n",
              "}}\n",
              "\n",
              "// Listen for the clearing of the current output cell\n",
              "var outputEl = gd.closest('.output');\n",
              "if (outputEl) {{\n",
              "    x.observe(outputEl, {childList: true});\n",
              "}}\n",
              "\n",
              "                        })                };                            </script>        </div>\n",
              "</body>\n",
              "</html>"
            ]
          },
          "metadata": {}
        }
      ]
    },
    {
      "cell_type": "code",
      "source": [
        "# 5. Hyperparameter Importance\n",
        "plot_param_importances(study).show()"
      ],
      "metadata": {
        "colab": {
          "base_uri": "https://localhost:8080/",
          "height": 542
        },
        "id": "ulA8kR1UO5Ed",
        "outputId": "e1a062bf-2ebc-4343-d4fc-71644e659641"
      },
      "execution_count": 69,
      "outputs": [
        {
          "output_type": "display_data",
          "data": {
            "text/html": [
              "<html>\n",
              "<head><meta charset=\"utf-8\" /></head>\n",
              "<body>\n",
              "    <div>            <script src=\"https://cdnjs.cloudflare.com/ajax/libs/mathjax/2.7.5/MathJax.js?config=TeX-AMS-MML_SVG\"></script><script type=\"text/javascript\">if (window.MathJax && window.MathJax.Hub && window.MathJax.Hub.Config) {window.MathJax.Hub.Config({SVG: {font: \"STIX-Web\"}});}</script>                <script type=\"text/javascript\">window.PlotlyConfig = {MathJaxConfig: 'local'};</script>\n",
              "        <script charset=\"utf-8\" src=\"https://cdn.plot.ly/plotly-2.35.2.min.js\"></script>                <div id=\"ca51c7bd-65bf-4df5-9cae-65cf1a1c359f\" class=\"plotly-graph-div\" style=\"height:525px; width:100%;\"></div>            <script type=\"text/javascript\">                                    window.PLOTLYENV=window.PLOTLYENV || {};                                    if (document.getElementById(\"ca51c7bd-65bf-4df5-9cae-65cf1a1c359f\")) {                    Plotly.newPlot(                        \"ca51c7bd-65bf-4df5-9cae-65cf1a1c359f\",                        [{\"cliponaxis\":false,\"hovertemplate\":[\"classifier (CategoricalDistribution): 1.0\\u003cextra\\u003e\\u003c\\u002fextra\\u003e\"],\"name\":\"Objective Value\",\"orientation\":\"h\",\"text\":[\"1.00\"],\"textposition\":\"outside\",\"x\":[1.0],\"y\":[\"classifier\"],\"type\":\"bar\"}],                        {\"title\":{\"text\":\"Hyperparameter Importances\"},\"xaxis\":{\"title\":{\"text\":\"Hyperparameter Importance\"}},\"yaxis\":{\"title\":{\"text\":\"Hyperparameter\"}},\"template\":{\"data\":{\"histogram2dcontour\":[{\"type\":\"histogram2dcontour\",\"colorbar\":{\"outlinewidth\":0,\"ticks\":\"\"},\"colorscale\":[[0.0,\"#0d0887\"],[0.1111111111111111,\"#46039f\"],[0.2222222222222222,\"#7201a8\"],[0.3333333333333333,\"#9c179e\"],[0.4444444444444444,\"#bd3786\"],[0.5555555555555556,\"#d8576b\"],[0.6666666666666666,\"#ed7953\"],[0.7777777777777778,\"#fb9f3a\"],[0.8888888888888888,\"#fdca26\"],[1.0,\"#f0f921\"]]}],\"choropleth\":[{\"type\":\"choropleth\",\"colorbar\":{\"outlinewidth\":0,\"ticks\":\"\"}}],\"histogram2d\":[{\"type\":\"histogram2d\",\"colorbar\":{\"outlinewidth\":0,\"ticks\":\"\"},\"colorscale\":[[0.0,\"#0d0887\"],[0.1111111111111111,\"#46039f\"],[0.2222222222222222,\"#7201a8\"],[0.3333333333333333,\"#9c179e\"],[0.4444444444444444,\"#bd3786\"],[0.5555555555555556,\"#d8576b\"],[0.6666666666666666,\"#ed7953\"],[0.7777777777777778,\"#fb9f3a\"],[0.8888888888888888,\"#fdca26\"],[1.0,\"#f0f921\"]]}],\"heatmap\":[{\"type\":\"heatmap\",\"colorbar\":{\"outlinewidth\":0,\"ticks\":\"\"},\"colorscale\":[[0.0,\"#0d0887\"],[0.1111111111111111,\"#46039f\"],[0.2222222222222222,\"#7201a8\"],[0.3333333333333333,\"#9c179e\"],[0.4444444444444444,\"#bd3786\"],[0.5555555555555556,\"#d8576b\"],[0.6666666666666666,\"#ed7953\"],[0.7777777777777778,\"#fb9f3a\"],[0.8888888888888888,\"#fdca26\"],[1.0,\"#f0f921\"]]}],\"heatmapgl\":[{\"type\":\"heatmapgl\",\"colorbar\":{\"outlinewidth\":0,\"ticks\":\"\"},\"colorscale\":[[0.0,\"#0d0887\"],[0.1111111111111111,\"#46039f\"],[0.2222222222222222,\"#7201a8\"],[0.3333333333333333,\"#9c179e\"],[0.4444444444444444,\"#bd3786\"],[0.5555555555555556,\"#d8576b\"],[0.6666666666666666,\"#ed7953\"],[0.7777777777777778,\"#fb9f3a\"],[0.8888888888888888,\"#fdca26\"],[1.0,\"#f0f921\"]]}],\"contourcarpet\":[{\"type\":\"contourcarpet\",\"colorbar\":{\"outlinewidth\":0,\"ticks\":\"\"}}],\"contour\":[{\"type\":\"contour\",\"colorbar\":{\"outlinewidth\":0,\"ticks\":\"\"},\"colorscale\":[[0.0,\"#0d0887\"],[0.1111111111111111,\"#46039f\"],[0.2222222222222222,\"#7201a8\"],[0.3333333333333333,\"#9c179e\"],[0.4444444444444444,\"#bd3786\"],[0.5555555555555556,\"#d8576b\"],[0.6666666666666666,\"#ed7953\"],[0.7777777777777778,\"#fb9f3a\"],[0.8888888888888888,\"#fdca26\"],[1.0,\"#f0f921\"]]}],\"surface\":[{\"type\":\"surface\",\"colorbar\":{\"outlinewidth\":0,\"ticks\":\"\"},\"colorscale\":[[0.0,\"#0d0887\"],[0.1111111111111111,\"#46039f\"],[0.2222222222222222,\"#7201a8\"],[0.3333333333333333,\"#9c179e\"],[0.4444444444444444,\"#bd3786\"],[0.5555555555555556,\"#d8576b\"],[0.6666666666666666,\"#ed7953\"],[0.7777777777777778,\"#fb9f3a\"],[0.8888888888888888,\"#fdca26\"],[1.0,\"#f0f921\"]]}],\"mesh3d\":[{\"type\":\"mesh3d\",\"colorbar\":{\"outlinewidth\":0,\"ticks\":\"\"}}],\"scatter\":[{\"fillpattern\":{\"fillmode\":\"overlay\",\"size\":10,\"solidity\":0.2},\"type\":\"scatter\"}],\"parcoords\":[{\"type\":\"parcoords\",\"line\":{\"colorbar\":{\"outlinewidth\":0,\"ticks\":\"\"}}}],\"scatterpolargl\":[{\"type\":\"scatterpolargl\",\"marker\":{\"colorbar\":{\"outlinewidth\":0,\"ticks\":\"\"}}}],\"bar\":[{\"error_x\":{\"color\":\"#2a3f5f\"},\"error_y\":{\"color\":\"#2a3f5f\"},\"marker\":{\"line\":{\"color\":\"#E5ECF6\",\"width\":0.5},\"pattern\":{\"fillmode\":\"overlay\",\"size\":10,\"solidity\":0.2}},\"type\":\"bar\"}],\"scattergeo\":[{\"type\":\"scattergeo\",\"marker\":{\"colorbar\":{\"outlinewidth\":0,\"ticks\":\"\"}}}],\"scatterpolar\":[{\"type\":\"scatterpolar\",\"marker\":{\"colorbar\":{\"outlinewidth\":0,\"ticks\":\"\"}}}],\"histogram\":[{\"marker\":{\"pattern\":{\"fillmode\":\"overlay\",\"size\":10,\"solidity\":0.2}},\"type\":\"histogram\"}],\"scattergl\":[{\"type\":\"scattergl\",\"marker\":{\"colorbar\":{\"outlinewidth\":0,\"ticks\":\"\"}}}],\"scatter3d\":[{\"type\":\"scatter3d\",\"line\":{\"colorbar\":{\"outlinewidth\":0,\"ticks\":\"\"}},\"marker\":{\"colorbar\":{\"outlinewidth\":0,\"ticks\":\"\"}}}],\"scattermapbox\":[{\"type\":\"scattermapbox\",\"marker\":{\"colorbar\":{\"outlinewidth\":0,\"ticks\":\"\"}}}],\"scatterternary\":[{\"type\":\"scatterternary\",\"marker\":{\"colorbar\":{\"outlinewidth\":0,\"ticks\":\"\"}}}],\"scattercarpet\":[{\"type\":\"scattercarpet\",\"marker\":{\"colorbar\":{\"outlinewidth\":0,\"ticks\":\"\"}}}],\"carpet\":[{\"aaxis\":{\"endlinecolor\":\"#2a3f5f\",\"gridcolor\":\"white\",\"linecolor\":\"white\",\"minorgridcolor\":\"white\",\"startlinecolor\":\"#2a3f5f\"},\"baxis\":{\"endlinecolor\":\"#2a3f5f\",\"gridcolor\":\"white\",\"linecolor\":\"white\",\"minorgridcolor\":\"white\",\"startlinecolor\":\"#2a3f5f\"},\"type\":\"carpet\"}],\"table\":[{\"cells\":{\"fill\":{\"color\":\"#EBF0F8\"},\"line\":{\"color\":\"white\"}},\"header\":{\"fill\":{\"color\":\"#C8D4E3\"},\"line\":{\"color\":\"white\"}},\"type\":\"table\"}],\"barpolar\":[{\"marker\":{\"line\":{\"color\":\"#E5ECF6\",\"width\":0.5},\"pattern\":{\"fillmode\":\"overlay\",\"size\":10,\"solidity\":0.2}},\"type\":\"barpolar\"}],\"pie\":[{\"automargin\":true,\"type\":\"pie\"}]},\"layout\":{\"autotypenumbers\":\"strict\",\"colorway\":[\"#636efa\",\"#EF553B\",\"#00cc96\",\"#ab63fa\",\"#FFA15A\",\"#19d3f3\",\"#FF6692\",\"#B6E880\",\"#FF97FF\",\"#FECB52\"],\"font\":{\"color\":\"#2a3f5f\"},\"hovermode\":\"closest\",\"hoverlabel\":{\"align\":\"left\"},\"paper_bgcolor\":\"white\",\"plot_bgcolor\":\"#E5ECF6\",\"polar\":{\"bgcolor\":\"#E5ECF6\",\"angularaxis\":{\"gridcolor\":\"white\",\"linecolor\":\"white\",\"ticks\":\"\"},\"radialaxis\":{\"gridcolor\":\"white\",\"linecolor\":\"white\",\"ticks\":\"\"}},\"ternary\":{\"bgcolor\":\"#E5ECF6\",\"aaxis\":{\"gridcolor\":\"white\",\"linecolor\":\"white\",\"ticks\":\"\"},\"baxis\":{\"gridcolor\":\"white\",\"linecolor\":\"white\",\"ticks\":\"\"},\"caxis\":{\"gridcolor\":\"white\",\"linecolor\":\"white\",\"ticks\":\"\"}},\"coloraxis\":{\"colorbar\":{\"outlinewidth\":0,\"ticks\":\"\"}},\"colorscale\":{\"sequential\":[[0.0,\"#0d0887\"],[0.1111111111111111,\"#46039f\"],[0.2222222222222222,\"#7201a8\"],[0.3333333333333333,\"#9c179e\"],[0.4444444444444444,\"#bd3786\"],[0.5555555555555556,\"#d8576b\"],[0.6666666666666666,\"#ed7953\"],[0.7777777777777778,\"#fb9f3a\"],[0.8888888888888888,\"#fdca26\"],[1.0,\"#f0f921\"]],\"sequentialminus\":[[0.0,\"#0d0887\"],[0.1111111111111111,\"#46039f\"],[0.2222222222222222,\"#7201a8\"],[0.3333333333333333,\"#9c179e\"],[0.4444444444444444,\"#bd3786\"],[0.5555555555555556,\"#d8576b\"],[0.6666666666666666,\"#ed7953\"],[0.7777777777777778,\"#fb9f3a\"],[0.8888888888888888,\"#fdca26\"],[1.0,\"#f0f921\"]],\"diverging\":[[0,\"#8e0152\"],[0.1,\"#c51b7d\"],[0.2,\"#de77ae\"],[0.3,\"#f1b6da\"],[0.4,\"#fde0ef\"],[0.5,\"#f7f7f7\"],[0.6,\"#e6f5d0\"],[0.7,\"#b8e186\"],[0.8,\"#7fbc41\"],[0.9,\"#4d9221\"],[1,\"#276419\"]]},\"xaxis\":{\"gridcolor\":\"white\",\"linecolor\":\"white\",\"ticks\":\"\",\"title\":{\"standoff\":15},\"zerolinecolor\":\"white\",\"automargin\":true,\"zerolinewidth\":2},\"yaxis\":{\"gridcolor\":\"white\",\"linecolor\":\"white\",\"ticks\":\"\",\"title\":{\"standoff\":15},\"zerolinecolor\":\"white\",\"automargin\":true,\"zerolinewidth\":2},\"scene\":{\"xaxis\":{\"backgroundcolor\":\"#E5ECF6\",\"gridcolor\":\"white\",\"linecolor\":\"white\",\"showbackground\":true,\"ticks\":\"\",\"zerolinecolor\":\"white\",\"gridwidth\":2},\"yaxis\":{\"backgroundcolor\":\"#E5ECF6\",\"gridcolor\":\"white\",\"linecolor\":\"white\",\"showbackground\":true,\"ticks\":\"\",\"zerolinecolor\":\"white\",\"gridwidth\":2},\"zaxis\":{\"backgroundcolor\":\"#E5ECF6\",\"gridcolor\":\"white\",\"linecolor\":\"white\",\"showbackground\":true,\"ticks\":\"\",\"zerolinecolor\":\"white\",\"gridwidth\":2}},\"shapedefaults\":{\"line\":{\"color\":\"#2a3f5f\"}},\"annotationdefaults\":{\"arrowcolor\":\"#2a3f5f\",\"arrowhead\":0,\"arrowwidth\":1},\"geo\":{\"bgcolor\":\"white\",\"landcolor\":\"#E5ECF6\",\"subunitcolor\":\"white\",\"showland\":true,\"showlakes\":true,\"lakecolor\":\"white\"},\"title\":{\"x\":0.05},\"mapbox\":{\"style\":\"light\"}}}},                        {\"responsive\": true}                    ).then(function(){\n",
              "                            \n",
              "var gd = document.getElementById('ca51c7bd-65bf-4df5-9cae-65cf1a1c359f');\n",
              "var x = new MutationObserver(function (mutations, observer) {{\n",
              "        var display = window.getComputedStyle(gd).display;\n",
              "        if (!display || display === 'none') {{\n",
              "            console.log([gd, 'removed!']);\n",
              "            Plotly.purge(gd);\n",
              "            observer.disconnect();\n",
              "        }}\n",
              "}});\n",
              "\n",
              "// Listen for the removal of the full notebook cells\n",
              "var notebookContainer = gd.closest('#notebook-container');\n",
              "if (notebookContainer) {{\n",
              "    x.observe(notebookContainer, {childList: true});\n",
              "}}\n",
              "\n",
              "// Listen for the clearing of the current output cell\n",
              "var outputEl = gd.closest('.output');\n",
              "if (outputEl) {{\n",
              "    x.observe(outputEl, {childList: true});\n",
              "}}\n",
              "\n",
              "                        })                };                            </script>        </div>\n",
              "</body>\n",
              "</html>"
            ]
          },
          "metadata": {}
        }
      ]
    }
  ]
}