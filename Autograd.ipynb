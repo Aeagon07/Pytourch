{
  "nbformat": 4,
  "nbformat_minor": 0,
  "metadata": {
    "colab": {
      "provenance": [],
      "authorship_tag": "ABX9TyNTVI5pKqFENE5PFB/ntFNN",
      "include_colab_link": true
    },
    "kernelspec": {
      "name": "python3",
      "display_name": "Python 3"
    },
    "language_info": {
      "name": "python"
    }
  },
  "cells": [
    {
      "cell_type": "markdown",
      "metadata": {
        "id": "view-in-github",
        "colab_type": "text"
      },
      "source": [
        "<a href=\"https://colab.research.google.com/github/Aeagon07/Pytourch/blob/main/Autograd.ipynb\" target=\"_parent\"><img src=\"https://colab.research.google.com/assets/colab-badge.svg\" alt=\"Open In Colab\"/></a>"
      ]
    },
    {
      "cell_type": "code",
      "execution_count": 1,
      "metadata": {
        "id": "YVP-qWTWV-Q8"
      },
      "outputs": [],
      "source": [
        "import torch\n"
      ]
    },
    {
      "cell_type": "code",
      "source": [
        "x = torch.tensor(3.0, requires_grad=True)\n",
        "# when you set the requires_grad= True then you just trying to calculate derivate of this tensor\n",
        "# whenever you want to calculate the def. you must use the this keysword"
      ],
      "metadata": {
        "id": "uiEAGamHWQfd"
      },
      "execution_count": 2,
      "outputs": []
    },
    {
      "cell_type": "code",
      "source": [
        "y = x**2"
      ],
      "metadata": {
        "id": "pCmEORUJXEsQ"
      },
      "execution_count": 3,
      "outputs": []
    },
    {
      "cell_type": "code",
      "source": [
        "x"
      ],
      "metadata": {
        "colab": {
          "base_uri": "https://localhost:8080/"
        },
        "id": "vf12eSZzXKti",
        "outputId": "2ee9367a-b3ef-4265-d927-f745b4d4b7b1"
      },
      "execution_count": 4,
      "outputs": [
        {
          "output_type": "execute_result",
          "data": {
            "text/plain": [
              "tensor(3., requires_grad=True)"
            ]
          },
          "metadata": {},
          "execution_count": 4
        }
      ]
    },
    {
      "cell_type": "code",
      "source": [
        "y"
      ],
      "metadata": {
        "colab": {
          "base_uri": "https://localhost:8080/"
        },
        "id": "MTEmOCc4XMWn",
        "outputId": "6d47285c-f311-4fec-d4d1-330cbca54b09"
      },
      "execution_count": 6,
      "outputs": [
        {
          "output_type": "execute_result",
          "data": {
            "text/plain": [
              "tensor(9., grad_fn=<PowBackward0>)"
            ]
          },
          "metadata": {},
          "execution_count": 6
        }
      ]
    },
    {
      "cell_type": "code",
      "source": [
        "# when you say you want to calculate the gradient then pyTorch internally make a computation graph\n",
        "# x -> sqt -> y\n",
        "#  When you go to left -> right you did calculation of y with x like y = x**2 which is forward direction But, when you go\n",
        "# to backward direction PyTorch give you quantity dy/dx and to calculate this it should known which operation they performed here like her there is sqt like that\n",
        "\n",
        "# That's why you see the PowBack function cause it remeber that there is power function at the back"
      ],
      "metadata": {
        "id": "zbN-Z1IKXf9G"
      },
      "execution_count": 6,
      "outputs": []
    },
    {
      "cell_type": "code",
      "source": [
        "# So you have to calculate on backward cause you calculate the forward one as 9 is printed so\n",
        "y.backward()"
      ],
      "metadata": {
        "id": "GmPKYiJta65E"
      },
      "execution_count": 7,
      "outputs": []
    },
    {
      "cell_type": "code",
      "source": [
        "x.grad\n",
        "# You get the your dy/dx value"
      ],
      "metadata": {
        "colab": {
          "base_uri": "https://localhost:8080/"
        },
        "id": "VNZUOzeNbIpP",
        "outputId": "2346fd84-6e76-4c0e-80d0-60fb73ab4012"
      },
      "execution_count": 9,
      "outputs": [
        {
          "output_type": "execute_result",
          "data": {
            "text/plain": [
              "tensor(6.)"
            ]
          },
          "metadata": {},
          "execution_count": 9
        }
      ]
    },
    {
      "cell_type": "code",
      "source": [
        "#  r = s ** 2 and t = sin(r)\n",
        "s = torch.tensor(3.0, requires_grad=True)\n",
        "# To resolve the runtime error -> Just Doing Error Handling\n",
        "if s.grad is not None:\n",
        "  s.grad.zero_()"
      ],
      "metadata": {
        "id": "s0DkQOs5dxyv"
      },
      "execution_count": 28,
      "outputs": []
    },
    {
      "cell_type": "code",
      "source": [
        "r = s ** 2"
      ],
      "metadata": {
        "id": "A8rDDoK_fxkY"
      },
      "execution_count": 29,
      "outputs": []
    },
    {
      "cell_type": "code",
      "source": [
        "t = torch.sin(r)"
      ],
      "metadata": {
        "id": "58I5IqiRf0zo"
      },
      "execution_count": 30,
      "outputs": []
    },
    {
      "cell_type": "code",
      "source": [
        "t.backward()"
      ],
      "metadata": {
        "id": "OXOLGU-Ef6Pr"
      },
      "execution_count": 31,
      "outputs": []
    },
    {
      "cell_type": "code",
      "source": [
        "s.grad"
      ],
      "metadata": {
        "colab": {
          "base_uri": "https://localhost:8080/"
        },
        "id": "ebyYK5Gvf9Ts",
        "outputId": "926dbdf5-220f-4279-f049-0257ef4405f0"
      },
      "execution_count": 32,
      "outputs": [
        {
          "output_type": "execute_result",
          "data": {
            "text/plain": [
              "tensor(-5.4668)"
            ]
          },
          "metadata": {},
          "execution_count": 32
        }
      ]
    },
    {
      "cell_type": "code",
      "source": [],
      "metadata": {
        "id": "bk0VtHaEpN2n"
      },
      "execution_count": null,
      "outputs": []
    },
    {
      "cell_type": "markdown",
      "source": [
        "## **Neutral Netwok (Without Autograd)**"
      ],
      "metadata": {
        "id": "XHmdpLmGl2Wo"
      }
    },
    {
      "cell_type": "code",
      "source": [
        "import torch\n",
        "# For Simple Neutral Network\n",
        "\n",
        "# Input\n",
        "x = torch.tensor(6.7) # CGPA\n",
        "y = torch.tensor(0.0) # Placed\n",
        "\n",
        "w = torch.tensor(1.0) # Weight\n",
        "b = torch.tensor(0.0) # Bias"
      ],
      "metadata": {
        "id": "ae3Mcoi4lIMH"
      },
      "execution_count": 33,
      "outputs": []
    },
    {
      "cell_type": "code",
      "source": [
        "# Code for the LOSS (Binary Cross Entropy)\n",
        "def binary_cross_entropy(pred, target):\n",
        "  epsilon = 1e-8 # to prevent log(0)\n",
        "  pred = torch.clamp(pred, epsilon, 1-epsilon)\n",
        "  return -(target * torch.log(pred) + (1-target) * torch.log(1-pred))"
      ],
      "metadata": {
        "id": "eFS7USkZlH-n"
      },
      "execution_count": 34,
      "outputs": []
    },
    {
      "cell_type": "code",
      "source": [
        "# Forward Pass\n",
        "z = w * x + b # linear Trans\n",
        "y_hat = torch.sigmoid(z) # Activation\n",
        "\n",
        "# Compute with BCE\n",
        "loss = binary_cross_entropy(y_hat, y)"
      ],
      "metadata": {
        "id": "Moorp0ikm6Zn"
      },
      "execution_count": 35,
      "outputs": []
    },
    {
      "cell_type": "code",
      "source": [
        "loss"
      ],
      "metadata": {
        "colab": {
          "base_uri": "https://localhost:8080/"
        },
        "id": "XLM8Mi4unZVB",
        "outputId": "9c08895a-312a-442a-dcb1-fc22e22598fc"
      },
      "execution_count": 37,
      "outputs": [
        {
          "output_type": "execute_result",
          "data": {
            "text/plain": [
              "tensor(6.7012)"
            ]
          },
          "metadata": {},
          "execution_count": 37
        }
      ]
    },
    {
      "cell_type": "code",
      "source": [
        "# Derivatives\n",
        "\n",
        "# 1) Loss with y_hat\n",
        "dloss_dy_hat = (y_hat - y) / (y_hat * (1 - y_hat))\n",
        "\n",
        "# 2) y_hat with z\n",
        "dy_hat_dz = y_hat * (1 - y_hat)\n",
        "\n",
        "# 3) z with w and z with b\n",
        "dz_dw = x\n",
        "dz_db = 1\n",
        "\n",
        "dl_dw = dloss_dy_hat * dy_hat_dz * dz_dw\n",
        "dl_db = dloss_dy_hat * dy_hat_dz * dz_db"
      ],
      "metadata": {
        "id": "uewz2oJbnlfh"
      },
      "execution_count": 38,
      "outputs": []
    },
    {
      "cell_type": "code",
      "source": [
        "print(f\"Manual Gradient Loss with weight (dl/dw): {dl_dw}\")\n",
        "print(f\"Manual Gradient Loss with bias (dl/db): {dl_db}\")"
      ],
      "metadata": {
        "colab": {
          "base_uri": "https://localhost:8080/"
        },
        "id": "8xUhwVs-oev7",
        "outputId": "b8a9d455-f688-45d4-ddbf-6b4e20625ab4"
      },
      "execution_count": 40,
      "outputs": [
        {
          "output_type": "stream",
          "name": "stdout",
          "text": [
            "Manual Gradient Loss with weight (dl/dw): 6.691762447357178\n",
            "Manual Gradient Loss with bias (dl/db): 0.998770534992218\n"
          ]
        }
      ]
    },
    {
      "cell_type": "markdown",
      "source": [
        "## **Neural Network (With Autograd)**"
      ],
      "metadata": {
        "id": "T44E4nilpEv4"
      }
    },
    {
      "cell_type": "code",
      "source": [
        "x = torch.tensor(6.7)\n",
        "y = torch.tensor(0.0)"
      ],
      "metadata": {
        "id": "hiYi_IRtpeNo"
      },
      "execution_count": 41,
      "outputs": []
    },
    {
      "cell_type": "code",
      "source": [
        "w = torch.tensor(1.0, requires_grad=True)\n",
        "b = torch.tensor(0.0, requires_grad=True)"
      ],
      "metadata": {
        "id": "QiFnbNy0p8BF"
      },
      "execution_count": 42,
      "outputs": []
    },
    {
      "cell_type": "code",
      "source": [
        "w"
      ],
      "metadata": {
        "colab": {
          "base_uri": "https://localhost:8080/"
        },
        "id": "9kvkirIUqBr-",
        "outputId": "5e243591-e3b9-4bf8-d3eb-5e1de3f30285"
      },
      "execution_count": 43,
      "outputs": [
        {
          "output_type": "execute_result",
          "data": {
            "text/plain": [
              "tensor(1., requires_grad=True)"
            ]
          },
          "metadata": {},
          "execution_count": 43
        }
      ]
    },
    {
      "cell_type": "code",
      "source": [
        "b"
      ],
      "metadata": {
        "colab": {
          "base_uri": "https://localhost:8080/"
        },
        "id": "NMAdJUAYqCPI",
        "outputId": "e003e066-6be4-4b4d-9d0d-428dd88009f4"
      },
      "execution_count": 44,
      "outputs": [
        {
          "output_type": "execute_result",
          "data": {
            "text/plain": [
              "tensor(0., requires_grad=True)"
            ]
          },
          "metadata": {},
          "execution_count": 44
        }
      ]
    },
    {
      "cell_type": "code",
      "source": [
        "z = w * x + b\n",
        "z"
      ],
      "metadata": {
        "colab": {
          "base_uri": "https://localhost:8080/"
        },
        "id": "C1srFWbTqCyh",
        "outputId": "3c289a3c-3e2f-42a7-a4eb-fca88bcd9cf6"
      },
      "execution_count": 46,
      "outputs": [
        {
          "output_type": "execute_result",
          "data": {
            "text/plain": [
              "tensor(6.7000, grad_fn=<AddBackward0>)"
            ]
          },
          "metadata": {},
          "execution_count": 46
        }
      ]
    },
    {
      "cell_type": "code",
      "source": [
        "y_hat = torch.sigmoid(z)\n",
        "y_hat"
      ],
      "metadata": {
        "colab": {
          "base_uri": "https://localhost:8080/"
        },
        "id": "vWxTQ3o5qIhl",
        "outputId": "724c2b28-0b70-4b5b-8294-cebfb85a55f3"
      },
      "execution_count": 47,
      "outputs": [
        {
          "output_type": "execute_result",
          "data": {
            "text/plain": [
              "tensor(0.9988, grad_fn=<SigmoidBackward0>)"
            ]
          },
          "metadata": {},
          "execution_count": 47
        }
      ]
    },
    {
      "cell_type": "code",
      "source": [
        "loss = binary_cross_entropy(y_hat, y)\n",
        "loss"
      ],
      "metadata": {
        "colab": {
          "base_uri": "https://localhost:8080/"
        },
        "id": "WviR8PflqPg8",
        "outputId": "2d63a58f-6483-490c-c45a-e6fec41f721a"
      },
      "execution_count": 48,
      "outputs": [
        {
          "output_type": "execute_result",
          "data": {
            "text/plain": [
              "tensor(6.7012, grad_fn=<NegBackward0>)"
            ]
          },
          "metadata": {},
          "execution_count": 48
        }
      ]
    },
    {
      "cell_type": "code",
      "source": [
        "loss.backward()"
      ],
      "metadata": {
        "id": "a6DxOJ9zqbCd"
      },
      "execution_count": 49,
      "outputs": []
    },
    {
      "cell_type": "code",
      "source": [
        "w.grad"
      ],
      "metadata": {
        "colab": {
          "base_uri": "https://localhost:8080/"
        },
        "id": "eMh5H_0grDh8",
        "outputId": "7fefd170-39e7-4e42-ae80-9209fc50587e"
      },
      "execution_count": 50,
      "outputs": [
        {
          "output_type": "execute_result",
          "data": {
            "text/plain": [
              "tensor(6.6918)"
            ]
          },
          "metadata": {},
          "execution_count": 50
        }
      ]
    },
    {
      "cell_type": "code",
      "source": [
        "b.grad"
      ],
      "metadata": {
        "colab": {
          "base_uri": "https://localhost:8080/"
        },
        "id": "TlbKFC4KrGRd",
        "outputId": "2b55699b-73bc-40e0-c362-89ec6bef0cb1"
      },
      "execution_count": 51,
      "outputs": [
        {
          "output_type": "execute_result",
          "data": {
            "text/plain": [
              "tensor(0.9988)"
            ]
          },
          "metadata": {},
          "execution_count": 51
        }
      ]
    },
    {
      "cell_type": "markdown",
      "source": [
        "# You also apply for Vector Inputs also\n",
        "\n"
      ],
      "metadata": {
        "id": "zLvSbx4_r9dB"
      }
    },
    {
      "cell_type": "code",
      "source": [
        "x = torch.tensor([1.0, 2.0, 3.0], requires_grad=True)\n",
        "x"
      ],
      "metadata": {
        "colab": {
          "base_uri": "https://localhost:8080/"
        },
        "id": "A9tp_8e_sKV8",
        "outputId": "0e88f37f-bc5b-412f-a6f6-17390cad6b6f"
      },
      "execution_count": 52,
      "outputs": [
        {
          "output_type": "execute_result",
          "data": {
            "text/plain": [
              "tensor([1., 2., 3.], requires_grad=True)"
            ]
          },
          "metadata": {},
          "execution_count": 52
        }
      ]
    },
    {
      "cell_type": "code",
      "source": [
        "y = (x ** 2).mean()\n",
        "y"
      ],
      "metadata": {
        "colab": {
          "base_uri": "https://localhost:8080/"
        },
        "id": "wHwYrmutsUEP",
        "outputId": "ba61b147-b33e-4d89-bfd8-a3705b543d19"
      },
      "execution_count": 53,
      "outputs": [
        {
          "output_type": "execute_result",
          "data": {
            "text/plain": [
              "tensor(4.6667, grad_fn=<MeanBackward0>)"
            ]
          },
          "metadata": {},
          "execution_count": 53
        }
      ]
    },
    {
      "cell_type": "code",
      "source": [
        "y.backward()"
      ],
      "metadata": {
        "id": "D-ZOXBRrsYDm"
      },
      "execution_count": 54,
      "outputs": []
    },
    {
      "cell_type": "code",
      "source": [
        "x.grad"
      ],
      "metadata": {
        "colab": {
          "base_uri": "https://localhost:8080/"
        },
        "id": "fFr1bJpVsaGP",
        "outputId": "18aed8ac-0982-4627-8f76-925eb0b39885"
      },
      "execution_count": 55,
      "outputs": [
        {
          "output_type": "execute_result",
          "data": {
            "text/plain": [
              "tensor([0.6667, 1.3333, 2.0000])"
            ]
          },
          "metadata": {},
          "execution_count": 55
        }
      ]
    },
    {
      "cell_type": "markdown",
      "source": [
        "## Clearing Grad"
      ],
      "metadata": {
        "id": "cKh6LDnCu_wU"
      }
    },
    {
      "cell_type": "code",
      "source": [
        "x = torch.tensor(2.0, requires_grad=True)\n",
        "\n",
        "if x.grad is not None:\n",
        "  x.grad.zero_()\n",
        "\n",
        "x"
      ],
      "metadata": {
        "colab": {
          "base_uri": "https://localhost:8080/"
        },
        "id": "JlrDE7dYvJ3n",
        "outputId": "a312bbfb-9316-4ad7-86b8-aabd013ec4e8"
      },
      "execution_count": 64,
      "outputs": [
        {
          "output_type": "execute_result",
          "data": {
            "text/plain": [
              "tensor(2., requires_grad=True)"
            ]
          },
          "metadata": {},
          "execution_count": 64
        }
      ]
    },
    {
      "cell_type": "code",
      "source": [
        "y = x ** 2\n",
        "y"
      ],
      "metadata": {
        "colab": {
          "base_uri": "https://localhost:8080/"
        },
        "id": "iJJPjYgAvRT0",
        "outputId": "0af27d4f-dd03-4f85-f255-701e0bde0392"
      },
      "execution_count": 72,
      "outputs": [
        {
          "output_type": "execute_result",
          "data": {
            "text/plain": [
              "tensor(4., grad_fn=<PowBackward0>)"
            ]
          },
          "metadata": {},
          "execution_count": 72
        }
      ]
    },
    {
      "cell_type": "code",
      "source": [
        "y.backward()"
      ],
      "metadata": {
        "id": "PcCZvFoYvXei"
      },
      "execution_count": 73,
      "outputs": []
    },
    {
      "cell_type": "code",
      "source": [
        "x.grad\n",
        "\n",
        "# Now that's an issue cause it must be 4 not the 8\n",
        "# -> happen due to autograd not automatically clear the grad"
      ],
      "metadata": {
        "colab": {
          "base_uri": "https://localhost:8080/"
        },
        "id": "J7VnUhOJvZ5q",
        "outputId": "929deae5-4dca-4b7f-ffb8-3f9978a3628b"
      },
      "execution_count": 74,
      "outputs": [
        {
          "output_type": "execute_result",
          "data": {
            "text/plain": [
              "tensor(8.)"
            ]
          },
          "metadata": {},
          "execution_count": 74
        }
      ]
    },
    {
      "cell_type": "code",
      "source": [
        "#  x.grad.zero_() -> you can clear the grad and set to zero for new run"
      ],
      "metadata": {
        "id": "-72QLQm_va4j"
      },
      "execution_count": null,
      "outputs": []
    },
    {
      "cell_type": "markdown",
      "source": [
        "# Disable **Backward Tracking**"
      ],
      "metadata": {
        "id": "jDact0CkyA6_"
      }
    },
    {
      "cell_type": "code",
      "source": [
        "x = torch.tensor(2.0, requires_grad=True)\n",
        "x"
      ],
      "metadata": {
        "colab": {
          "base_uri": "https://localhost:8080/"
        },
        "id": "APetyz8DyBlD",
        "outputId": "71c0d112-d296-4d9b-b69f-1fa88a6686b9"
      },
      "execution_count": 75,
      "outputs": [
        {
          "output_type": "execute_result",
          "data": {
            "text/plain": [
              "tensor(2., requires_grad=True)"
            ]
          },
          "metadata": {},
          "execution_count": 75
        }
      ]
    },
    {
      "cell_type": "code",
      "source": [
        "y = x ** 2\n",
        "y"
      ],
      "metadata": {
        "colab": {
          "base_uri": "https://localhost:8080/"
        },
        "id": "2Yqmb9myyDQ9",
        "outputId": "8cc5efa0-6f62-4b88-84f6-b6bbe0f72f23"
      },
      "execution_count": 76,
      "outputs": [
        {
          "output_type": "execute_result",
          "data": {
            "text/plain": [
              "tensor(4., grad_fn=<PowBackward0>)"
            ]
          },
          "metadata": {},
          "execution_count": 76
        }
      ]
    },
    {
      "cell_type": "code",
      "source": [
        "y.backward()"
      ],
      "metadata": {
        "id": "jAo5CL2QyFUo"
      },
      "execution_count": 77,
      "outputs": []
    },
    {
      "cell_type": "code",
      "source": [
        "x.grad"
      ],
      "metadata": {
        "colab": {
          "base_uri": "https://localhost:8080/"
        },
        "id": "jNAq3_nkyIq7",
        "outputId": "6fbdce57-b98e-41ea-ac05-a2144e8217fb"
      },
      "execution_count": 78,
      "outputs": [
        {
          "output_type": "execute_result",
          "data": {
            "text/plain": [
              "tensor(4.)"
            ]
          },
          "metadata": {},
          "execution_count": 78
        }
      ]
    },
    {
      "cell_type": "code",
      "source": [
        "# Here your training is over now you just want the forward pass then,\n",
        "\n",
        "# You have 3-Options\n",
        "\n",
        "# 1) requires_grad(False)\n",
        "x.requires_grad_(False)"
      ],
      "metadata": {
        "colab": {
          "base_uri": "https://localhost:8080/"
        },
        "id": "E__-B6DzyMQF",
        "outputId": "c467b3cc-f8d4-47ea-e4f1-97d841653bb3"
      },
      "execution_count": 79,
      "outputs": [
        {
          "output_type": "execute_result",
          "data": {
            "text/plain": [
              "tensor(2.)"
            ]
          },
          "metadata": {},
          "execution_count": 79
        }
      ]
    },
    {
      "cell_type": "code",
      "source": [
        "y = x ** 2\n",
        "y\n",
        "# You can clearly seen there is no require_grad option there and you cannot call\n",
        "# the backward()"
      ],
      "metadata": {
        "colab": {
          "base_uri": "https://localhost:8080/"
        },
        "id": "nBRIPejVzXvN",
        "outputId": "2e9ffd47-6f93-4d08-9f09-3a5fa903bb73"
      },
      "execution_count": 82,
      "outputs": [
        {
          "output_type": "execute_result",
          "data": {
            "text/plain": [
              "tensor(4.)"
            ]
          },
          "metadata": {},
          "execution_count": 82
        }
      ]
    },
    {
      "cell_type": "code",
      "source": [
        "# 2) Detach()\n",
        "x = torch.tensor(2.0, requires_grad=True)\n",
        "x"
      ],
      "metadata": {
        "colab": {
          "base_uri": "https://localhost:8080/"
        },
        "id": "pxUUAVNHz8bZ",
        "outputId": "405739b3-4701-4e7a-c3f4-158bdc4f9dc2"
      },
      "execution_count": 87,
      "outputs": [
        {
          "output_type": "execute_result",
          "data": {
            "text/plain": [
              "tensor(2., requires_grad=True)"
            ]
          },
          "metadata": {},
          "execution_count": 87
        }
      ]
    },
    {
      "cell_type": "code",
      "source": [
        "z = x.detach()\n",
        "z"
      ],
      "metadata": {
        "colab": {
          "base_uri": "https://localhost:8080/"
        },
        "id": "S4bXpSwqzbL8",
        "outputId": "0ed45d2b-d39c-46c3-c3b5-5d98d5b32402"
      },
      "execution_count": 88,
      "outputs": [
        {
          "output_type": "execute_result",
          "data": {
            "text/plain": [
              "tensor(2.)"
            ]
          },
          "metadata": {},
          "execution_count": 88
        }
      ]
    },
    {
      "cell_type": "code",
      "source": [
        "y = x ** 2\n",
        "y"
      ],
      "metadata": {
        "colab": {
          "base_uri": "https://localhost:8080/"
        },
        "id": "5NaW6M5kz185",
        "outputId": "27f909ad-1182-463f-f0cd-cb917c0be92d"
      },
      "execution_count": 89,
      "outputs": [
        {
          "output_type": "execute_result",
          "data": {
            "text/plain": [
              "tensor(4., grad_fn=<PowBackward0>)"
            ]
          },
          "metadata": {},
          "execution_count": 89
        }
      ]
    },
    {
      "cell_type": "code",
      "source": [
        "y1 = z ** 2\n",
        "y1\n",
        "\n",
        "# But you cannot use the backward on the y1 but it apply on the y cause where you\n",
        "# uses the x not z and detach make the copy with false require_grad"
      ],
      "metadata": {
        "colab": {
          "base_uri": "https://localhost:8080/"
        },
        "id": "BB6Mrogtz31M",
        "outputId": "323dfaa9-f9ca-4704-c54e-bd95954d39f8"
      },
      "execution_count": 90,
      "outputs": [
        {
          "output_type": "execute_result",
          "data": {
            "text/plain": [
              "tensor(4.)"
            ]
          },
          "metadata": {},
          "execution_count": 90
        }
      ]
    },
    {
      "cell_type": "code",
      "source": [
        "# 3) call torch.no_grad()\n",
        "\n",
        "x = torch.tensor(2.0, requires_grad=True)\n",
        "x"
      ],
      "metadata": {
        "colab": {
          "base_uri": "https://localhost:8080/"
        },
        "id": "CuPpb5v70Jew",
        "outputId": "e56fc155-822e-416c-fc4f-65c2db4d02b0"
      },
      "execution_count": 91,
      "outputs": [
        {
          "output_type": "execute_result",
          "data": {
            "text/plain": [
              "tensor(2., requires_grad=True)"
            ]
          },
          "metadata": {},
          "execution_count": 91
        }
      ]
    },
    {
      "cell_type": "code",
      "source": [
        "with torch.no_grad():\n",
        "  y = x ** 2"
      ],
      "metadata": {
        "id": "wBZbszl71M6m"
      },
      "execution_count": 92,
      "outputs": []
    },
    {
      "cell_type": "code",
      "source": [
        "y"
      ],
      "metadata": {
        "colab": {
          "base_uri": "https://localhost:8080/"
        },
        "id": "S-5lk08t1W5G",
        "outputId": "f7d49df6-3deb-417c-992d-e340a25c056c"
      },
      "execution_count": 93,
      "outputs": [
        {
          "output_type": "execute_result",
          "data": {
            "text/plain": [
              "tensor(4.)"
            ]
          },
          "metadata": {},
          "execution_count": 93
        }
      ]
    },
    {
      "cell_type": "code",
      "source": [
        "# y.backward() -> Give you error but as you remove the with statement then there is tracking on and you\n",
        "# can call the backward() pass again"
      ],
      "metadata": {
        "id": "Ubolk6A71XYW"
      },
      "execution_count": 95,
      "outputs": []
    }
  ]
}